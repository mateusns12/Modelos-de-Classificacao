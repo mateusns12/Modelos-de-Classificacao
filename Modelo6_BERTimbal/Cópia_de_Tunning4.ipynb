{
  "nbformat": 4,
  "nbformat_minor": 0,
  "metadata": {
    "colab": {
      "name": "Cópia de Tunning4.ipynb",
      "provenance": [],
      "collapsed_sections": []
    },
    "kernelspec": {
      "name": "python3",
      "display_name": "Python 3"
    },
    "language_info": {
      "name": "python"
    },
    "accelerator": "GPU"
  },
  "cells": [
    {
      "cell_type": "code",
      "metadata": {
        "id": "St7i-s1k4LCW",
        "colab": {
          "base_uri": "https://localhost:8080/"
        },
        "outputId": "d949fca3-c7c6-420b-e1b7-f985f1973148"
      },
      "source": [
        "import tensorflow as tf\n",
        "from tensorflow import keras\n",
        "import numpy as np\n",
        "import matplotlib.pyplot as plt\n",
        "import time\n",
        "import pandas as pd\n",
        "import re\n",
        "import string\n",
        "!pip install nltk\n",
        "import nltk\n",
        "nltk.download('stopwords')\n",
        "from nltk.corpus import stopwords\n",
        "from collections import Counter\n",
        "from tensorflow.keras.preprocessing.text import Tokenizer\n",
        "from tensorflow.keras.preprocessing.sequence import pad_sequences\n",
        "from tensorflow.keras import layers\n",
        "import time"
      ],
      "execution_count": null,
      "outputs": [
        {
          "output_type": "stream",
          "name": "stdout",
          "text": [
            "Requirement already satisfied: nltk in /usr/local/lib/python3.7/dist-packages (3.2.5)\n",
            "Requirement already satisfied: six in /usr/local/lib/python3.7/dist-packages (from nltk) (1.15.0)\n",
            "[nltk_data] Downloading package stopwords to /root/nltk_data...\n",
            "[nltk_data]   Package stopwords is already up-to-date!\n"
          ]
        }
      ]
    },
    {
      "cell_type": "code",
      "metadata": {
        "id": "VW0tZ-ji4Ddl"
      },
      "source": [
        "def get_data(nome_arquivo,shuffle):\n",
        "    ds = pd.read_csv(nome_arquivo,encoding=\"utf-8\")\n",
        "    if shuffle:\n",
        "        ds = ds.sample(frac=1)\n",
        "    ds['texto'] = ds['texto'].apply(str)\n",
        "    return ds"
      ],
      "execution_count": null,
      "outputs": []
    },
    {
      "cell_type": "code",
      "metadata": {
        "id": "vTdYdIzU4HQB"
      },
      "source": [
        "stop = set(stopwords.words(\"portuguese\"))\n",
        "\n",
        "def remove_stopwords(text):\n",
        "    filtered_words = [word.lower() for word in text.split() if word.lower() not in stop]\n",
        "    return \" \".join(filtered_words)\n",
        "\n",
        "def remove_URL(text):\n",
        "    url = re.compile(r\"https?://\\S+|www\\.\\S+\")\n",
        "    return url.sub(r\"\",text)\n",
        "\n",
        "def remove_punct(text):\n",
        "    translator = str.maketrans(\"\",\"\",'!\"\"#$%&\\'()*+,./:;<=>?@[\\\\]^_`{|}~º')\n",
        "    translator = str.maketrans(\"\",\"\",'!\"\"#$%&\\'()*+,./:;<=>?@[\\\\]^_`{|}~º')\n",
        "    return text.translate(translator)\n",
        "\n",
        "def remove_numbers(text):\n",
        "    result = ''.join([i for i in text if not i.isdigit()])\n",
        "    return result\n",
        "\n",
        "def remove_hifen(text):\n",
        "    translator = str.maketrans('-',' ')\n",
        "    return text.translate(translator)"
      ],
      "execution_count": null,
      "outputs": []
    },
    {
      "cell_type": "code",
      "metadata": {
        "id": "gpf42XCq4JGJ"
      },
      "source": [
        "pattern = re.compile(r\"https?//(\\S+|www)\\.\\S+\")\n",
        "def pat(df_t):\n",
        "    for t in df_t.texto:\n",
        "        matches = pattern.findall(t)\n",
        "        for match in  matches:\n",
        "            print(t)\n",
        "            print(match)\n",
        "            print(pattern.sub(r\"\",t))        \n",
        "        if len(matches)> 0:\n",
        "            break"
      ],
      "execution_count": null,
      "outputs": []
    },
    {
      "cell_type": "code",
      "metadata": {
        "id": "V4kycuwr4K95"
      },
      "source": [
        "def make_test(df_t):\n",
        "    df_t[\"texto\"] = df_t.texto.map(remove_URL)\n",
        "    #df_t[\"texto\"] = df_t.texto.map(remove_punct)\n",
        "    df_t[\"texto\"] = df_t.texto.map(remove_hifen)\n",
        "    #df_t[\"texto\"] = df_t.texto.map(remove_numbers)\n",
        "    df_t[\"texto\"] = df_t.texto.map(remove_stopwords)"
      ],
      "execution_count": null,
      "outputs": []
    },
    {
      "cell_type": "code",
      "metadata": {
        "id": "dYRWKyg34NXJ"
      },
      "source": [
        "def counter_word(text_col):\n",
        "    count = Counter()\n",
        "    for text in text_col.values:\n",
        "        for word in text.split():\n",
        "            count[word] += 1\n",
        "    return count"
      ],
      "execution_count": null,
      "outputs": []
    },
    {
      "cell_type": "code",
      "metadata": {
        "id": "F6onyyqC4N-x"
      },
      "source": [
        "def data_split(df,size):\n",
        "    train_size = int(df.shape[0]*size)\n",
        "    train_df = df[:train_size]\n",
        "    val_df = df[train_size:]\n",
        "    return train_df, val_df"
      ],
      "execution_count": null,
      "outputs": []
    },
    {
      "cell_type": "code",
      "metadata": {
        "id": "olBxrTxQnZPA"
      },
      "source": [
        "def precision(test_labels,predictions):\n",
        "    counter = len(test_labels)\n",
        "    list_c = [i for i,j in zip(predictions,test_labels) if i == j]\n",
        "    return len(list_c)/counter*100"
      ],
      "execution_count": null,
      "outputs": []
    },
    {
      "cell_type": "code",
      "metadata": {
        "id": "quKozKW-2vTJ"
      },
      "source": [
        "def prepare(teste):\n",
        "    teste = remove_URL(teste)\n",
        "    #teste = remove_punct(teste)\n",
        "    teste = remove_hifen(teste)\n",
        "    teste = remove_stopwords(teste)    \n",
        "    return teste"
      ],
      "execution_count": null,
      "outputs": []
    },
    {
      "cell_type": "code",
      "metadata": {
        "id": "ZBm8fUHG4T3R"
      },
      "source": [
        "df = get_data('train.csv',1)"
      ],
      "execution_count": null,
      "outputs": []
    },
    {
      "cell_type": "code",
      "metadata": {
        "colab": {
          "base_uri": "https://localhost:8080/"
        },
        "id": "sVo7iI1x4WH5",
        "outputId": "9f5fa0aa-1da7-4d65-a0ca-d825b81b00cc"
      },
      "source": [
        "df.shape"
      ],
      "execution_count": null,
      "outputs": [
        {
          "output_type": "execute_result",
          "data": {
            "text/plain": [
              "(820, 2)"
            ]
          },
          "metadata": {},
          "execution_count": 125
        }
      ]
    },
    {
      "cell_type": "code",
      "metadata": {
        "colab": {
          "base_uri": "https://localhost:8080/",
          "height": 204
        },
        "id": "Xm8hrfkn4XbB",
        "outputId": "0c949ed1-5eb0-4598-895d-c802ad2846c0"
      },
      "source": [
        "df.head()"
      ],
      "execution_count": null,
      "outputs": [
        {
          "output_type": "execute_result",
          "data": {
            "text/html": [
              "<div>\n",
              "<style scoped>\n",
              "    .dataframe tbody tr th:only-of-type {\n",
              "        vertical-align: middle;\n",
              "    }\n",
              "\n",
              "    .dataframe tbody tr th {\n",
              "        vertical-align: top;\n",
              "    }\n",
              "\n",
              "    .dataframe thead th {\n",
              "        text-align: right;\n",
              "    }\n",
              "</style>\n",
              "<table border=\"1\" class=\"dataframe\">\n",
              "  <thead>\n",
              "    <tr style=\"text-align: right;\">\n",
              "      <th></th>\n",
              "      <th>valor</th>\n",
              "      <th>texto</th>\n",
              "    </tr>\n",
              "  </thead>\n",
              "  <tbody>\n",
              "    <tr>\n",
              "      <th>15</th>\n",
              "      <td>1</td>\n",
              "      <td>Pinças ópticas têm sido utilizadas para o apri...</td>\n",
              "    </tr>\n",
              "    <tr>\n",
              "      <th>16</th>\n",
              "      <td>1</td>\n",
              "      <td>O trabalho aborda estudos iniciais para elabor...</td>\n",
              "    </tr>\n",
              "    <tr>\n",
              "      <th>126</th>\n",
              "      <td>1</td>\n",
              "      <td>Este trabalho propõe a avaliação de desempenho...</td>\n",
              "    </tr>\n",
              "    <tr>\n",
              "      <th>419</th>\n",
              "      <td>0</td>\n",
              "      <td>Atualmente, o estudo da viabilidade da instala...</td>\n",
              "    </tr>\n",
              "    <tr>\n",
              "      <th>665</th>\n",
              "      <td>0</td>\n",
              "      <td>O presente trabalho teve por objetivo estudar ...</td>\n",
              "    </tr>\n",
              "  </tbody>\n",
              "</table>\n",
              "</div>"
            ],
            "text/plain": [
              "     valor                                              texto\n",
              "15       1  Pinças ópticas têm sido utilizadas para o apri...\n",
              "16       1  O trabalho aborda estudos iniciais para elabor...\n",
              "126      1  Este trabalho propõe a avaliação de desempenho...\n",
              "419      0  Atualmente, o estudo da viabilidade da instala...\n",
              "665      0  O presente trabalho teve por objetivo estudar ..."
            ]
          },
          "metadata": {},
          "execution_count": 126
        }
      ]
    },
    {
      "cell_type": "code",
      "metadata": {
        "colab": {
          "base_uri": "https://localhost:8080/"
        },
        "id": "Iahsk-U64wvB",
        "outputId": "2dedffd4-b2a8-429a-9066-f1313cc94228"
      },
      "source": [
        "len(df)"
      ],
      "execution_count": null,
      "outputs": [
        {
          "output_type": "execute_result",
          "data": {
            "text/plain": [
              "820"
            ]
          },
          "metadata": {},
          "execution_count": 127
        }
      ]
    },
    {
      "cell_type": "code",
      "metadata": {
        "id": "P4aYjvb2B9yd"
      },
      "source": [
        "pat(df)\n",
        "make_test(df)"
      ],
      "execution_count": null,
      "outputs": []
    },
    {
      "cell_type": "code",
      "metadata": {
        "colab": {
          "base_uri": "https://localhost:8080/",
          "height": 403
        },
        "id": "qBLezA7_5hMQ",
        "outputId": "ce2c5047-e720-4074-93dc-8ee5e70d79a7"
      },
      "source": [
        "import seaborn as sns\n",
        "seqlen = df['texto'].apply(lambda x: len(x.split()))\n",
        "sns.set_style('darkgrid')\n",
        "plt.figure(figsize=(16,10))\n",
        "sns.displot(seqlen)"
      ],
      "execution_count": null,
      "outputs": [
        {
          "output_type": "execute_result",
          "data": {
            "text/plain": [
              "<seaborn.axisgrid.FacetGrid at 0x7f3140f14a90>"
            ]
          },
          "metadata": {},
          "execution_count": 129
        },
        {
          "output_type": "display_data",
          "data": {
            "text/plain": [
              "<Figure size 1152x720 with 0 Axes>"
            ]
          },
          "metadata": {}
        },
        {
          "output_type": "display_data",
          "data": {
            "image/png": "[encoded data removed]",
            "text/plain": [
              "<Figure size 360x360 with 1 Axes>"
            ]
          },
          "metadata": {}
        }
      ]
    },
    {
      "cell_type": "code",
      "metadata": {
        "id": "YUPJZe_b7dzN"
      },
      "source": [
        "SEQ_LEN = 200"
      ],
      "execution_count": null,
      "outputs": []
    },
    {
      "cell_type": "code",
      "metadata": {
        "colab": {
          "base_uri": "https://localhost:8080/"
        },
        "id": "RIrlSnXj7hv1",
        "outputId": "9c14b7dd-ce49-4e6d-c265-69b6c2252db0"
      },
      "source": [
        "!pip install transformers\n",
        "from transformers import AutoTokenizer"
      ],
      "execution_count": null,
      "outputs": [
        {
          "output_type": "stream",
          "name": "stdout",
          "text": [
            "Requirement already satisfied: transformers in /usr/local/lib/python3.7/dist-packages (4.11.3)\n",
            "Requirement already satisfied: packaging>=20.0 in /usr/local/lib/python3.7/dist-packages (from transformers) (21.0)\n",
            "Requirement already satisfied: importlib-metadata in /usr/local/lib/python3.7/dist-packages (from transformers) (4.8.1)\n",
            "Requirement already satisfied: tokenizers<0.11,>=0.10.1 in /usr/local/lib/python3.7/dist-packages (from transformers) (0.10.3)\n",
            "Requirement already satisfied: requests in /usr/local/lib/python3.7/dist-packages (from transformers) (2.23.0)\n",
            "Requirement already satisfied: numpy>=1.17 in /usr/local/lib/python3.7/dist-packages (from transformers) (1.19.5)\n",
            "Requirement already satisfied: regex!=2019.12.17 in /usr/local/lib/python3.7/dist-packages (from transformers) (2019.12.20)\n",
            "Requirement already satisfied: huggingface-hub>=0.0.17 in /usr/local/lib/python3.7/dist-packages (from transformers) (0.0.19)\n",
            "Requirement already satisfied: pyyaml>=5.1 in /usr/local/lib/python3.7/dist-packages (from transformers) (6.0)\n",
            "Requirement already satisfied: sacremoses in /usr/local/lib/python3.7/dist-packages (from transformers) (0.0.46)\n",
            "Requirement already satisfied: filelock in /usr/local/lib/python3.7/dist-packages (from transformers) (3.3.0)\n",
            "Requirement already satisfied: tqdm>=4.27 in /usr/local/lib/python3.7/dist-packages (from transformers) (4.62.3)\n",
            "Requirement already satisfied: typing-extensions in /usr/local/lib/python3.7/dist-packages (from huggingface-hub>=0.0.17->transformers) (3.7.4.3)\n",
            "Requirement already satisfied: pyparsing>=2.0.2 in /usr/local/lib/python3.7/dist-packages (from packaging>=20.0->transformers) (2.4.7)\n",
            "Requirement already satisfied: zipp>=0.5 in /usr/local/lib/python3.7/dist-packages (from importlib-metadata->transformers) (3.6.0)\n",
            "Requirement already satisfied: idna<3,>=2.5 in /usr/local/lib/python3.7/dist-packages (from requests->transformers) (2.10)\n",
            "Requirement already satisfied: chardet<4,>=3.0.2 in /usr/local/lib/python3.7/dist-packages (from requests->transformers) (3.0.4)\n",
            "Requirement already satisfied: certifi>=2017.4.17 in /usr/local/lib/python3.7/dist-packages (from requests->transformers) (2021.5.30)\n",
            "Requirement already satisfied: urllib3!=1.25.0,!=1.25.1,<1.26,>=1.21.1 in /usr/local/lib/python3.7/dist-packages (from requests->transformers) (1.24.3)\n",
            "Requirement already satisfied: click in /usr/local/lib/python3.7/dist-packages (from sacremoses->transformers) (7.1.2)\n",
            "Requirement already satisfied: six in /usr/local/lib/python3.7/dist-packages (from sacremoses->transformers) (1.15.0)\n",
            "Requirement already satisfied: joblib in /usr/local/lib/python3.7/dist-packages (from sacremoses->transformers) (1.0.1)\n"
          ]
        }
      ]
    },
    {
      "cell_type": "code",
      "metadata": {
        "id": "SSGDft-c7qil"
      },
      "source": [
        "tokenizer = AutoTokenizer.from_pretrained('neuralmind/bert-base-portuguese-cased')"
      ],
      "execution_count": null,
      "outputs": []
    },
    {
      "cell_type": "code",
      "metadata": {
        "id": "T7t-IPe577sl"
      },
      "source": [
        "tokens = tokenizer.encode_plus(\"Este trabalho aborda sistemas de energia\", max_length=10, truncation= True, padding=\"max_length\", \n",
        "                               add_special_tokens= True, return_token_type_ids= False, return_attention_mask= True, return_tensors= 'tf')"
      ],
      "execution_count": null,
      "outputs": []
    },
    {
      "cell_type": "code",
      "metadata": {
        "id": "d6-VgRJU9H7a"
      },
      "source": [
        "Xids = np.zeros((len(df),SEQ_LEN))\n",
        "Xmask = np.zeros((len(df),SEQ_LEN))"
      ],
      "execution_count": null,
      "outputs": []
    },
    {
      "cell_type": "code",
      "metadata": {
        "colab": {
          "base_uri": "https://localhost:8080/"
        },
        "id": "jRvv3H279_Ta",
        "outputId": "72d34110-a481-4d99-b75f-59b3a2923543"
      },
      "source": [
        "Xids.shape"
      ],
      "execution_count": null,
      "outputs": [
        {
          "output_type": "execute_result",
          "data": {
            "text/plain": [
              "(820, 200)"
            ]
          },
          "metadata": {},
          "execution_count": 135
        }
      ]
    },
    {
      "cell_type": "code",
      "metadata": {
        "id": "IQkZYqOn-CGh"
      },
      "source": [
        "for i, sequence in enumerate(df['texto']):\n",
        "    tokens = tokenizer.encode_plus(sequence, max_length=SEQ_LEN, truncation= True, padding=\"max_length\", \n",
        "                               add_special_tokens= True, return_token_type_ids= False, return_attention_mask= True, return_tensors= 'tf')\n",
        "    Xids[i,:], Xmask[i,:] = tokens['input_ids'], tokens['attention_mask']"
      ],
      "execution_count": null,
      "outputs": []
    },
    {
      "cell_type": "code",
      "metadata": {
        "colab": {
          "base_uri": "https://localhost:8080/"
        },
        "id": "0Te6JcyQ_ivQ",
        "outputId": "41f7d4ae-b43a-48cf-b537-c57ac1b1b36a"
      },
      "source": [
        "Xids"
      ],
      "execution_count": null,
      "outputs": [
        {
          "output_type": "execute_result",
          "data": {
            "text/plain": [
              "array([[  101., 13718.,   759., ...,  8788.,   266.,   102.],\n",
              "       [  101.,  1223.,  5516., ...,     0.,     0.,     0.],\n",
              "       [  101.,  1223., 14290., ..., 21520.,   300.,   102.],\n",
              "       ...,\n",
              "       [  101.,  1223.,  4159., ...,     0.,     0.,     0.],\n",
              "       [  101.,  3232.,   481., ...,  2401.,  8823.,   102.],\n",
              "       [  101.,  2499.,  7203., ...,     0.,     0.,     0.]])"
            ]
          },
          "metadata": {},
          "execution_count": 137
        }
      ]
    },
    {
      "cell_type": "code",
      "metadata": {
        "colab": {
          "base_uri": "https://localhost:8080/"
        },
        "id": "IBFCNpnh_sN4",
        "outputId": "930c7441-fe1c-49bb-a9c8-4464f56559e7"
      },
      "source": [
        "Xmask"
      ],
      "execution_count": null,
      "outputs": [
        {
          "output_type": "execute_result",
          "data": {
            "text/plain": [
              "array([[1., 1., 1., ..., 1., 1., 1.],\n",
              "       [1., 1., 1., ..., 0., 0., 0.],\n",
              "       [1., 1., 1., ..., 1., 1., 1.],\n",
              "       ...,\n",
              "       [1., 1., 1., ..., 0., 0., 0.],\n",
              "       [1., 1., 1., ..., 1., 1., 1.],\n",
              "       [1., 1., 1., ..., 0., 0., 0.]])"
            ]
          },
          "metadata": {},
          "execution_count": 138
        }
      ]
    },
    {
      "cell_type": "code",
      "metadata": {
        "colab": {
          "base_uri": "https://localhost:8080/"
        },
        "id": "URgGfxa0_t8n",
        "outputId": "db5e3a12-a210-4404-e3bc-2184a111d29f"
      },
      "source": [
        "df['valor'].unique"
      ],
      "execution_count": null,
      "outputs": [
        {
          "output_type": "execute_result",
          "data": {
            "text/plain": [
              "<bound method Series.unique of 15     1\n",
              "16     1\n",
              "126    1\n",
              "419    0\n",
              "665    0\n",
              "      ..\n",
              "225    1\n",
              "522    0\n",
              "204    1\n",
              "68     1\n",
              "616    0\n",
              "Name: valor, Length: 820, dtype: int64>"
            ]
          },
          "metadata": {},
          "execution_count": 139
        }
      ]
    },
    {
      "cell_type": "code",
      "metadata": {
        "id": "-BJyY9wbBJvm",
        "colab": {
          "base_uri": "https://localhost:8080/"
        },
        "outputId": "608032b7-486a-4be7-cd05-ffa257791c19"
      },
      "source": [
        "arr = df['valor'].values\n",
        "arr.size"
      ],
      "execution_count": null,
      "outputs": [
        {
          "output_type": "execute_result",
          "data": {
            "text/plain": [
              "820"
            ]
          },
          "metadata": {},
          "execution_count": 140
        }
      ]
    },
    {
      "cell_type": "code",
      "metadata": {
        "colab": {
          "base_uri": "https://localhost:8080/"
        },
        "id": "_A6SDVV9CxMU",
        "outputId": "11f079b7-2300-4526-a749-aa5b9137e831"
      },
      "source": [
        "labels = np.zeros((arr.size, arr.max()+1))\n",
        "labels.shape"
      ],
      "execution_count": null,
      "outputs": [
        {
          "output_type": "execute_result",
          "data": {
            "text/plain": [
              "(820, 2)"
            ]
          },
          "metadata": {},
          "execution_count": 141
        }
      ]
    },
    {
      "cell_type": "code",
      "metadata": {
        "id": "qOKDFuojDK3T",
        "colab": {
          "base_uri": "https://localhost:8080/"
        },
        "outputId": "8582895d-3aa5-4b6b-84f3-2d7fdb6e6a11"
      },
      "source": [
        "labels[np.arange(arr.size),arr] = 1\n",
        "labels"
      ],
      "execution_count": null,
      "outputs": [
        {
          "output_type": "execute_result",
          "data": {
            "text/plain": [
              "array([[0., 1.],\n",
              "       [0., 1.],\n",
              "       [0., 1.],\n",
              "       ...,\n",
              "       [0., 1.],\n",
              "       [0., 1.],\n",
              "       [1., 0.]])"
            ]
          },
          "metadata": {},
          "execution_count": 142
        }
      ]
    },
    {
      "cell_type": "code",
      "metadata": {
        "id": "6XYXnyYqDbDS"
      },
      "source": [
        "with open('xids.npy','wb') as f:\n",
        "  np.save(f,Xids)\n",
        "with open('xmask.npy','wb') as f:\n",
        "  np.save(f,Xmask)\n",
        "with open('labels.npy','wb') as f:\n",
        "  np.save(f,labels)"
      ],
      "execution_count": null,
      "outputs": []
    },
    {
      "cell_type": "code",
      "metadata": {
        "id": "EcDwhsjiHCjP"
      },
      "source": [
        "del Xids, Xmask, labels"
      ],
      "execution_count": null,
      "outputs": []
    },
    {
      "cell_type": "code",
      "metadata": {
        "id": "PtBzDoSEEXBK"
      },
      "source": [
        "with open('xids.npy','rb') as fp:\n",
        "  Xids = np.load(fp)\n",
        "with open('xmask.npy','rb') as fp:\n",
        "  Xmask = np.load(fp)\n",
        "with open('labels.npy','rb') as fp:\n",
        "  labels = np.load(fp)"
      ],
      "execution_count": null,
      "outputs": []
    },
    {
      "cell_type": "code",
      "metadata": {
        "id": "m3eqIZNsIJul"
      },
      "source": [
        "dataset = tf.data.Dataset.from_tensor_slices((Xids,Xmask,labels))"
      ],
      "execution_count": null,
      "outputs": []
    },
    {
      "cell_type": "code",
      "metadata": {
        "id": "RcgMy828IqoE"
      },
      "source": [
        "#for i in dataset.take(1):\n",
        "  #print(i)"
      ],
      "execution_count": null,
      "outputs": []
    },
    {
      "cell_type": "code",
      "metadata": {
        "id": "U2oRBl9gIzXM"
      },
      "source": [
        "def map_function(input_ids,mask,labels):\n",
        "  return {'input_ids':input_ids, 'attention_mask':mask}, labels"
      ],
      "execution_count": null,
      "outputs": []
    },
    {
      "cell_type": "code",
      "metadata": {
        "id": "XFoVzv-_6hYb"
      },
      "source": [
        "def remap_function(input_ids,mask):\n",
        "  return {'input_ids':input_ids,'attention_mask':mask}"
      ],
      "execution_count": null,
      "outputs": []
    },
    {
      "cell_type": "code",
      "metadata": {
        "id": "LK80Gd43JcKr"
      },
      "source": [
        "dataset = dataset.map(map_function)"
      ],
      "execution_count": null,
      "outputs": []
    },
    {
      "cell_type": "code",
      "metadata": {
        "colab": {
          "base_uri": "https://localhost:8080/"
        },
        "id": "cCyhvJBMJW4N",
        "outputId": "82f85444-97af-44dd-adb2-07242f08d165"
      },
      "source": [
        "for i in dataset.take(1):\n",
        "  print(i)"
      ],
      "execution_count": null,
      "outputs": [
        {
          "output_type": "stream",
          "name": "stdout",
          "text": [
            "({'input_ids': <tf.Tensor: shape=(200,), dtype=float64, numpy=\n",
            "array([  101., 13718.,   759., 20814., 22281.,  1854.,   908.,  7671.,\n",
            "       14067.,  1845., 18466.,  8536.,  5768.,  7247., 11649., 22281.,\n",
            "         229.,   300.,  7247., 11649., 22281.,  9291.,  7742.,  2070.,\n",
            "        2276., 16177.,   117.,  7930.,   117.,  4810.,  7504.,   119.,\n",
            "        2086.,  3385.,  2996., 14523., 20638.,  3093.,   852.,   442.,\n",
            "        1854.,   908., 20473.,  2630.,  4457., 13281.,  3077., 18466.,\n",
            "         117.,  3674.,  2996., 14523.,   760., 15173.,  2996.,  2650.,\n",
            "        5294., 22281., 10372.,  1229.,  6626.,  1589.,  5678.,   117.,\n",
            "        5966.,  2143., 11577., 19330.,   933.,   119.,  5180.,  3308.,\n",
            "        2811.,  6797.,  4719.,  5584., 19291., 22281.,   498.,  8040.,\n",
            "        7504.,  6854., 10779.,   117.,  2630.,  2811.,  1223.,  7218.,\n",
            "        1756., 11573., 10712.,  2376., 20814., 22281.,  4130., 20814.,\n",
            "       12894.,  8255., 10367.,  2996., 14523., 16611.,  2860., 10116.,\n",
            "        2244., 11717.,   647.,   342.,   498.,  8536., 15518.,  8663.,\n",
            "         434.,   178., 11422., 11002.,  7575., 22279.,   138.,   119.,\n",
            "        1166.,  1659.,   117., 20002.,  2244.,  4438.,  2996., 14523.,\n",
            "        8113.,  2403.,  7172.,  3944., 20814.,   119.,  4115., 16806.,\n",
            "         939.,  3216.,   498.,  6797.,  8040.,   117.,  3099., 15684.,\n",
            "        6911.,  2182.,  2996.,  2650., 16332.,   872., 22343., 19562.,\n",
            "        5972.,  8014., 13200.,  4243.,  8999.,   119.,  2099.,  8783.,\n",
            "        6820., 10450., 21070.,  2046.,  2244.,   117.,  2376., 20814.,\n",
            "       22281., 10315.,   401.,  4130., 20814., 12894.,  8255., 15037.,\n",
            "         333., 16230., 22281.,  3025., 19642.,  2093.,   547.,  5416.,\n",
            "         682.,  5868.,  1372.,   820., 11783., 17098.,   565.,  2926.,\n",
            "         760.,   737.,   119., 11573.,  5250.,  8788.,   266.,   102.])>, 'attention_mask': <tf.Tensor: shape=(200,), dtype=float64, numpy=\n",
            "array([1., 1., 1., 1., 1., 1., 1., 1., 1., 1., 1., 1., 1., 1., 1., 1., 1.,\n",
            "       1., 1., 1., 1., 1., 1., 1., 1., 1., 1., 1., 1., 1., 1., 1., 1., 1.,\n",
            "       1., 1., 1., 1., 1., 1., 1., 1., 1., 1., 1., 1., 1., 1., 1., 1., 1.,\n",
            "       1., 1., 1., 1., 1., 1., 1., 1., 1., 1., 1., 1., 1., 1., 1., 1., 1.,\n",
            "       1., 1., 1., 1., 1., 1., 1., 1., 1., 1., 1., 1., 1., 1., 1., 1., 1.,\n",
            "       1., 1., 1., 1., 1., 1., 1., 1., 1., 1., 1., 1., 1., 1., 1., 1., 1.,\n",
            "       1., 1., 1., 1., 1., 1., 1., 1., 1., 1., 1., 1., 1., 1., 1., 1., 1.,\n",
            "       1., 1., 1., 1., 1., 1., 1., 1., 1., 1., 1., 1., 1., 1., 1., 1., 1.,\n",
            "       1., 1., 1., 1., 1., 1., 1., 1., 1., 1., 1., 1., 1., 1., 1., 1., 1.,\n",
            "       1., 1., 1., 1., 1., 1., 1., 1., 1., 1., 1., 1., 1., 1., 1., 1., 1.,\n",
            "       1., 1., 1., 1., 1., 1., 1., 1., 1., 1., 1., 1., 1., 1., 1., 1., 1.,\n",
            "       1., 1., 1., 1., 1., 1., 1., 1., 1., 1., 1., 1., 1.])>}, <tf.Tensor: shape=(2,), dtype=float64, numpy=array([0., 1.])>)\n"
          ]
        }
      ]
    },
    {
      "cell_type": "code",
      "metadata": {
        "id": "w7PDvpYKJ5eM"
      },
      "source": [
        "dataset = dataset.shuffle(10000).batch(2)"
      ],
      "execution_count": null,
      "outputs": []
    },
    {
      "cell_type": "code",
      "metadata": {
        "colab": {
          "base_uri": "https://localhost:8080/"
        },
        "id": "F5AJNTz5LxJx",
        "outputId": "f5d8054a-5343-4a07-8b73-cc503881c858"
      },
      "source": [
        "DS_LEN = len(list(dataset))\n",
        "DS_LEN"
      ],
      "execution_count": null,
      "outputs": [
        {
          "output_type": "execute_result",
          "data": {
            "text/plain": [
              "410"
            ]
          },
          "metadata": {},
          "execution_count": 153
        }
      ]
    },
    {
      "cell_type": "code",
      "metadata": {
        "id": "5T3kveJML89R"
      },
      "source": [
        "split = .9\n",
        "train = dataset.take(round(DS_LEN*split))\n",
        "val = dataset.skip(round(DS_LEN*split))"
      ],
      "execution_count": null,
      "outputs": []
    },
    {
      "cell_type": "code",
      "metadata": {
        "colab": {
          "base_uri": "https://localhost:8080/"
        },
        "id": "QN4JkrehMf-C",
        "outputId": "8098cb61-b7ea-4034-e4b2-e2f022231608"
      },
      "source": [
        "from transformers import TFAutoModel\n",
        "bert = TFAutoModel.from_pretrained('neuralmind/bert-base-portuguese-cased', from_pt= True)"
      ],
      "execution_count": null,
      "outputs": [
        {
          "output_type": "stream",
          "name": "stderr",
          "text": [
            "Some weights of the PyTorch model were not used when initializing the TF 2.0 model TFBertModel: ['cls.predictions.transform.dense.weight', 'cls.predictions.transform.dense.bias', 'cls.seq_relationship.weight', 'cls.predictions.transform.LayerNorm.weight', 'cls.predictions.bias', 'cls.seq_relationship.bias', 'cls.predictions.transform.LayerNorm.bias', 'cls.predictions.decoder.weight']\n",
            "- This IS expected if you are initializing TFBertModel from a PyTorch model trained on another task or with another architecture (e.g. initializing a TFBertForSequenceClassification model from a BertForPreTraining model).\n",
            "- This IS NOT expected if you are initializing TFBertModel from a PyTorch model that you expect to be exactly identical (e.g. initializing a TFBertForSequenceClassification model from a BertForSequenceClassification model).\n",
            "All the weights of TFBertModel were initialized from the PyTorch model.\n",
            "If your task is similar to the task the model of the checkpoint was trained on, you can already use TFBertModel for predictions without further training.\n"
          ]
        }
      ]
    },
    {
      "cell_type": "code",
      "metadata": {
        "id": "AdyKKzi5NdRw"
      },
      "source": [
        "input_ids = tf.keras.layers.Input(shape=(SEQ_LEN,),name='input_ids', dtype='int32')\n",
        "mask = tf.keras.layers.Input(shape=(SEQ_LEN,),name='attention_mask', dtype='int32')\n",
        "\n",
        "embeddings = bert(input_ids, attention_mask = mask)[0]\n",
        "\n",
        "X = tf.keras.layers.GlobalMaxPool1D()(embeddings)\n",
        "X = tf.keras.layers.BatchNormalization()(X)\n",
        "X = tf.keras.layers.Dense(64, activation='relu')(X)\n",
        "X = tf.keras.layers.Dropout(0.1)(X)\n",
        "X = tf.keras.layers.Dense(32, activation='relu')(X)\n",
        "Y = tf.keras.layers.Dense(2, activation='softmax', name='outputs')(X)\n",
        "\n",
        "model = tf.keras.Model(inputs=[input_ids,mask],outputs=Y)"
      ],
      "execution_count": null,
      "outputs": []
    },
    {
      "cell_type": "code",
      "metadata": {
        "id": "iITBQnAs08aE"
      },
      "source": [
        "model.layers[2].trainable = False"
      ],
      "execution_count": null,
      "outputs": []
    },
    {
      "cell_type": "code",
      "metadata": {
        "colab": {
          "base_uri": "https://localhost:8080/"
        },
        "id": "IY9L67cA1MUK",
        "outputId": "d4c7b733-d4b8-4f99-9f1e-e4b3f6e5c224"
      },
      "source": [
        "model.summary()"
      ],
      "execution_count": null,
      "outputs": [
        {
          "output_type": "stream",
          "name": "stdout",
          "text": [
            "Model: \"model_2\"\n",
            "__________________________________________________________________________________________________\n",
            "Layer (type)                    Output Shape         Param #     Connected to                     \n",
            "==================================================================================================\n",
            "input_ids (InputLayer)          [(None, 200)]        0                                            \n",
            "__________________________________________________________________________________________________\n",
            "attention_mask (InputLayer)     [(None, 200)]        0                                            \n",
            "__________________________________________________________________________________________________\n",
            "tf_bert_model_5 (TFBertModel)   TFBaseModelOutputWit 108923136   input_ids[0][0]                  \n",
            "                                                                 attention_mask[0][0]             \n",
            "__________________________________________________________________________________________________\n",
            "global_max_pooling1d_2 (GlobalM (None, 768)          0           tf_bert_model_5[0][0]            \n",
            "__________________________________________________________________________________________________\n",
            "batch_normalization_2 (BatchNor (None, 768)          3072        global_max_pooling1d_2[0][0]     \n",
            "__________________________________________________________________________________________________\n",
            "dense_4 (Dense)                 (None, 64)           49216       batch_normalization_2[0][0]      \n",
            "__________________________________________________________________________________________________\n",
            "dropout_261 (Dropout)           (None, 64)           0           dense_4[0][0]                    \n",
            "__________________________________________________________________________________________________\n",
            "dense_5 (Dense)                 (None, 32)           2080        dropout_261[0][0]                \n",
            "__________________________________________________________________________________________________\n",
            "outputs (Dense)                 (None, 2)            66          dense_5[0][0]                    \n",
            "==================================================================================================\n",
            "Total params: 108,977,570\n",
            "Trainable params: 52,898\n",
            "Non-trainable params: 108,924,672\n",
            "__________________________________________________________________________________________________\n"
          ]
        }
      ]
    },
    {
      "cell_type": "code",
      "metadata": {
        "colab": {
          "base_uri": "https://localhost:8080/"
        },
        "id": "AvYziQr41QAr",
        "outputId": "2815c464-feb0-408e-ad5b-a61c10744e79"
      },
      "source": [
        "optimizer = tf.keras.optimizers.Adam(0.001,decay=1e-6)\n",
        "loss = tf.keras.losses.CategoricalCrossentropy()  # categorical = one-hot\n",
        "acc = tf.keras.metrics.CategoricalAccuracy('accuracy')\n",
        "\n",
        "model.compile(optimizer=optimizer, loss=loss, metrics=[acc])\n",
        "\n",
        "import time\n",
        "start = time.perf_counter()\n",
        "\n",
        "history = model.fit(train, validation_data=val, epochs=50, verbose = 2)\n",
        "\n",
        "finish = time.perf_counter()\n",
        "print(f'\\nFinished in {round(finish-start, 2)} second(s)')"
      ],
      "execution_count": null,
      "outputs": [
        {
          "output_type": "stream",
          "name": "stdout",
          "text": [
            "Epoch 1/50\n",
            "369/369 - 62s - loss: 0.7286 - accuracy: 0.5921 - val_loss: 0.4687 - val_accuracy: 0.7317\n",
            "Epoch 2/50\n",
            "369/369 - 40s - loss: 0.6418 - accuracy: 0.6585 - val_loss: 0.4790 - val_accuracy: 0.7439\n",
            "Epoch 3/50\n",
            "369/369 - 40s - loss: 0.6248 - accuracy: 0.6762 - val_loss: 0.5749 - val_accuracy: 0.7195\n",
            "Epoch 4/50\n",
            "369/369 - 40s - loss: 0.6388 - accuracy: 0.6545 - val_loss: 0.5194 - val_accuracy: 0.7927\n",
            "Epoch 5/50\n",
            "369/369 - 40s - loss: 0.6005 - accuracy: 0.6938 - val_loss: 0.3651 - val_accuracy: 0.8659\n",
            "Epoch 6/50\n",
            "369/369 - 40s - loss: 0.6071 - accuracy: 0.6734 - val_loss: 0.4992 - val_accuracy: 0.7927\n",
            "Epoch 7/50\n",
            "369/369 - 40s - loss: 0.5801 - accuracy: 0.6870 - val_loss: 0.3515 - val_accuracy: 0.8902\n",
            "Epoch 8/50\n",
            "369/369 - 40s - loss: 0.5720 - accuracy: 0.7087 - val_loss: 0.2183 - val_accuracy: 0.9390\n",
            "Epoch 9/50\n",
            "369/369 - 40s - loss: 0.5475 - accuracy: 0.7209 - val_loss: 0.3585 - val_accuracy: 0.8049\n",
            "Epoch 10/50\n",
            "369/369 - 40s - loss: 0.5670 - accuracy: 0.6992 - val_loss: 0.3114 - val_accuracy: 0.8902\n",
            "Epoch 11/50\n",
            "369/369 - 40s - loss: 0.5365 - accuracy: 0.7154 - val_loss: 0.2286 - val_accuracy: 0.9390\n",
            "Epoch 12/50\n",
            "369/369 - 40s - loss: 0.5489 - accuracy: 0.7087 - val_loss: 0.3075 - val_accuracy: 0.9024\n",
            "Epoch 13/50\n",
            "369/369 - 40s - loss: 0.5315 - accuracy: 0.7290 - val_loss: 0.1998 - val_accuracy: 0.9268\n",
            "Epoch 14/50\n",
            "369/369 - 40s - loss: 0.5120 - accuracy: 0.7358 - val_loss: 0.1736 - val_accuracy: 0.9268\n",
            "Epoch 15/50\n",
            "369/369 - 40s - loss: 0.5221 - accuracy: 0.7290 - val_loss: 0.2671 - val_accuracy: 0.9024\n",
            "Epoch 16/50\n",
            "369/369 - 40s - loss: 0.5175 - accuracy: 0.7304 - val_loss: 0.2048 - val_accuracy: 0.9268\n",
            "Epoch 17/50\n",
            "369/369 - 40s - loss: 0.5333 - accuracy: 0.7317 - val_loss: 0.2408 - val_accuracy: 0.9146\n",
            "Epoch 18/50\n",
            "369/369 - 40s - loss: 0.5322 - accuracy: 0.7398 - val_loss: 0.2469 - val_accuracy: 0.9024\n",
            "Epoch 19/50\n",
            "369/369 - 40s - loss: 0.5239 - accuracy: 0.7453 - val_loss: 0.2404 - val_accuracy: 0.9146\n",
            "Epoch 20/50\n",
            "369/369 - 40s - loss: 0.5343 - accuracy: 0.7304 - val_loss: 0.1863 - val_accuracy: 0.9390\n",
            "Epoch 21/50\n",
            "369/369 - 40s - loss: 0.4957 - accuracy: 0.7710 - val_loss: 0.3573 - val_accuracy: 0.8780\n",
            "Epoch 22/50\n",
            "369/369 - 40s - loss: 0.5228 - accuracy: 0.7290 - val_loss: 0.1800 - val_accuracy: 0.9512\n",
            "Epoch 23/50\n",
            "369/369 - 40s - loss: 0.5009 - accuracy: 0.7453 - val_loss: 0.2136 - val_accuracy: 0.9146\n",
            "Epoch 24/50\n",
            "369/369 - 40s - loss: 0.5218 - accuracy: 0.7358 - val_loss: 0.1899 - val_accuracy: 0.9390\n",
            "Epoch 25/50\n",
            "369/369 - 40s - loss: 0.5114 - accuracy: 0.7304 - val_loss: 0.1769 - val_accuracy: 0.9390\n",
            "Epoch 26/50\n",
            "369/369 - 40s - loss: 0.4859 - accuracy: 0.7534 - val_loss: 0.2401 - val_accuracy: 0.9390\n",
            "Epoch 27/50\n",
            "369/369 - 40s - loss: 0.4523 - accuracy: 0.7859 - val_loss: 0.2419 - val_accuracy: 0.9024\n",
            "Epoch 28/50\n",
            "369/369 - 40s - loss: 0.4499 - accuracy: 0.7846 - val_loss: 0.2068 - val_accuracy: 0.9268\n",
            "Epoch 29/50\n",
            "369/369 - 40s - loss: 0.4825 - accuracy: 0.7561 - val_loss: 0.1946 - val_accuracy: 0.9024\n",
            "Epoch 30/50\n",
            "369/369 - 40s - loss: 0.4880 - accuracy: 0.7520 - val_loss: 0.1692 - val_accuracy: 0.9146\n",
            "Epoch 31/50\n",
            "369/369 - 40s - loss: 0.4641 - accuracy: 0.7683 - val_loss: 0.1753 - val_accuracy: 0.9390\n",
            "Epoch 32/50\n",
            "369/369 - 40s - loss: 0.4833 - accuracy: 0.7575 - val_loss: 0.2179 - val_accuracy: 0.8902\n",
            "Epoch 33/50\n",
            "369/369 - 40s - loss: 0.4614 - accuracy: 0.7751 - val_loss: 0.1176 - val_accuracy: 0.9512\n",
            "Epoch 34/50\n",
            "369/369 - 40s - loss: 0.4587 - accuracy: 0.7764 - val_loss: 0.1918 - val_accuracy: 0.9390\n",
            "Epoch 35/50\n",
            "369/369 - 40s - loss: 0.4834 - accuracy: 0.7480 - val_loss: 0.1265 - val_accuracy: 0.9390\n",
            "Epoch 36/50\n",
            "369/369 - 40s - loss: 0.4544 - accuracy: 0.7886 - val_loss: 0.1522 - val_accuracy: 0.9268\n",
            "Epoch 37/50\n",
            "369/369 - 40s - loss: 0.4792 - accuracy: 0.7493 - val_loss: 0.1520 - val_accuracy: 0.9512\n",
            "Epoch 38/50\n",
            "369/369 - 40s - loss: 0.4742 - accuracy: 0.7615 - val_loss: 0.1346 - val_accuracy: 0.9512\n",
            "Epoch 39/50\n",
            "369/369 - 40s - loss: 0.4608 - accuracy: 0.7547 - val_loss: 0.1027 - val_accuracy: 0.9512\n",
            "Epoch 40/50\n",
            "369/369 - 40s - loss: 0.4831 - accuracy: 0.7656 - val_loss: 0.1629 - val_accuracy: 0.9512\n",
            "Epoch 41/50\n",
            "369/369 - 40s - loss: 0.4299 - accuracy: 0.7873 - val_loss: 0.1269 - val_accuracy: 0.9512\n",
            "Epoch 42/50\n",
            "369/369 - 40s - loss: 0.4562 - accuracy: 0.7724 - val_loss: 0.1360 - val_accuracy: 0.9756\n",
            "Epoch 43/50\n",
            "369/369 - 40s - loss: 0.4497 - accuracy: 0.7927 - val_loss: 0.0517 - val_accuracy: 1.0000\n",
            "Epoch 44/50\n",
            "369/369 - 40s - loss: 0.4523 - accuracy: 0.7791 - val_loss: 0.1213 - val_accuracy: 0.9390\n",
            "Epoch 45/50\n",
            "369/369 - 40s - loss: 0.4335 - accuracy: 0.7832 - val_loss: 0.1229 - val_accuracy: 0.9634\n",
            "Epoch 46/50\n",
            "369/369 - 40s - loss: 0.4786 - accuracy: 0.7615 - val_loss: 0.0788 - val_accuracy: 0.9756\n",
            "Epoch 47/50\n",
            "369/369 - 40s - loss: 0.4536 - accuracy: 0.7846 - val_loss: 0.1279 - val_accuracy: 0.9390\n",
            "Epoch 48/50\n",
            "369/369 - 40s - loss: 0.4284 - accuracy: 0.7995 - val_loss: 0.0717 - val_accuracy: 0.9756\n",
            "Epoch 49/50\n",
            "369/369 - 40s - loss: 0.4300 - accuracy: 0.8076 - val_loss: 0.0365 - val_accuracy: 0.9878\n",
            "Epoch 50/50\n",
            "369/369 - 40s - loss: 0.4403 - accuracy: 0.8022 - val_loss: 0.0728 - val_accuracy: 0.9878\n",
            "\n",
            "Finished in 2082.58 second(s)\n"
          ]
        }
      ]
    },
    {
      "cell_type": "code",
      "metadata": {
        "colab": {
          "base_uri": "https://localhost:8080/",
          "height": 312
        },
        "id": "ehJpas9r_XcB",
        "outputId": "cc6a3721-4fe1-47ac-87ce-3252614fb436"
      },
      "source": [
        "plt.plot(history.history['accuracy'])\n",
        "plt.plot(history.history['val_accuracy'])\n",
        "plt.title('model accuracy')\n",
        "plt.ylabel('accuracy')\n",
        "plt.xlabel('epoch')\n",
        "plt.legend(['train', 'val'], loc='upper left')\n",
        "plt.show()\n",
        "plt.savefig('model_accuracy.png')"
      ],
      "execution_count": null,
      "outputs": [
        {
          "output_type": "display_data",
          "data": {
            "image/png": "[encoded data removed]",
            "text/plain": [
              "<Figure size 432x288 with 1 Axes>"
            ]
          },
          "metadata": {}
        },
        {
          "output_type": "display_data",
          "data": {
            "text/plain": [
              "<Figure size 432x288 with 0 Axes>"
            ]
          },
          "metadata": {}
        }
      ]
    },
    {
      "cell_type": "code",
      "metadata": {
        "colab": {
          "base_uri": "https://localhost:8080/",
          "height": 312
        },
        "id": "OQQ_MgBiKjHD",
        "outputId": "08dfa3e9-e877-4411-cc67-fe70912e2fe7"
      },
      "source": [
        "plt.plot(history.history['loss'])\n",
        "plt.plot(history.history['val_loss'])\n",
        "plt.title('model loss')\n",
        "plt.ylabel('loss')\n",
        "plt.xlabel('epoch')\n",
        "plt.legend(['train', 'val'], loc='upper left')\n",
        "plt.show()\n",
        "plt.savefig('model_loss.png')"
      ],
      "execution_count": null,
      "outputs": [
        {
          "output_type": "display_data",
          "data": {
            "image/png": "[encoded data removed]",
            "text/plain": [
              "<Figure size 432x288 with 1 Axes>"
            ]
          },
          "metadata": {}
        },
        {
          "output_type": "display_data",
          "data": {
            "text/plain": [
              "<Figure size 432x288 with 0 Axes>"
            ]
          },
          "metadata": {}
        }
      ]
    },
    {
      "cell_type": "code",
      "metadata": {
        "id": "Do836vbQ4QKg"
      },
      "source": [
        "dt = get_data('eval.csv',1)\n",
        "\n",
        "pat(dt)\n",
        "make_test(dt)\n",
        "\n",
        "test_sentences = dt.texto.to_numpy()\n",
        "test_labels = dt.valor.to_numpy()"
      ],
      "execution_count": null,
      "outputs": []
    },
    {
      "cell_type": "code",
      "metadata": {
        "id": "9AQKuL6TIvdn"
      },
      "source": [
        "Tids = np.zeros((len(dt),SEQ_LEN))\n",
        "Tmask = np.zeros((len(dt),SEQ_LEN))"
      ],
      "execution_count": null,
      "outputs": []
    },
    {
      "cell_type": "code",
      "metadata": {
        "id": "4eBv0en3ILqH"
      },
      "source": [
        "for i, sequence in enumerate(dt['texto']):\n",
        "    tokensT = tokenizer.encode_plus(sequence, max_length=SEQ_LEN, truncation= True, padding=\"max_length\", \n",
        "                               add_special_tokens= True, return_token_type_ids= False, return_attention_mask= True, return_tensors= 'tf')\n",
        "    Tids[i,:], Tmask[i,:] = tokensT['input_ids'], tokensT['attention_mask']"
      ],
      "execution_count": null,
      "outputs": []
    },
    {
      "cell_type": "code",
      "metadata": {
        "colab": {
          "base_uri": "https://localhost:8080/"
        },
        "id": "4Rj7ab-7J5rp",
        "outputId": "ae7a84a0-b7b3-402f-ab0d-b2e1b7efc1ca"
      },
      "source": [
        "Tids"
      ],
      "execution_count": null,
      "outputs": [
        {
          "output_type": "execute_result",
          "data": {
            "text/plain": [
              "array([[  101.,  1223.,  4593., ...,     0.,     0.,     0.],\n",
              "       [  101.,  4611.,  5890., ...,     0.,     0.,     0.],\n",
              "       [  101.,  2630., 10537., ...,   154.,   113.,   102.],\n",
              "       ...,\n",
              "       [  101.,  3102.,  1223., ..., 13874.,  4574.,   102.],\n",
              "       [  101.,  1223.,  2064., ...,     0.,     0.,     0.],\n",
              "       [  101., 14296.,   117., ...,     0.,     0.,     0.]])"
            ]
          },
          "metadata": {},
          "execution_count": 166
        }
      ]
    },
    {
      "cell_type": "code",
      "metadata": {
        "colab": {
          "base_uri": "https://localhost:8080/"
        },
        "id": "wir2RFPHK0iz",
        "outputId": "df129edd-61d8-4a6b-d441-a7bb515a39f9"
      },
      "source": [
        "Tmask"
      ],
      "execution_count": null,
      "outputs": [
        {
          "output_type": "execute_result",
          "data": {
            "text/plain": [
              "array([[1., 1., 1., ..., 0., 0., 0.],\n",
              "       [1., 1., 1., ..., 0., 0., 0.],\n",
              "       [1., 1., 1., ..., 1., 1., 1.],\n",
              "       ...,\n",
              "       [1., 1., 1., ..., 1., 1., 1.],\n",
              "       [1., 1., 1., ..., 0., 0., 0.],\n",
              "       [1., 1., 1., ..., 0., 0., 0.]])"
            ]
          },
          "metadata": {},
          "execution_count": 167
        }
      ]
    },
    {
      "cell_type": "code",
      "metadata": {
        "id": "PkJAKFBegKHr"
      },
      "source": [
        "arrT = dt['valor'].values\n",
        "labelsT = np.zeros((arrT.size, arrT.max()+1))\n",
        "labelsT[np.arange(arrT.size),arrT] = 1"
      ],
      "execution_count": null,
      "outputs": []
    },
    {
      "cell_type": "code",
      "metadata": {
        "id": "jcqufjFUey-h"
      },
      "source": [
        "datasetT = tf.data.Dataset.from_tensor_slices((Tids,Tmask,labelsT))"
      ],
      "execution_count": null,
      "outputs": []
    },
    {
      "cell_type": "code",
      "metadata": {
        "colab": {
          "base_uri": "https://localhost:8080/"
        },
        "id": "PmPIOBVelxpc",
        "outputId": "c7270c81-1b69-489d-f246-edd9496c5d60"
      },
      "source": [
        "labelsT"
      ],
      "execution_count": null,
      "outputs": [
        {
          "output_type": "execute_result",
          "data": {
            "text/plain": [
              "array([[1., 0.],\n",
              "       [0., 1.],\n",
              "       [0., 1.],\n",
              "       [0., 1.],\n",
              "       [0., 1.],\n",
              "       [1., 0.],\n",
              "       [1., 0.],\n",
              "       [1., 0.]])"
            ]
          },
          "metadata": {},
          "execution_count": 170
        }
      ]
    },
    {
      "cell_type": "code",
      "metadata": {
        "id": "MAmxCOGalfE1"
      },
      "source": [
        "datasetT = datasetT.map(map_function)"
      ],
      "execution_count": null,
      "outputs": []
    },
    {
      "cell_type": "code",
      "metadata": {
        "id": "v7i_4fySmL17"
      },
      "source": [
        "datasetT = datasetT.batch(2)"
      ],
      "execution_count": null,
      "outputs": []
    },
    {
      "cell_type": "code",
      "metadata": {
        "colab": {
          "base_uri": "https://localhost:8080/"
        },
        "id": "EagxpkByIM2u",
        "outputId": "34289f14-f1da-4ace-ce50-6e7a9ef62e10"
      },
      "source": [
        "predictions_t = model.predict(datasetT)\n",
        "predictions_t = [np.argmax(element) for element in predictions_t]\n",
        "print(predictions_t)\n",
        "print(precision(test_labels,predictions_t))"
      ],
      "execution_count": null,
      "outputs": [
        {
          "output_type": "stream",
          "name": "stdout",
          "text": [
            "WARNING:tensorflow:5 out of the last 14 calls to <function Model.make_predict_function.<locals>.predict_function at 0x7f2fad640560> triggered tf.function retracing. Tracing is expensive and the excessive number of tracings could be due to (1) creating @tf.function repeatedly in a loop, (2) passing tensors with different shapes, (3) passing Python objects instead of tensors. For (1), please define your @tf.function outside of the loop. For (2), @tf.function has experimental_relax_shapes=True option that relaxes argument shapes that can avoid unnecessary retracing. For (3), please refer to https://www.tensorflow.org/guide/function#controlling_retracing and https://www.tensorflow.org/api_docs/python/tf/function for  more details.\n"
          ]
        },
        {
          "output_type": "stream",
          "name": "stderr",
          "text": [
            "WARNING:tensorflow:5 out of the last 14 calls to <function Model.make_predict_function.<locals>.predict_function at 0x7f2fad640560> triggered tf.function retracing. Tracing is expensive and the excessive number of tracings could be due to (1) creating @tf.function repeatedly in a loop, (2) passing tensors with different shapes, (3) passing Python objects instead of tensors. For (1), please define your @tf.function outside of the loop. For (2), @tf.function has experimental_relax_shapes=True option that relaxes argument shapes that can avoid unnecessary retracing. For (3), please refer to https://www.tensorflow.org/guide/function#controlling_retracing and https://www.tensorflow.org/api_docs/python/tf/function for  more details.\n"
          ]
        },
        {
          "output_type": "stream",
          "name": "stdout",
          "text": [
            "[0, 1, 1, 1, 1, 0, 0, 0]\n",
            "100.0\n"
          ]
        }
      ]
    },
    {
      "cell_type": "code",
      "metadata": {
        "id": "3r5QCAjr-ytO"
      },
      "source": [
        "datasetTT = tf.data.Dataset.from_tensor_slices((Tids,Tmask))\n",
        "datasetTT = datasetTT.map(remap_function)\n",
        "datasetTT = datasetTT.batch(2)\n"
      ],
      "execution_count": null,
      "outputs": []
    },
    {
      "cell_type": "code",
      "metadata": {
        "colab": {
          "base_uri": "https://localhost:8080/"
        },
        "id": "3DirSLCV_E69",
        "outputId": "fb9d83fb-4020-480c-9682-a35c338f0f2d"
      },
      "source": [
        "predictions_t = model.predict(datasetTT)\n",
        "predictions_t = [np.argmax(element) for element in predictions_t]\n",
        "print(predictions_t)\n",
        "print(precision(test_labels,predictions_t))"
      ],
      "execution_count": null,
      "outputs": [
        {
          "output_type": "stream",
          "name": "stdout",
          "text": [
            "WARNING:tensorflow:5 out of the last 11 calls to <function Model.make_predict_function.<locals>.predict_function at 0x7f2fad640560> triggered tf.function retracing. Tracing is expensive and the excessive number of tracings could be due to (1) creating @tf.function repeatedly in a loop, (2) passing tensors with different shapes, (3) passing Python objects instead of tensors. For (1), please define your @tf.function outside of the loop. For (2), @tf.function has experimental_relax_shapes=True option that relaxes argument shapes that can avoid unnecessary retracing. For (3), please refer to https://www.tensorflow.org/guide/function#controlling_retracing and https://www.tensorflow.org/api_docs/python/tf/function for  more details.\n"
          ]
        },
        {
          "output_type": "stream",
          "name": "stderr",
          "text": [
            "WARNING:tensorflow:5 out of the last 11 calls to <function Model.make_predict_function.<locals>.predict_function at 0x7f2fad640560> triggered tf.function retracing. Tracing is expensive and the excessive number of tracings could be due to (1) creating @tf.function repeatedly in a loop, (2) passing tensors with different shapes, (3) passing Python objects instead of tensors. For (1), please define your @tf.function outside of the loop. For (2), @tf.function has experimental_relax_shapes=True option that relaxes argument shapes that can avoid unnecessary retracing. For (3), please refer to https://www.tensorflow.org/guide/function#controlling_retracing and https://www.tensorflow.org/api_docs/python/tf/function for  more details.\n"
          ]
        },
        {
          "output_type": "stream",
          "name": "stdout",
          "text": [
            "[0, 1, 1, 1, 1, 0, 0, 0]\n",
            "100.0\n"
          ]
        }
      ]
    },
    {
      "cell_type": "code",
      "metadata": {
        "colab": {
          "base_uri": "https://localhost:8080/"
        },
        "id": "hRXjziUojsQd",
        "outputId": "dd5e1edf-b84e-4034-831b-f0f7651ec1a8"
      },
      "source": [
        "val"
      ],
      "execution_count": null,
      "outputs": [
        {
          "output_type": "execute_result",
          "data": {
            "text/plain": [
              "<SkipDataset shapes: ({input_ids: (None, 200), attention_mask: (None, 200)}, (None, 2)), types: ({input_ids: tf.float64, attention_mask: tf.float64}, tf.float64)>"
            ]
          },
          "metadata": {},
          "execution_count": 176
        }
      ]
    },
    {
      "cell_type": "code",
      "metadata": {
        "colab": {
          "base_uri": "https://localhost:8080/"
        },
        "id": "HDIlveAslEUQ",
        "outputId": "1da9662d-1dba-4518-beaf-31b1d329bdb6"
      },
      "source": [
        "datasetT"
      ],
      "execution_count": null,
      "outputs": [
        {
          "output_type": "execute_result",
          "data": {
            "text/plain": [
              "<BatchDataset shapes: ({input_ids: (None, 200), attention_mask: (None, 200)}, (None, 2)), types: ({input_ids: tf.float64, attention_mask: tf.float64}, tf.float64)>"
            ]
          },
          "metadata": {},
          "execution_count": 177
        }
      ]
    },
    {
      "cell_type": "code",
      "metadata": {
        "id": "h4L8XVeZnODY",
        "colab": {
          "base_uri": "https://localhost:8080/",
          "height": 52
        },
        "outputId": "19a528a9-019c-4590-cea1-4d2c802bcc2c"
      },
      "source": [
        "\"\"\"\n",
        "model.save('./saved_models')\n",
        "model.save_spec('./saved_models')\n",
        "model.save_weights('./saved_models')\n",
        "bert.save_pretrained('./saved_BertModel')\n",
        "bert.save_weights('./saved_BertModel')\n",
        "tokenizer.save_pretrained('./saved_tokenizer')\n",
        "\"\"\"\n"
      ],
      "execution_count": null,
      "outputs": [
        {
          "output_type": "execute_result",
          "data": {
            "application/vnd.google.colaboratory.intrinsic+json": {
              "type": "string"
            },
            "text/plain": [
              "\"\\nmodel.save('./saved_models')\\nmodel.save_spec('./saved_models')\\nmodel.save_weights('./saved_models')\\nbert.save_pretrained('./saved_BertModel')\\nbert.save_weights('./saved_BertModel')\\ntokenizer.save_pretrained('./saved_tokenizer')\\n\""
            ]
          },
          "metadata": {},
          "execution_count": 178
        }
      ]
    },
    {
      "cell_type": "code",
      "metadata": {
        "id": "HJkpKtu7wb1c",
        "colab": {
          "base_uri": "https://localhost:8080/",
          "height": 52
        },
        "outputId": "8ae4c11a-b205-4c22-accb-2a97fc5969f8"
      },
      "source": [
        "\"\"\"\n",
        "from transformers import BertTokenizer\n",
        "new_modelo = TFAutoModel.from_pretrained('./saved_BertModel/')\n",
        "#new_model = tf.keras.models.load_model('./saved_models')\n",
        "tokenizer2 = BertTokenizer.from_pretrained('./saved_tokenizer/')\n",
        "\"\"\"\n"
      ],
      "execution_count": null,
      "outputs": [
        {
          "output_type": "execute_result",
          "data": {
            "application/vnd.google.colaboratory.intrinsic+json": {
              "type": "string"
            },
            "text/plain": [
              "\"\\nfrom transformers import BertTokenizer\\nnew_modelo = TFAutoModel.from_pretrained('./saved_BertModel/')\\n#new_model = tf.keras.models.load_model('./saved_models')\\ntokenizer2 = BertTokenizer.from_pretrained('./saved_tokenizer/')\\n\""
            ]
          },
          "metadata": {},
          "execution_count": 179
        }
      ]
    },
    {
      "cell_type": "code",
      "metadata": {
        "colab": {
          "base_uri": "https://localhost:8080/"
        },
        "id": "e_7x1B5kopp0",
        "outputId": "06ba7dbe-849d-4d7c-ecf0-7c8368468a66"
      },
      "source": [
        "tokens = tokenizer.encode_plus(\"Este trabalho aborda sistemas de energia\", max_length=10, truncation= True, padding=\"max_length\", \n",
        "                               add_special_tokens= True, return_token_type_ids= False, return_attention_mask= True, return_tensors= 'tf')\n",
        "tokens"
      ],
      "execution_count": null,
      "outputs": [
        {
          "output_type": "execute_result",
          "data": {
            "text/plain": [
              "{'input_ids': <tf.Tensor: shape=(1, 10), dtype=int32, numpy=\n",
              "array([[ 101, 1681, 1223, 5516, 3184,  125, 2608,  102,    0,    0]],\n",
              "      dtype=int32)>, 'attention_mask': <tf.Tensor: shape=(1, 10), dtype=int32, numpy=array([[1, 1, 1, 1, 1, 1, 1, 1, 0, 0]], dtype=int32)>}"
            ]
          },
          "metadata": {},
          "execution_count": 180
        }
      ]
    },
    {
      "cell_type": "code",
      "metadata": {
        "id": "NaciPltV0XHO"
      },
      "source": [
        "teste_1 = \"O objetivo deste trabalho é propor um algoritmo para realizar a identificação de padrões na vocalização suína, visando determinar o nível do bem-estar do animal. Tal análise foi proposta uma vez que o bem-estar animal é um assunto cada vez mais abordado no mundo todo, principalmente quando os animais são criados para o abate. Dessa forma, a criação de um método em que haja o mínimo de contato com os animais se faz importante, evitando que tal contato altere o comportamento do animal e, conseqüentemente, o resultado da análise de seu bem-estar. Por essas características, foi proposto um método de análise dos sons emitidos pelos suínos com base na utilização de uma Rede Neural Artificial do tipo Radial Basis Function, a qual possui como elementos de treinamento e operação um conjunto de características extraídas através da Transformada Discreta Wavelet de sinais sonoros pré-gravados. As características obtidas dos sinais foram as energias das bandas críticas relativas à Escala Bark e a diferença entre as energias das bandas adjacentes, além dimensão fractal do sinal. Através desse método foram analisados dois tipos de sinais sonoros: a vocalização de leitões saudáveis e de leitões acometidos por uma doença chamada Artrite Traumática; e a vocalização de suínos adultos em situações de conforto e desconforto. Os resultados demonstram que a análise proposta atingiu bons patamares de acerto na determinação do bem-estar do animal\"\n",
        "#eletronica1"
      ],
      "execution_count": null,
      "outputs": []
    },
    {
      "cell_type": "code",
      "metadata": {
        "id": "cefuhh3T2yo5"
      },
      "source": [
        "teste_1 = prepare(teste_1)"
      ],
      "execution_count": null,
      "outputs": []
    },
    {
      "cell_type": "code",
      "metadata": {
        "id": "jP3OjSYU7QT5"
      },
      "source": [
        "def previsao(teste,modelT):\n",
        "  teste = prepare(teste)\n",
        "  tokensT = tokenizer.encode_plus(teste, max_length=SEQ_LEN, truncation= True, padding=\"max_length\", \n",
        "                               add_special_tokens= True, return_token_type_ids= False, return_attention_mask= True, return_tensors= 'tf')\n",
        "  TTID, TTM = tokensT['input_ids'], tokensT['attention_mask']\n",
        "  TT_seq = tf.data.Dataset.from_tensor_slices((TTID,TTM))\n",
        "  TT_seq = TT_seq.map(remap_function)\n",
        "  TT_seq = TT_seq.batch(2)  \n",
        "  predictionsT= modelT.predict(TT_seq)\n",
        "  #print(predictionsT)\n",
        "  result = np.argmax(predictionsT)\n",
        "  return result\n"
      ],
      "execution_count": null,
      "outputs": []
    },
    {
      "cell_type": "code",
      "metadata": {
        "id": "9c9KxCte0_X2"
      },
      "source": [
        "tokensT = tokenizer.encode_plus(teste_1, max_length=SEQ_LEN, truncation= True, padding=\"max_length\", \n",
        "                               add_special_tokens= True, return_token_type_ids= False, return_attention_mask= True, return_tensors= 'tf')\n",
        "\n",
        "T1ID, T1M = tokensT['input_ids'], tokensT['attention_mask']"
      ],
      "execution_count": null,
      "outputs": []
    },
    {
      "cell_type": "code",
      "metadata": {
        "id": "6bV8rv_74NXX"
      },
      "source": [
        "teste_1_seq = tf.data.Dataset.from_tensor_slices((T1ID,T1M))\n",
        "teste_1_seq = teste_1_seq.map(remap_function)\n",
        "teste_1_seq = teste_1_seq.batch(2)"
      ],
      "execution_count": null,
      "outputs": []
    },
    {
      "cell_type": "code",
      "metadata": {
        "colab": {
          "base_uri": "https://localhost:8080/"
        },
        "id": "H-5uGtCj3f1A",
        "outputId": "b2b714a3-6baa-4498-a614-61be65ab42ab"
      },
      "source": [
        "predictions= model.predict(teste_1_seq)\n",
        "print(predictions)\n",
        "print(np.argmax(predictions))"
      ],
      "execution_count": null,
      "outputs": [
        {
          "output_type": "stream",
          "name": "stdout",
          "text": [
            "[[0.00175535 0.99824464]]\n",
            "1\n"
          ]
        }
      ]
    },
    {
      "cell_type": "code",
      "metadata": {
        "colab": {
          "base_uri": "https://localhost:8080/"
        },
        "id": "D2DIclnB_amk",
        "outputId": "fc475c0f-cca5-4968-c166-0f77ed1baa0f"
      },
      "source": [
        "previsao(teste_1,model)"
      ],
      "execution_count": null,
      "outputs": [
        {
          "output_type": "execute_result",
          "data": {
            "text/plain": [
              "1"
            ]
          },
          "metadata": {},
          "execution_count": 187
        }
      ]
    },
    {
      "cell_type": "code",
      "metadata": {
        "id": "-VfsZ_GH0zCV"
      },
      "source": [
        "teste_2 = \"Produzindo inicialmente motores elétricos, a WEG ampliou suas atividades a partir da década de 80, com a produção de componentes eletroeletrônicos, produtos para automação industrial, transformadores de força e distribuição, tintas líquidas e em pó e vernizes eletroisolantes. A empresa se consolidou não só como fabricante de motores, mas como fornecedora de sistemas elétricos industriais completos.\"\n",
        "#eletrica0"
      ],
      "execution_count": null,
      "outputs": []
    },
    {
      "cell_type": "code",
      "metadata": {
        "colab": {
          "base_uri": "https://localhost:8080/"
        },
        "id": "1ZjqBbUi8FUX",
        "outputId": "d9124bf1-9ef7-4f43-ed38-5ae6c98eca06"
      },
      "source": [
        "previsao(teste_2,model)"
      ],
      "execution_count": null,
      "outputs": [
        {
          "output_type": "execute_result",
          "data": {
            "text/plain": [
              "0"
            ]
          },
          "metadata": {},
          "execution_count": 189
        }
      ]
    },
    {
      "cell_type": "code",
      "metadata": {
        "id": "nMEwzdqB88UH"
      },
      "source": [
        "teste_3 = \"Numa definição mais abrangente, podemos dizer que a eletrônica é o ramo da ciência que estuda o uso de circuitos formados por componentes elétricos e eletrônicos, com o objetivo principal de representar, armazenar, transmitir ou processar informações além do controle de processos e servomecanismos. Sob esta ótica, também se pode afirmar que os circuitos internos dos computadores (que armazenam e processam informações), os sistemas de telecomunicações (que transmitem informações), os diversos tipos de sensores e transdutores (que representam grandezas físicas - informações - sob forma de sinais elétricos) estão, todos, dentro da área de interesse da eletrônica.\"\n",
        "#eletronica1"
      ],
      "execution_count": null,
      "outputs": []
    },
    {
      "cell_type": "code",
      "metadata": {
        "colab": {
          "base_uri": "https://localhost:8080/"
        },
        "id": "lKZ6hBTe8_WX",
        "outputId": "7c4c6c39-f0a9-4cec-d0f1-0234e8a49526"
      },
      "source": [
        "previsao(teste_3,model)"
      ],
      "execution_count": null,
      "outputs": [
        {
          "output_type": "execute_result",
          "data": {
            "text/plain": [
              "1"
            ]
          },
          "metadata": {},
          "execution_count": 191
        }
      ]
    },
    {
      "cell_type": "code",
      "metadata": {
        "id": "IACPRkpkBYRi"
      },
      "source": [
        "teste_4 = \"projeto visa nova abordagem sistema vigilância móvel autônomo. pulseira biométrica coleta dados sobre batimento cardíaco usuário envia, via bluetooth, módulo processamento, smartphone sistema operacional android, faz análise destes batimentos cardíacos define usuário passando alguma situação risco morte, extremo estresse. smartphone escreve, periodicamente, informações tempo imediato sobre usuário, localização geográfica batimentos cardíacos, banco dados nuvem que, vez, contém informações pessoais usuário, tipo sanguíneo, telefone contato emergencial, alergias, outros. premissa dados nuvem acessíveis todo momento servidor externo servirem base socorro médico emergencial, seja, sistema visa prover auxílio imediato maneira proativa autônoma, modo preservar vidas, sendo baixo custo alcançável grande parte população. realizados diversos testes simulações demonstrando adequabilidade sistema proposto situações problema apresentadas\"\n",
        "#eletronica"
      ],
      "execution_count": null,
      "outputs": []
    },
    {
      "cell_type": "code",
      "metadata": {
        "colab": {
          "base_uri": "https://localhost:8080/"
        },
        "id": "BgZR-VI2Bd4B",
        "outputId": "51d89bc4-4807-420f-9254-cac16a927dd4"
      },
      "source": [
        "previsao(teste_4,model)"
      ],
      "execution_count": null,
      "outputs": [
        {
          "output_type": "execute_result",
          "data": {
            "text/plain": [
              "1"
            ]
          },
          "metadata": {},
          "execution_count": 193
        }
      ]
    },
    {
      "cell_type": "code",
      "metadata": {
        "id": "3mjjYXxPD9xn",
        "colab": {
          "base_uri": "https://localhost:8080/",
          "height": 103
        },
        "outputId": "bef0ffb1-2927-4ba2-a25d-2f54932d9c45"
      },
      "source": [
        "\"\"\"\n",
        "@inproceedings{souza2020bertimbau,\n",
        "    author    = {Souza, F{\\'a}bio and Nogueira, Rodrigo and Lotufo, Roberto},\n",
        "    title     = {{BERT}imbau: pretrained {BERT} models for {B}razilian {P}ortuguese},\n",
        "    booktitle = {9th Brazilian Conference on Intelligent Systems, {BRACIS}, Rio Grande do Sul, Brazil, October 20-23 (to appear)},\n",
        "    year      = {2020}\n",
        "}\n",
        "\n",
        "@article{souza2019portuguese,\n",
        "    title={Portuguese Named Entity Recognition using BERT-CRF},\n",
        "    author={Souza, F{\\'a}bio and Nogueira, Rodrigo and Lotufo, Roberto},\n",
        "    journal={arXiv preprint arXiv:1909.10649},\n",
        "    url={http://arxiv.org/abs/1909.10649},\n",
        "    year={2019}\n",
        "}\n",
        "\"\"\""
      ],
      "execution_count": null,
      "outputs": [
        {
          "output_type": "execute_result",
          "data": {
            "application/vnd.google.colaboratory.intrinsic+json": {
              "type": "string"
            },
            "text/plain": [
              "\"\\n@inproceedings{souza2020bertimbau,\\n    author    = {Souza, F{'a}bio and Nogueira, Rodrigo and Lotufo, Roberto},\\n    title     = {{BERT}imbau: pretrained {BERT} models for {B}razilian {P}ortuguese},\\n    booktitle = {9th Brazilian Conference on Intelligent Systems, {BRACIS}, Rio Grande do Sul, Brazil, October 20-23 (to appear)},\\n    year      = {2020}\\n}\\n\\n@article{souza2019portuguese,\\n    title={Portuguese Named Entity Recognition using BERT-CRF},\\n    author={Souza, F{'a}bio and Nogueira, Rodrigo and Lotufo, Roberto},\\n    journal={arXiv preprint arXiv:1909.10649},\\n    url={http://arxiv.org/abs/1909.10649},\\n    year={2019}\\n}\\n\""
            ]
          },
          "metadata": {},
          "execution_count": 194
        }
      ]
    }
  ]
}