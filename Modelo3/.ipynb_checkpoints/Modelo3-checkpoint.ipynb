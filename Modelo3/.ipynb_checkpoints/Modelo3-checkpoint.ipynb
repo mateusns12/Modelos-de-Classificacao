{
 "cells": [
  {
   "cell_type": "code",
   "execution_count": 1,
   "metadata": {},
   "outputs": [],
   "source": [
    "import tensorflow as tf\n",
    "from tensorflow import keras\n",
    "import numpy as np\n",
    "import matplotlib.pyplot as plt\n",
    "import time\n",
    "import pandas as pd\n",
    "import re\n",
    "import string\n",
    "import nltk\n",
    "#nltk.download('stopwords')\n",
    "from nltk.corpus import stopwords\n",
    "from collections import Counter\n",
    "from tensorflow.keras.preprocessing.text import Tokenizer\n",
    "from tensorflow.keras.preprocessing.sequence import pad_sequences\n",
    "from tensorflow.keras import layers\n",
    "import time"
   ]
  },
  {
   "cell_type": "code",
   "execution_count": 2,
   "metadata": {},
   "outputs": [],
   "source": [
    "def get_data(nome_arquivo,shuffle):\n",
    "    ds = pd.read_csv(nome_arquivo,encoding=\"utf-8\")\n",
    "    if shuffle:\n",
    "        ds = ds.sample(frac=1)\n",
    "    ds['texto'] = ds['texto'].apply(str)\n",
    "    return ds"
   ]
  },
  {
   "cell_type": "code",
   "execution_count": 3,
   "metadata": {},
   "outputs": [],
   "source": [
    "stop = set(stopwords.words(\"portuguese\"))\n",
    "\n",
    "def remove_stopwords(text):\n",
    "    filtered_words = [word.lower() for word in text.split() if word.lower() not in stop]\n",
    "    return \" \".join(filtered_words)\n",
    "\n",
    "def remove_URL(text):\n",
    "    url = re.compile(r\"https?://\\S+|www\\.\\S+\")\n",
    "    return url.sub(r\"\",text)\n",
    "\n",
    "def remove_punct(text):\n",
    "    translator = str.maketrans(\"\",\"\",'!\"\"#$%&\\'()*+,./:;<=>?@[\\\\]^_`{|}~º')\n",
    "    translator = str.maketrans(\"\",\"\",'!\"\"#$%&\\'()*+,./:;<=>?@[\\\\]^_`{|}~º')\n",
    "    return text.translate(translator)\n",
    "\n",
    "def remove_numbers(text):\n",
    "    result = ''.join([i for i in text if not i.isdigit()])\n",
    "    return result\n",
    "\n",
    "def remove_hifen(text):\n",
    "    translator = str.maketrans('-',' ')\n",
    "    return text.translate(translator)"
   ]
  },
  {
   "cell_type": "code",
   "execution_count": 4,
   "metadata": {},
   "outputs": [],
   "source": [
    "pattern = re.compile(r\"https?//(\\S+|www)\\.\\S+\")\n",
    "def pat(df_t):\n",
    "    for t in df_t.texto:\n",
    "        matches = pattern.findall(t)\n",
    "        for match in  matches:\n",
    "            print(t)\n",
    "            print(match)\n",
    "            print(pattern.sub(r\"\",t))        \n",
    "        if len(matches)> 0:\n",
    "            break"
   ]
  },
  {
   "cell_type": "code",
   "execution_count": 5,
   "metadata": {},
   "outputs": [],
   "source": [
    "def make_test(df_t):\n",
    "    df_t[\"texto\"] = df_t.texto.map(remove_URL)\n",
    "    df_t[\"texto\"] = df_t.texto.map(remove_punct)\n",
    "    df_t[\"texto\"] = df_t.texto.map(remove_hifen)\n",
    "    #df_t[\"texto\"] = df_t.texto.map(remove_numbers)\n",
    "    df_t[\"texto\"] = df_t.texto.map(remove_stopwords)"
   ]
  },
  {
   "cell_type": "code",
   "execution_count": 6,
   "metadata": {},
   "outputs": [],
   "source": [
    "def counter_word(text_col):\n",
    "    count = Counter()\n",
    "    for text in text_col.values:\n",
    "        for word in text.split():\n",
    "            count[word] += 1\n",
    "    return count"
   ]
  },
  {
   "cell_type": "code",
   "execution_count": 7,
   "metadata": {},
   "outputs": [],
   "source": [
    "def data_split(df,size):\n",
    "    train_size = int(df.shape[0]*size)\n",
    "    train_df = df[:train_size]\n",
    "    val_df = df[train_size:]\n",
    "    return train_df, val_df"
   ]
  },
  {
   "cell_type": "code",
   "execution_count": 8,
   "metadata": {},
   "outputs": [],
   "source": [
    "def data_to_numpy(df):    \n",
    "    train_sentences = train_df.texto.to_numpy()\n",
    "    train_labels = train_df.valor.to_numpy()\n",
    "    val_sentences = val_df.texto.to_numpy()\n",
    "    val_labels = val_df.valor.to_numpy()\n",
    "    return train_sentences, train_labels, val_sentences, val_labels"
   ]
  },
  {
   "cell_type": "code",
   "execution_count": 28,
   "metadata": {},
   "outputs": [],
   "source": [
    "def prepare(teste):\n",
    "    teste = remove_URL(teste)\n",
    "    teste = remove_punct(teste)\n",
    "    teste = remove_hifen(teste)\n",
    "    teste = remove_stopwords(teste)    \n",
    "    return teste\n",
    "\n",
    "def predict(teste):\n",
    "    predictions = model.predict(np.array(teste)) \n",
    "    p1 = [np.argmax(element) for element in predictions]\n",
    "    if p1[0]:\n",
    "        print(\"Disciplina: Eletronica\")\n",
    "    else:\n",
    "        print(\"Disciplina: Elétrica\")\n",
    "    return predictions,p1\n",
    "\n",
    "def tokenization(df):      \n",
    "    tokenizer.fit_on_texts(train_sentences)\n",
    "    word_index = tokenizer.word_index\n",
    "    train_sequences = tokenizer.texts_to_sequences(train_sentences)\n",
    "    val_sequences = tokenizer.texts_to_sequences(val_sentences)\n",
    "    return train_sequences, val_sequences, word_index\n",
    "\n",
    "def decode(sequence):\n",
    "    return \" \".join([reverse_word_index.get(idx, \"?\") for idx in sequence])\n",
    "\n",
    "def precision(test_labels,predictions):\n",
    "    counter = len(test_labels)\n",
    "    list_c = [i for i,j in zip(predictions,test_labels) if i == j]\n",
    "    return len(list_c)/counter*100"
   ]
  },
  {
   "cell_type": "code",
   "execution_count": 10,
   "metadata": {},
   "outputs": [],
   "source": [
    "df = get_data('train.csv',1)"
   ]
  },
  {
   "cell_type": "code",
   "execution_count": 11,
   "metadata": {},
   "outputs": [
    {
     "data": {
      "text/plain": [
       "(1420, 2)"
      ]
     },
     "execution_count": 11,
     "metadata": {},
     "output_type": "execute_result"
    }
   ],
   "source": [
    "df.shape"
   ]
  },
  {
   "cell_type": "code",
   "execution_count": 12,
   "metadata": {},
   "outputs": [
    {
     "data": {
      "text/html": [
       "<div>\n",
       "<style scoped>\n",
       "    .dataframe tbody tr th:only-of-type {\n",
       "        vertical-align: middle;\n",
       "    }\n",
       "\n",
       "    .dataframe tbody tr th {\n",
       "        vertical-align: top;\n",
       "    }\n",
       "\n",
       "    .dataframe thead th {\n",
       "        text-align: right;\n",
       "    }\n",
       "</style>\n",
       "<table border=\"1\" class=\"dataframe\">\n",
       "  <thead>\n",
       "    <tr style=\"text-align: right;\">\n",
       "      <th></th>\n",
       "      <th>valor</th>\n",
       "      <th>texto</th>\n",
       "    </tr>\n",
       "  </thead>\n",
       "  <tbody>\n",
       "    <tr>\n",
       "      <th>21</th>\n",
       "      <td>1</td>\n",
       "      <td>Muitos métodos foram desenvolvidos para o agru...</td>\n",
       "    </tr>\n",
       "    <tr>\n",
       "      <th>372</th>\n",
       "      <td>2</td>\n",
       "      <td>A Constituição Federal do Brasil garante a tod...</td>\n",
       "    </tr>\n",
       "    <tr>\n",
       "      <th>1283</th>\n",
       "      <td>8</td>\n",
       "      <td>Atualmente, as empresas estão inseridas num am...</td>\n",
       "    </tr>\n",
       "    <tr>\n",
       "      <th>176</th>\n",
       "      <td>1</td>\n",
       "      <td>Fora do ramo principal das atividades de engen...</td>\n",
       "    </tr>\n",
       "    <tr>\n",
       "      <th>1387</th>\n",
       "      <td>8</td>\n",
       "      <td>O trabalho consiste em uma pesquisa realizada ...</td>\n",
       "    </tr>\n",
       "  </tbody>\n",
       "</table>\n",
       "</div>"
      ],
      "text/plain": [
       "      valor                                              texto\n",
       "21        1  Muitos métodos foram desenvolvidos para o agru...\n",
       "372       2  A Constituição Federal do Brasil garante a tod...\n",
       "1283      8  Atualmente, as empresas estão inseridas num am...\n",
       "176       1  Fora do ramo principal das atividades de engen...\n",
       "1387      8  O trabalho consiste em uma pesquisa realizada ..."
      ]
     },
     "execution_count": 12,
     "metadata": {},
     "output_type": "execute_result"
    }
   ],
   "source": [
    "df.head()"
   ]
  },
  {
   "cell_type": "code",
   "execution_count": 13,
   "metadata": {},
   "outputs": [
    {
     "name": "stdout",
     "output_type": "stream",
     "text": [
      "200\n",
      "198\n",
      "200\n",
      "103\n",
      "120\n",
      "199\n",
      "200\n",
      "200\n"
     ]
    }
   ],
   "source": [
    "print((df.valor==1).sum())#eletronica\n",
    "print((df.valor==2).sum())#direito\n",
    "print((df.valor==3).sum())#eletrica\n",
    "print((df.valor==4).sum())#odontologia\n",
    "print((df.valor==5).sum())#computação\n",
    "print((df.valor==6).sum())#geografia\n",
    "print((df.valor==7).sum())#ambiental\n",
    "print((df.valor==8).sum())#mecanica"
   ]
  },
  {
   "cell_type": "code",
   "execution_count": 14,
   "metadata": {},
   "outputs": [],
   "source": [
    "pat(df)\n",
    "make_test(df)"
   ]
  },
  {
   "cell_type": "code",
   "execution_count": 15,
   "metadata": {},
   "outputs": [
    {
     "data": {
      "text/plain": [
       "[('trabalho', 1484),\n",
       " ('sistema', 928),\n",
       " ('estudo', 784),\n",
       " ('análise', 671),\n",
       " ('ser', 662)]"
      ]
     },
     "execution_count": 15,
     "metadata": {},
     "output_type": "execute_result"
    }
   ],
   "source": [
    "counter = counter_word(df.texto)\n",
    "num_unique_words = len(counter)\n",
    "counter.most_common(5)"
   ]
  },
  {
   "cell_type": "code",
   "execution_count": 16,
   "metadata": {},
   "outputs": [
    {
     "name": "stdout",
     "output_type": "stream",
     "text": [
      "1136\n",
      "284\n"
     ]
    }
   ],
   "source": [
    "train_df, val_df = data_split(df,0.8)\n",
    "\n",
    "print(len(train_df))\n",
    "print(len(val_df))"
   ]
  },
  {
   "cell_type": "code",
   "execution_count": 17,
   "metadata": {},
   "outputs": [
    {
     "data": {
      "text/plain": [
       "((1136,), (284,))"
      ]
     },
     "execution_count": 17,
     "metadata": {},
     "output_type": "execute_result"
    }
   ],
   "source": [
    "train_sentences, train_labels, val_sentences, val_labels = data_to_numpy(df)\n",
    "train_sentences.shape, val_sentences.shape"
   ]
  },
  {
   "cell_type": "code",
   "execution_count": 18,
   "metadata": {},
   "outputs": [],
   "source": [
    "tokenizer = Tokenizer(num_words = num_unique_words,oov_token=\"<OOV>\")\n",
    "train_sequences, val_sequences, word_index = tokenization(df)"
   ]
  },
  {
   "cell_type": "code",
   "execution_count": 49,
   "metadata": {},
   "outputs": [
    {
     "data": {
      "text/plain": [
       "((1136, 500), (284, 500))"
      ]
     },
     "execution_count": 49,
     "metadata": {},
     "output_type": "execute_result"
    }
   ],
   "source": [
    "max_length = 500\n",
    "\n",
    "train_padded = pad_sequences(train_sequences, maxlen=max_length, padding = \"post\",truncating = \"post\")\n",
    "val_padded = pad_sequences(val_sequences, maxlen = max_length, padding = \"post\", truncating = \"post\")\n",
    "train_padded.shape, val_padded.shape"
   ]
  },
  {
   "cell_type": "code",
   "execution_count": 50,
   "metadata": {},
   "outputs": [],
   "source": [
    "reverse_word_index = dict([(idx,word) for (word, idx) in word_index.items()])"
   ]
  },
  {
   "cell_type": "code",
   "execution_count": 51,
   "metadata": {},
   "outputs": [
    {
     "name": "stdout",
     "output_type": "stream",
     "text": [
      "Model: \"sequential_6\"\n",
      "_________________________________________________________________\n",
      "Layer (type)                 Output Shape              Param #   \n",
      "=================================================================\n",
      "embedding_6 (Embedding)      (None, 500, 32)           716288    \n",
      "_________________________________________________________________\n",
      "global_average_pooling1d_6 ( (None, 32)                0         \n",
      "_________________________________________________________________\n",
      "dense_29 (Dense)             (None, 128)               4224      \n",
      "_________________________________________________________________\n",
      "dense_30 (Dense)             (None, 720)               92880     \n",
      "_________________________________________________________________\n",
      "dense_31 (Dense)             (None, 720)               519120    \n",
      "_________________________________________________________________\n",
      "dense_32 (Dense)             (None, 128)               92288     \n",
      "_________________________________________________________________\n",
      "dense_33 (Dense)             (None, 9)                 1161      \n",
      "=================================================================\n",
      "Total params: 1,425,961\n",
      "Trainable params: 1,425,961\n",
      "Non-trainable params: 0\n",
      "_________________________________________________________________\n"
     ]
    }
   ],
   "source": [
    "model = keras.models.Sequential()\n",
    "model.add(layers.Embedding(num_unique_words, 32, input_length = max_length))\n",
    "\n",
    "#model.add(layers.LSTM(32,dropout = 0.1))\n",
    "model.add(layers.GlobalAveragePooling1D())\n",
    "model.add(layers.Dense(128, activation = \"relu\"))\n",
    "model.add(layers.Dense(720, activation = \"relu\"))\n",
    "model.add(layers.Dense(720, activation = \"relu\"))\n",
    "model.add(layers.Dense(128, activation = \"relu\"))\n",
    "model.add(layers.Dense(9, activation = \"softmax\"))\n",
    "\n",
    "model.summary()"
   ]
  },
  {
   "cell_type": "code",
   "execution_count": 54,
   "metadata": {},
   "outputs": [],
   "source": [
    "loss = keras.losses.SparseCategoricalCrossentropy(from_logits=False)\n",
    "optim = keras.optimizers.Adamax(lr=0.001)\n",
    "metrics = [\"accuracy\"]\n",
    "\n",
    "model.compile(loss='rmsprop', optimizer = optim, metrics = metrics)"
   ]
  },
  {
   "cell_type": "code",
   "execution_count": 55,
   "metadata": {},
   "outputs": [
    {
     "name": "stdout",
     "output_type": "stream",
     "text": [
      "Epoch 1/50\n",
      "36/36 - 0s - loss: 1.1778 - accuracy: 0.7324 - val_loss: 5.1504 - val_accuracy: 0.3345\n",
      "Epoch 2/50\n",
      "36/36 - 0s - loss: 0.1940 - accuracy: 0.9648 - val_loss: 5.2104 - val_accuracy: 0.3592\n",
      "Epoch 3/50\n",
      "36/36 - 0s - loss: 0.1583 - accuracy: 0.9727 - val_loss: 5.1724 - val_accuracy: 0.3380\n",
      "Epoch 4/50\n",
      "36/36 - 0s - loss: 0.1488 - accuracy: 0.9745 - val_loss: 5.2649 - val_accuracy: 0.3556\n",
      "Epoch 5/50\n",
      "36/36 - 0s - loss: 0.1380 - accuracy: 0.9771 - val_loss: 5.2917 - val_accuracy: 0.3451\n",
      "Epoch 6/50\n",
      "36/36 - 0s - loss: 0.1329 - accuracy: 0.9745 - val_loss: 5.3533 - val_accuracy: 0.3521\n",
      "Epoch 7/50\n",
      "36/36 - 0s - loss: 0.1250 - accuracy: 0.9780 - val_loss: 5.4020 - val_accuracy: 0.3345\n",
      "Epoch 8/50\n",
      "36/36 - 0s - loss: 0.1229 - accuracy: 0.9798 - val_loss: 5.5014 - val_accuracy: 0.3556\n",
      "Epoch 9/50\n",
      "36/36 - 0s - loss: 0.1190 - accuracy: 0.9798 - val_loss: 5.5283 - val_accuracy: 0.3451\n",
      "Epoch 10/50\n",
      "36/36 - 0s - loss: 0.1174 - accuracy: 0.9789 - val_loss: 5.5909 - val_accuracy: 0.3451\n",
      "Epoch 11/50\n",
      "36/36 - 0s - loss: 0.1107 - accuracy: 0.9806 - val_loss: 5.6411 - val_accuracy: 0.3345\n",
      "Epoch 12/50\n",
      "36/36 - 0s - loss: 0.1068 - accuracy: 0.9806 - val_loss: 5.6667 - val_accuracy: 0.3415\n",
      "Epoch 13/50\n",
      "36/36 - 0s - loss: 0.1072 - accuracy: 0.9815 - val_loss: 5.7415 - val_accuracy: 0.3310\n",
      "Epoch 14/50\n",
      "36/36 - 0s - loss: 0.1040 - accuracy: 0.9815 - val_loss: 5.8067 - val_accuracy: 0.3310\n",
      "Epoch 15/50\n",
      "36/36 - 0s - loss: 0.0983 - accuracy: 0.9815 - val_loss: 5.8947 - val_accuracy: 0.3521\n",
      "Epoch 16/50\n",
      "36/36 - 0s - loss: 0.0984 - accuracy: 0.9815 - val_loss: 5.8986 - val_accuracy: 0.3310\n",
      "Epoch 17/50\n",
      "36/36 - 0s - loss: 0.0962 - accuracy: 0.9833 - val_loss: 6.0021 - val_accuracy: 0.3204\n",
      "Epoch 18/50\n",
      "36/36 - 0s - loss: 0.0915 - accuracy: 0.9824 - val_loss: 6.0665 - val_accuracy: 0.3380\n",
      "Epoch 19/50\n",
      "36/36 - 0s - loss: 0.0891 - accuracy: 0.9833 - val_loss: 6.1251 - val_accuracy: 0.3345\n",
      "Epoch 20/50\n",
      "36/36 - 0s - loss: 0.0881 - accuracy: 0.9833 - val_loss: 6.1589 - val_accuracy: 0.3415\n",
      "Epoch 21/50\n",
      "36/36 - 0s - loss: 0.0818 - accuracy: 0.9842 - val_loss: 6.2188 - val_accuracy: 0.3345\n",
      "Epoch 22/50\n",
      "36/36 - 0s - loss: 0.0846 - accuracy: 0.9842 - val_loss: 6.2653 - val_accuracy: 0.3451\n",
      "Epoch 23/50\n",
      "36/36 - 0s - loss: 0.0876 - accuracy: 0.9824 - val_loss: 6.3721 - val_accuracy: 0.3380\n",
      "Epoch 24/50\n",
      "36/36 - 0s - loss: 0.0823 - accuracy: 0.9850 - val_loss: 6.5191 - val_accuracy: 0.3451\n",
      "Epoch 25/50\n",
      "36/36 - 0s - loss: 0.0828 - accuracy: 0.9824 - val_loss: 6.5100 - val_accuracy: 0.3310\n",
      "Epoch 26/50\n",
      "36/36 - 0s - loss: 0.0804 - accuracy: 0.9842 - val_loss: 6.6681 - val_accuracy: 0.3486\n",
      "Epoch 27/50\n",
      "36/36 - 0s - loss: 0.0774 - accuracy: 0.9850 - val_loss: 6.6492 - val_accuracy: 0.3099\n",
      "Epoch 28/50\n",
      "36/36 - 0s - loss: 0.0888 - accuracy: 0.9850 - val_loss: 6.7357 - val_accuracy: 0.3415\n",
      "Epoch 29/50\n",
      "36/36 - 0s - loss: 0.0750 - accuracy: 0.9850 - val_loss: 6.9721 - val_accuracy: 0.3415\n",
      "Epoch 30/50\n",
      "36/36 - 0s - loss: 0.0748 - accuracy: 0.9842 - val_loss: 6.8579 - val_accuracy: 0.3345\n",
      "Epoch 31/50\n",
      "36/36 - 0s - loss: 0.0741 - accuracy: 0.9842 - val_loss: 6.9428 - val_accuracy: 0.3310\n",
      "Epoch 32/50\n",
      "36/36 - 0s - loss: 0.0690 - accuracy: 0.9850 - val_loss: 6.9999 - val_accuracy: 0.3345\n",
      "Epoch 33/50\n",
      "36/36 - 0s - loss: 0.0696 - accuracy: 0.9850 - val_loss: 7.4187 - val_accuracy: 0.3662\n",
      "Epoch 34/50\n",
      "36/36 - 0s - loss: 0.0698 - accuracy: 0.9850 - val_loss: 7.2039 - val_accuracy: 0.3239\n",
      "Epoch 35/50\n",
      "36/36 - 0s - loss: 0.0656 - accuracy: 0.9842 - val_loss: 7.2637 - val_accuracy: 0.3099\n",
      "Epoch 36/50\n",
      "36/36 - 0s - loss: 0.0732 - accuracy: 0.9842 - val_loss: 7.3565 - val_accuracy: 0.3521\n",
      "Epoch 37/50\n",
      "36/36 - 0s - loss: 0.0740 - accuracy: 0.9850 - val_loss: 7.4775 - val_accuracy: 0.3486\n",
      "Epoch 38/50\n",
      "36/36 - 0s - loss: 0.0661 - accuracy: 0.9859 - val_loss: 7.5728 - val_accuracy: 0.3239\n",
      "Epoch 39/50\n",
      "36/36 - 0s - loss: 0.0830 - accuracy: 0.9850 - val_loss: 7.6311 - val_accuracy: 0.3345\n",
      "Epoch 40/50\n",
      "36/36 - 0s - loss: 0.0674 - accuracy: 0.9850 - val_loss: 7.8043 - val_accuracy: 0.3486\n",
      "Epoch 41/50\n",
      "36/36 - 0s - loss: 0.0777 - accuracy: 0.9824 - val_loss: 7.7545 - val_accuracy: 0.3239\n",
      "Epoch 42/50\n",
      "36/36 - 0s - loss: 0.0772 - accuracy: 0.9842 - val_loss: 8.0171 - val_accuracy: 0.3204\n",
      "Epoch 43/50\n",
      "36/36 - 0s - loss: 0.0745 - accuracy: 0.9850 - val_loss: 8.0272 - val_accuracy: 0.3415\n",
      "Epoch 44/50\n",
      "36/36 - 0s - loss: 0.0772 - accuracy: 0.9833 - val_loss: 8.0811 - val_accuracy: 0.3134\n",
      "Epoch 45/50\n",
      "36/36 - 0s - loss: 0.0676 - accuracy: 0.9850 - val_loss: 8.1689 - val_accuracy: 0.3239\n",
      "Epoch 46/50\n",
      "36/36 - 0s - loss: 0.0666 - accuracy: 0.9842 - val_loss: 8.2353 - val_accuracy: 0.3099\n",
      "Epoch 47/50\n",
      "36/36 - 0s - loss: 0.0589 - accuracy: 0.9859 - val_loss: 8.2714 - val_accuracy: 0.3345\n",
      "Epoch 48/50\n",
      "36/36 - 0s - loss: 0.0554 - accuracy: 0.9859 - val_loss: 8.3881 - val_accuracy: 0.3345\n",
      "Epoch 49/50\n",
      "36/36 - 0s - loss: 0.0663 - accuracy: 0.9850 - val_loss: 8.4029 - val_accuracy: 0.3169\n",
      "Epoch 50/50\n",
      "36/36 - 0s - loss: 0.0735 - accuracy: 0.9850 - val_loss: 8.5475 - val_accuracy: 0.3239\n",
      "\n",
      "Finished in 5.9 second(s)\n"
     ]
    }
   ],
   "source": [
    "start = time.perf_counter()\n",
    "model.fit(train_padded,train_labels, epochs = 50, validation_data=(val_padded,val_labels), verbose=2)\n",
    "finish = time.perf_counter()\n",
    "print(f'\\nFinished in {round(finish-start, 2)} second(s)')"
   ]
  },
  {
   "cell_type": "code",
   "execution_count": 24,
   "metadata": {},
   "outputs": [],
   "source": [
    "predictions = model.predict(val_padded)\n",
    "predictions = [np.argmax(element) for element in predictions]"
   ]
  },
  {
   "cell_type": "code",
   "execution_count": 25,
   "metadata": {},
   "outputs": [
    {
     "name": "stdout",
     "output_type": "stream",
     "text": [
      "Label:  4\n",
      "Resultado:  4 \n",
      "\n",
      "[3 2 5 8 6 7 7 3 3 6 8 1 6 8 1 8 8 6 4 1 2 8 3 6 3 7 3 8 8 3 3 7 4 7 7 2 7\n",
      " 4 1 2 7 3 5 3 5 2 7 7 2 4 6 8 8 4 6 5 3 8 1 4 7 5 1 1 4 2 2 7 3 3 7 7 6 5\n",
      " 7 3 6 7 4 1 6 3 7 6 4 1 6 1 2 1 2 7 7 6 3 7 5 1 6 1 2 2 7 4 5 2 6 3 7 1 3\n",
      " 6 2 3 3 1 7 7 5 4 7 1 2 1 8 1 2 3 8 4 2 6 3 6 8 1 3 4 7 7 7 2 6 5 6 7 2 1\n",
      " 5 6 7 8 8 3 8 3 7 1 4 6 8 8 3 3 1 8 1 2 8 3 2 6 5 3 4 7 6 5 1 2 3 7 8 6 7\n",
      " 8 3 4 1 1 6 3 2 3 8 6 6 6 1 7 1 5 6 6 2 8 5 7 1 8 3 1 1 2 5 7 3 2 7 2 7 8\n",
      " 2 3 3 6 8 6 2 8 1 3 3 8 6 8 7 6 6 2 6 3 8 1 5 6 1 5 7 1 1 1 2 1 1 3 6 7 8\n",
      " 1 3 1 1 7 6 8 4 2 2 1 4 7 5 2 3 7 8 3 8 3 6 6 3 7] \n",
      "\n",
      "[7, 6, 1, 3, 6, 7, 1, 8, 3, 6, 8, 8, 6, 3, 3, 3, 8, 6, 4, 1, 6, 6, 3, 6, 3, 7, 5, 8, 3, 3, 3, 7, 4, 1, 1, 2, 7, 4, 3, 6, 1, 1, 1, 1, 1, 8, 1, 7, 6, 4, 6, 8, 3, 4, 6, 5, 3, 8, 1, 4, 7, 1, 1, 1, 4, 2, 6, 7, 3, 1, 3, 1, 6, 1, 3, 3, 1, 1, 4, 3, 1, 3, 7, 3, 4, 8, 6, 1, 6, 1, 2, 1, 8, 6, 1, 1, 1, 1, 6, 1, 6, 6, 5, 4, 1, 2, 6, 3, 1, 1, 3, 8, 6, 3, 3, 1, 7, 5, 1, 4, 1, 1, 6, 3, 6, 1, 6, 3, 8, 4, 2, 2, 3, 6, 8, 1, 3, 4, 1, 7, 7, 6, 8, 1, 6, 1, 2, 1, 1, 6, 7, 6, 3, 1, 8, 8, 7, 5, 4, 6, 8, 3, 3, 3, 3, 8, 1, 2, 8, 3, 6, 6, 1, 1, 4, 3, 6, 1, 3, 6, 3, 2, 1, 6, 7, 8, 8, 4, 1, 1, 6, 3, 6, 3, 8, 6, 6, 6, 1, 1, 1, 5, 1, 6, 2, 8, 1, 6, 3, 3, 1, 1, 1, 2, 1, 7, 8, 2, 5, 2, 3, 8, 6, 8, 3, 6, 3, 6, 2, 8, 8, 1, 1, 7, 6, 8, 7, 6, 6, 2, 6, 3, 8, 5, 1, 6, 3, 8, 7, 7, 3, 1, 2, 1, 8, 1, 6, 7, 8, 1, 3, 3, 8, 7, 6, 8, 4, 6, 2, 8, 4, 1, 1, 2, 3, 7, 2, 8, 3, 3, 6, 8, 3, 6]\n"
     ]
    }
   ],
   "source": [
    "print(\"Label: \",val_labels[64])\n",
    "print(\"Resultado: \",predictions[64],'\\n')\n",
    "print(val_labels,'\\n')\n",
    "print(predictions)"
   ]
  },
  {
   "cell_type": "code",
   "execution_count": 30,
   "metadata": {},
   "outputs": [
    {
     "name": "stdout",
     "output_type": "stream",
     "text": [
      "57.04225352112676\n"
     ]
    }
   ],
   "source": [
    "r = precision(val_labels,predictions)\n",
    "print(r)"
   ]
  },
  {
   "cell_type": "code",
   "execution_count": null,
   "metadata": {},
   "outputs": [],
   "source": []
  },
  {
   "cell_type": "code",
   "execution_count": null,
   "metadata": {},
   "outputs": [],
   "source": []
  }
 ],
 "metadata": {
  "kernelspec": {
   "display_name": "Python 3",
   "language": "python",
   "name": "python3"
  },
  "language_info": {
   "codemirror_mode": {
    "name": "ipython",
    "version": 3
   },
   "file_extension": ".py",
   "mimetype": "text/x-python",
   "name": "python",
   "nbconvert_exporter": "python",
   "pygments_lexer": "ipython3",
   "version": "3.8.5"
  }
 },
 "nbformat": 4,
 "nbformat_minor": 4
}
