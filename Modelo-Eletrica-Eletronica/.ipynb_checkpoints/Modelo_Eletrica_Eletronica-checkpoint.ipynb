{
 "cells": [
  {
   "cell_type": "code",
   "execution_count": 201,
   "metadata": {},
   "outputs": [],
   "source": [
    "import tensorflow as tf\n",
    "from tensorflow import keras\n",
    "import numpy as np\n",
    "import matplotlib.pyplot as plt\n",
    "import time\n",
    "import pandas as pd\n",
    "import numpy as np"
   ]
  },
  {
   "cell_type": "code",
   "execution_count": 202,
   "metadata": {},
   "outputs": [],
   "source": [
    "def get_data(nome_arquivo,shuffle):\n",
    "    ds = pd.read_csv(nome_arquivo,encoding=\"utf-8\")\n",
    "    if shuffle:\n",
    "        ds = ds.sample(frac=1)\n",
    "    ds['texto'] = ds['texto'].apply(str)\n",
    "    return ds"
   ]
  },
  {
   "cell_type": "code",
   "execution_count": 203,
   "metadata": {},
   "outputs": [],
   "source": [
    "df = get_data(\"train.csv\",1)"
   ]
  },
  {
   "cell_type": "code",
   "execution_count": 204,
   "metadata": {},
   "outputs": [
    {
     "data": {
      "text/plain": [
       "(800, 2)"
      ]
     },
     "execution_count": 204,
     "metadata": {},
     "output_type": "execute_result"
    }
   ],
   "source": [
    "df.shape"
   ]
  },
  {
   "cell_type": "code",
   "execution_count": 205,
   "metadata": {},
   "outputs": [
    {
     "data": {
      "text/html": [
       "<div>\n",
       "<style scoped>\n",
       "    .dataframe tbody tr th:only-of-type {\n",
       "        vertical-align: middle;\n",
       "    }\n",
       "\n",
       "    .dataframe tbody tr th {\n",
       "        vertical-align: top;\n",
       "    }\n",
       "\n",
       "    .dataframe thead th {\n",
       "        text-align: right;\n",
       "    }\n",
       "</style>\n",
       "<table border=\"1\" class=\"dataframe\">\n",
       "  <thead>\n",
       "    <tr style=\"text-align: right;\">\n",
       "      <th></th>\n",
       "      <th>valor</th>\n",
       "      <th>texto</th>\n",
       "    </tr>\n",
       "  </thead>\n",
       "  <tbody>\n",
       "    <tr>\n",
       "      <th>614</th>\n",
       "      <td>0</td>\n",
       "      <td>O objetivo do projeto é aprimorar a automação ...</td>\n",
       "    </tr>\n",
       "    <tr>\n",
       "      <th>150</th>\n",
       "      <td>1</td>\n",
       "      <td>Esta monografia tem como objetivo principal co...</td>\n",
       "    </tr>\n",
       "    <tr>\n",
       "      <th>532</th>\n",
       "      <td>0</td>\n",
       "      <td>O presente trabalho ressalta a importância do ...</td>\n",
       "    </tr>\n",
       "    <tr>\n",
       "      <th>667</th>\n",
       "      <td>0</td>\n",
       "      <td>Este trabalho apresenta um estudo de estabilid...</td>\n",
       "    </tr>\n",
       "    <tr>\n",
       "      <th>339</th>\n",
       "      <td>1</td>\n",
       "      <td>Este projeto tem como objetivo o desenvolvimen...</td>\n",
       "    </tr>\n",
       "  </tbody>\n",
       "</table>\n",
       "</div>"
      ],
      "text/plain": [
       "     valor                                              texto\n",
       "614      0  O objetivo do projeto é aprimorar a automação ...\n",
       "150      1  Esta monografia tem como objetivo principal co...\n",
       "532      0  O presente trabalho ressalta a importância do ...\n",
       "667      0  Este trabalho apresenta um estudo de estabilid...\n",
       "339      1  Este projeto tem como objetivo o desenvolvimen..."
      ]
     },
     "execution_count": 205,
     "metadata": {},
     "output_type": "execute_result"
    }
   ],
   "source": [
    "df.head()"
   ]
  },
  {
   "cell_type": "code",
   "execution_count": 206,
   "metadata": {},
   "outputs": [
    {
     "data": {
      "text/plain": [
       "614    O objetivo do projeto é aprimorar a automação ...\n",
       "150    Esta monografia tem como objetivo principal co...\n",
       "532    O presente trabalho ressalta a importância do ...\n",
       "667    Este trabalho apresenta um estudo de estabilid...\n",
       "339    Este projeto tem como objetivo o desenvolvimen...\n",
       "                             ...                        \n",
       "715    Este trabalho apresenta um estudo da operação ...\n",
       "722    Por muito tempo a principal fonte de energia e...\n",
       "706    O desenvolvimento da geração distribuída nos ú...\n",
       "131    Este trabalho aborda o desenvolvimento de um s...\n",
       "363    O crescente desenvolvimento tecnológico somado...\n",
       "Name: texto, Length: 800, dtype: object"
      ]
     },
     "execution_count": 206,
     "metadata": {},
     "output_type": "execute_result"
    }
   ],
   "source": [
    "df.texto"
   ]
  },
  {
   "cell_type": "code",
   "execution_count": 207,
   "metadata": {},
   "outputs": [
    {
     "name": "stdout",
     "output_type": "stream",
     "text": [
      "400\n",
      "400\n"
     ]
    }
   ],
   "source": [
    "print((df.valor==1).sum())#eletronica\n",
    "print((df.valor==0).sum())#eletrica"
   ]
  },
  {
   "cell_type": "code",
   "execution_count": 208,
   "metadata": {},
   "outputs": [
    {
     "name": "stderr",
     "output_type": "stream",
     "text": [
      "[nltk_data] Downloading package stopwords to\n",
      "[nltk_data]     C:\\Users\\Mateus\\AppData\\Roaming\\nltk_data...\n",
      "[nltk_data]   Package stopwords is already up-to-date!\n"
     ]
    }
   ],
   "source": [
    "import re\n",
    "import string\n",
    "import nltk\n",
    "nltk.download('stopwords')\n",
    "from nltk.corpus import stopwords\n",
    "\n",
    "stop = set(stopwords.words(\"portuguese\"))\n",
    "\n",
    "def remove_stopwords(text):\n",
    "    filtered_words = [word.lower() for word in text.split() if word.lower() not in stop]\n",
    "    return \" \".join(filtered_words)\n",
    "\n",
    "def remove_URL(text):\n",
    "    url = re.compile(r\"https?://\\S+|www\\.\\S+\")\n",
    "    return url.sub(r\"\",text)\n",
    "\n",
    "def remove_punct(text):\n",
    "    translator = str.maketrans(\"\",\"\",'!\"\"#$%&\\'()*+,./:;<=>?@[\\\\]^_`{|}~º')\n",
    "    translator = str.maketrans(\"\",\"\",'!\"\"#$%&\\'()*+,./:;<=>?@[\\\\]^_`{|}~º')\n",
    "    return text.translate(translator)\n",
    "\n",
    "def remove_numbers(text):\n",
    "    result = ''.join([i for i in text if not i.isdigit()])\n",
    "    return result\n",
    "\n",
    "def remove_hifen(text):\n",
    "    translator = str.maketrans('-',' ')\n",
    "    return text.translate(translator)"
   ]
  },
  {
   "cell_type": "code",
   "execution_count": 209,
   "metadata": {},
   "outputs": [],
   "source": [
    "pattern = re.compile(r\"https?//(\\S+|www)\\.\\S+\")\n",
    "def pat(df_t):\n",
    "    for t in df_t.texto:\n",
    "        matches = pattern.findall(t)\n",
    "        for match in  matches:\n",
    "            print(t)\n",
    "            print(match)\n",
    "            print(pattern.sub(r\"\",t))        \n",
    "        if len(matches)> 0:\n",
    "            break\n",
    "pat(df)            "
   ]
  },
  {
   "cell_type": "code",
   "execution_count": 210,
   "metadata": {},
   "outputs": [],
   "source": [
    "def make_test(df_t):\n",
    "    df_t[\"texto\"] = df_t.texto.map(remove_URL)\n",
    "    df_t[\"texto\"] = df_t.texto.map(remove_punct)\n",
    "    df_t[\"texto\"] = df_t.texto.map(remove_hifen)\n",
    "    df_t[\"texto\"] = df_t.texto.map(remove_numbers)\n",
    "    df_t[\"texto\"] = df_t.texto.map(remove_stopwords)\n",
    "\n",
    "make_test(df)"
   ]
  },
  {
   "cell_type": "code",
   "execution_count": 211,
   "metadata": {},
   "outputs": [],
   "source": [
    "from collections import Counter\n",
    "\n",
    "def counter_word(text_col):\n",
    "    count = Counter()\n",
    "    for text in text_col.values:\n",
    "        for word in text.split():\n",
    "            count[word] += 1\n",
    "    return count\n",
    "\n",
    "counter = counter_word(df.texto)"
   ]
  },
  {
   "cell_type": "code",
   "execution_count": 212,
   "metadata": {},
   "outputs": [
    {
     "data": {
      "text/plain": [
       "11626"
      ]
     },
     "execution_count": 212,
     "metadata": {},
     "output_type": "execute_result"
    }
   ],
   "source": [
    "len(counter)"
   ]
  },
  {
   "cell_type": "code",
   "execution_count": 213,
   "metadata": {},
   "outputs": [
    {
     "data": {
      "text/plain": [
       "[('sistema', 1047),\n",
       " ('trabalho', 911),\n",
       " ('energia', 656),\n",
       " ('projeto', 451),\n",
       " ('elétrica', 391)]"
      ]
     },
     "execution_count": 213,
     "metadata": {},
     "output_type": "execute_result"
    }
   ],
   "source": [
    "counter.most_common(5)"
   ]
  },
  {
   "cell_type": "code",
   "execution_count": 214,
   "metadata": {},
   "outputs": [],
   "source": [
    "num_unique_words = len(counter)"
   ]
  },
  {
   "cell_type": "code",
   "execution_count": 215,
   "metadata": {},
   "outputs": [],
   "source": [
    "#train_size = int(df.shape[0]*0.8)\n",
    "\n",
    "#train_df = df[:train_size]\n",
    "#val_df = df[train_size:]\n",
    "\n",
    "def data_split(df,size):\n",
    "    train_size = int(df.shape[0]*size)\n",
    "    train_df = df[:train_size]\n",
    "    val_df = df[train_size:]\n",
    "    return train_df, val_df\n",
    "\n",
    "train_df, val_df = data_split(df,0.8)"
   ]
  },
  {
   "cell_type": "code",
   "execution_count": 216,
   "metadata": {},
   "outputs": [
    {
     "name": "stdout",
     "output_type": "stream",
     "text": [
      "640\n",
      "160\n"
     ]
    }
   ],
   "source": [
    "print(len(train_df))\n",
    "print(len(val_df))"
   ]
  },
  {
   "cell_type": "code",
   "execution_count": 217,
   "metadata": {},
   "outputs": [],
   "source": [
    "def data_to_numpy(df):    \n",
    "    train_sentences = train_df.texto.to_numpy()\n",
    "    train_labels = train_df.valor.to_numpy()\n",
    "    val_sentences = val_df.texto.to_numpy()\n",
    "    val_labels = val_df.valor.to_numpy()\n",
    "    return train_sentences, train_labels, val_sentences, val_labels\n",
    "\n",
    "train_sentences, train_labels, val_sentences, val_labels = data_to_numpy(df)"
   ]
  },
  {
   "cell_type": "code",
   "execution_count": 218,
   "metadata": {},
   "outputs": [
    {
     "data": {
      "text/plain": [
       "((640,), (160,))"
      ]
     },
     "execution_count": 218,
     "metadata": {},
     "output_type": "execute_result"
    }
   ],
   "source": [
    "train_sentences.shape, val_sentences.shape"
   ]
  },
  {
   "cell_type": "code",
   "execution_count": 219,
   "metadata": {},
   "outputs": [],
   "source": [
    "from tensorflow.keras.preprocessing.text import Tokenizer\n",
    "tokenizer = Tokenizer(num_words = num_unique_words,oov_token=\"<OOV>\")\n",
    "def tokenization(df):      \n",
    "    tokenizer.fit_on_texts(train_sentences)\n",
    "    word_index = tokenizer.word_index\n",
    "    train_sequences = tokenizer.texts_to_sequences(train_sentences)\n",
    "    val_sequences = tokenizer.texts_to_sequences(val_sentences)\n",
    "    return train_sequences, val_sequences, word_index\n",
    "\n",
    "train_sequences, val_sequences, word_index = tokenization(df)"
   ]
  },
  {
   "cell_type": "code",
   "execution_count": 220,
   "metadata": {},
   "outputs": [],
   "source": [
    "#word_index = tokenizer.word_index"
   ]
  },
  {
   "cell_type": "code",
   "execution_count": 221,
   "metadata": {},
   "outputs": [],
   "source": [
    "#train_sequences = tokenizer.texts_to_sequences(train_sentences)\n",
    "#val_sequences = tokenizer.texts_to_sequences(val_sentences)"
   ]
  },
  {
   "cell_type": "code",
   "execution_count": 222,
   "metadata": {},
   "outputs": [
    {
     "data": {
      "text/plain": [
       "((640, 600), (160, 600))"
      ]
     },
     "execution_count": 222,
     "metadata": {},
     "output_type": "execute_result"
    }
   ],
   "source": [
    "from tensorflow.keras.preprocessing.sequence import pad_sequences\n",
    "\n",
    "max_length = 600\n",
    "\n",
    "train_padded = pad_sequences(train_sequences, maxlen=max_length, padding = \"post\",truncating = \"post\")\n",
    "val_padded = pad_sequences(val_sequences, maxlen = max_length, padding = \"post\", truncating = \"post\")\n",
    "train_padded.shape, val_padded.shape"
   ]
  },
  {
   "cell_type": "code",
   "execution_count": 223,
   "metadata": {},
   "outputs": [],
   "source": [
    "reverse_word_index = dict([(idx,word) for (word, idx) in word_index.items()])"
   ]
  },
  {
   "cell_type": "code",
   "execution_count": 224,
   "metadata": {},
   "outputs": [],
   "source": [
    "def decode(sequence):\n",
    "    return \" \".join([reverse_word_index.get(idx, \"?\") for idx in sequence])"
   ]
  },
  {
   "cell_type": "code",
   "execution_count": 225,
   "metadata": {},
   "outputs": [
    {
     "name": "stdout",
     "output_type": "stream",
     "text": [
      "[1152, 715, 4, 7, 408, 506, 620, 171, 181, 433, 1541, 716, 302, 1152, 238, 302, 95, 1719, 237, 566, 677, 335, 16, 2649, 2635, 224, 254, 195, 717, 2650, 217, 142, 319, 124, 111, 121, 239, 1542, 590, 414, 925, 3177, 266, 1153, 542, 24, 102, 1379, 135, 223, 1380, 448, 19, 72, 1067, 254, 44, 2651, 225, 1543, 620, 1381, 6, 254, 195, 105, 44, 614, 4013, 990, 245, 5678, 271, 351, 991, 1720, 5, 176, 1068, 144, 293, 263, 87, 30, 8, 718, 112, 464, 181, 433, 1938, 80, 506, 5679, 104, 1700, 277, 2652, 796, 992, 752, 719, 75, 567, 1154, 720, 331, 4014, 224, 1155, 181, 16, 1939, 1156, 1721, 1258, 1382, 5, 209, 753, 197, 56, 296, 5680, 28, 254, 16, 1939, 352, 1152, 177, 926, 14, 74, 752, 5681, 5682, 278, 172, 1722, 127, 72, 433, 562, 5683, 308, 51, 1723, 861, 506]\n",
      "medidor inteligente energia elétrica aplicado indústria projetado proposto motores indução trifásicos dividido módulos medidor possui módulos sensores fazem aquisição tensões correntes fase forma invasiva facilitando instalação módulo principal conta dspic microcontrolador alta capacidade processamento capaz realizar hardware cálculos transformada rápida fourier viabilizando obtenção frequências harmônicas tensão corrente calculados ainda valores eficazes fator potência motor último módulo comunicação wifi baseado esp projetado receber dados módulo principal via comunicação serial spi enviar protocolo get internet fio servidor online projeto busca oferecer solução simples baixo custo pode ser útil analisar falhas motores indução largamente utilizados indústria falharem podem causar grandes prejuízos econômicos comparado medidores disponíveis mercado preço cerca vezes menor viabiliza instalação permanente motores forma individual finalmente afim comprovar funcionalidade projeto protótipo construído metodologia testes desenvolvida ensaiar cada módulo forma individual seguida medidor todo comparando resultados obtidos medidores multímetros osciloscópios teste final escolhido realizado motor indução comercial refletindo situação operação próxima realidade indústria\n"
     ]
    }
   ],
   "source": [
    "decoded_text = decode(train_sequences[10])\n",
    "\n",
    "print(train_sequences[10])\n",
    "print(decoded_text)"
   ]
  },
  {
   "cell_type": "code",
   "execution_count": 226,
   "metadata": {},
   "outputs": [
    {
     "name": "stdout",
     "output_type": "stream",
     "text": [
      "Model: \"sequential_14\"\n",
      "_________________________________________________________________\n",
      "Layer (type)                 Output Shape              Param #   \n",
      "=================================================================\n",
      "embedding_14 (Embedding)     (None, 600, 32)           372032    \n",
      "_________________________________________________________________\n",
      "global_average_pooling1d_13  (None, 32)                0         \n",
      "_________________________________________________________________\n",
      "dense_56 (Dense)             (None, 128)               4224      \n",
      "_________________________________________________________________\n",
      "dense_57 (Dense)             (None, 128)               16512     \n",
      "_________________________________________________________________\n",
      "dense_58 (Dense)             (None, 24)                3096      \n",
      "_________________________________________________________________\n",
      "dense_59 (Dense)             (None, 2)                 50        \n",
      "=================================================================\n",
      "Total params: 395,914\n",
      "Trainable params: 395,914\n",
      "Non-trainable params: 0\n",
      "_________________________________________________________________\n"
     ]
    }
   ],
   "source": [
    "from tensorflow.keras import layers\n",
    "\n",
    "model = keras.models.Sequential()\n",
    "model.add(layers.Embedding(num_unique_words, 32, input_length = max_length))\n",
    "\n",
    "#model.add(layers.LSTM(256,dropout = 0.1))\n",
    "model.add(layers.GlobalAveragePooling1D())\n",
    "model.add(layers.Dense(128, activation = \"relu\"))\n",
    "model.add(layers.Dense(128, activation = \"relu\"))\n",
    "model.add(layers.Dense(24, activation = \"softmax\"))\n",
    "#model.add(layers.Dense(1, activation = \"sigmoid\"))\n",
    "#model.add(layers.Softmax())\n",
    "model.add(layers.Dense(2, activation = \"sigmoid\"))\n",
    "\n",
    "\n",
    "model.summary()"
   ]
  },
  {
   "cell_type": "code",
   "execution_count": 227,
   "metadata": {},
   "outputs": [],
   "source": [
    "#loss = keras.losses.BinaryCrossentropy(from_logits=False)\n",
    "loss = keras.losses.SparseCategoricalCrossentropy(from_logits=False)\n",
    "optim = keras.optimizers.Adam(lr=0.001)\n",
    "metrics = [\"accuracy\"]\n",
    "\n",
    "model.compile(loss=loss, optimizer = optim, metrics = metrics)"
   ]
  },
  {
   "cell_type": "code",
   "execution_count": 229,
   "metadata": {},
   "outputs": [
    {
     "name": "stdout",
     "output_type": "stream",
     "text": [
      "Epoch 1/30\n",
      "20/20 - 0s - loss: 0.1289 - accuracy: 0.9969 - val_loss: 0.6099 - val_accuracy: 0.7188\n",
      "Epoch 2/30\n",
      "20/20 - 0s - loss: 0.1257 - accuracy: 0.9969 - val_loss: 0.7143 - val_accuracy: 0.6750\n",
      "Epoch 3/30\n",
      "20/20 - 0s - loss: 0.1195 - accuracy: 0.9984 - val_loss: 0.6129 - val_accuracy: 0.7250\n",
      "Epoch 4/30\n",
      "20/20 - 0s - loss: 0.1152 - accuracy: 0.9984 - val_loss: 0.6445 - val_accuracy: 0.7000\n",
      "Epoch 5/30\n",
      "20/20 - 0s - loss: 0.1119 - accuracy: 0.9984 - val_loss: 0.6274 - val_accuracy: 0.7188\n",
      "Epoch 6/30\n",
      "20/20 - 0s - loss: 0.1089 - accuracy: 0.9984 - val_loss: 0.6344 - val_accuracy: 0.7188\n",
      "Epoch 7/30\n",
      "20/20 - 0s - loss: 0.1059 - accuracy: 0.9984 - val_loss: 0.6405 - val_accuracy: 0.7125\n",
      "Epoch 8/30\n",
      "20/20 - 0s - loss: 0.1032 - accuracy: 0.9984 - val_loss: 0.6423 - val_accuracy: 0.7188\n",
      "Epoch 9/30\n",
      "20/20 - 0s - loss: 0.1005 - accuracy: 0.9984 - val_loss: 0.6457 - val_accuracy: 0.7188\n",
      "Epoch 10/30\n",
      "20/20 - 0s - loss: 0.0980 - accuracy: 0.9984 - val_loss: 0.6531 - val_accuracy: 0.7125\n",
      "Epoch 11/30\n",
      "20/20 - 0s - loss: 0.0955 - accuracy: 0.9984 - val_loss: 0.6537 - val_accuracy: 0.7188\n",
      "Epoch 12/30\n",
      "20/20 - 0s - loss: 0.0932 - accuracy: 0.9984 - val_loss: 0.6596 - val_accuracy: 0.7125\n",
      "Epoch 13/30\n",
      "20/20 - 0s - loss: 0.0910 - accuracy: 0.9984 - val_loss: 0.6637 - val_accuracy: 0.7125\n",
      "Epoch 14/30\n",
      "20/20 - 0s - loss: 0.0888 - accuracy: 0.9984 - val_loss: 0.6638 - val_accuracy: 0.7188\n",
      "Epoch 15/30\n",
      "20/20 - 0s - loss: 0.0867 - accuracy: 0.9984 - val_loss: 0.6708 - val_accuracy: 0.7125\n",
      "Epoch 16/30\n",
      "20/20 - 0s - loss: 0.0848 - accuracy: 0.9984 - val_loss: 0.6731 - val_accuracy: 0.7188\n",
      "Epoch 17/30\n",
      "20/20 - 0s - loss: 0.0828 - accuracy: 0.9984 - val_loss: 0.6794 - val_accuracy: 0.7125\n",
      "Epoch 18/30\n",
      "20/20 - 0s - loss: 0.0810 - accuracy: 0.9984 - val_loss: 0.6803 - val_accuracy: 0.7188\n",
      "Epoch 19/30\n",
      "20/20 - 0s - loss: 0.0792 - accuracy: 0.9984 - val_loss: 0.6822 - val_accuracy: 0.7188\n",
      "Epoch 20/30\n",
      "20/20 - 0s - loss: 0.0775 - accuracy: 0.9984 - val_loss: 0.6859 - val_accuracy: 0.7188\n",
      "Epoch 21/30\n",
      "20/20 - 0s - loss: 0.0760 - accuracy: 0.9984 - val_loss: 0.7478 - val_accuracy: 0.6938\n",
      "Epoch 22/30\n",
      "20/20 - 0s - loss: 0.0722 - accuracy: 1.0000 - val_loss: 0.6557 - val_accuracy: 0.7375\n",
      "Epoch 23/30\n",
      "20/20 - 0s - loss: 0.0687 - accuracy: 1.0000 - val_loss: 0.7422 - val_accuracy: 0.6938\n",
      "Epoch 24/30\n",
      "20/20 - 0s - loss: 0.0670 - accuracy: 1.0000 - val_loss: 0.6956 - val_accuracy: 0.7312\n",
      "Epoch 25/30\n",
      "20/20 - 0s - loss: 0.0655 - accuracy: 1.0000 - val_loss: 0.6987 - val_accuracy: 0.7312\n",
      "Epoch 26/30\n",
      "20/20 - 0s - loss: 0.0640 - accuracy: 1.0000 - val_loss: 0.7051 - val_accuracy: 0.7312\n",
      "Epoch 27/30\n",
      "20/20 - 0s - loss: 0.0626 - accuracy: 1.0000 - val_loss: 0.7121 - val_accuracy: 0.7250\n",
      "Epoch 28/30\n",
      "20/20 - 0s - loss: 0.0613 - accuracy: 1.0000 - val_loss: 0.7177 - val_accuracy: 0.7250\n",
      "Epoch 29/30\n",
      "20/20 - 0s - loss: 0.0600 - accuracy: 1.0000 - val_loss: 0.7218 - val_accuracy: 0.7250\n",
      "Epoch 30/30\n",
      "20/20 - 0s - loss: 0.0587 - accuracy: 1.0000 - val_loss: 0.7239 - val_accuracy: 0.7250\n",
      "\n",
      "Finished in 2.65 second(s)\n"
     ]
    }
   ],
   "source": [
    "import time\n",
    "start = time.perf_counter()\n",
    "model.fit(train_padded,train_labels, epochs = 30, validation_data=(val_padded,val_labels), verbose=2)\n",
    "finish = time.perf_counter()\n",
    "print(f'\\nFinished in {round(finish-start, 2)} second(s)')"
   ]
  },
  {
   "cell_type": "code",
   "execution_count": 232,
   "metadata": {},
   "outputs": [
    {
     "name": "stdout",
     "output_type": "stream",
     "text": [
      "[1, 1, 0, 1, 0, 0, 0, 0, 1, 0, 0, 1, 0, 0, 1, 0, 1, 0, 1, 1, 1, 1, 0, 0, 1, 0, 1, 1, 0, 0, 0, 1, 1, 1, 0, 1, 1, 1, 0, 1, 0, 1, 0, 0, 1, 1, 0, 1, 0, 0, 0, 1, 0, 0, 0, 1, 0, 0, 1, 1, 0, 1, 0, 1, 0, 1, 0, 1, 0, 0, 0, 0, 1, 0, 0, 1, 0, 0, 1, 0, 1, 1, 0, 0, 1, 1, 0, 1, 0, 1, 1, 0, 1, 0, 1, 1, 0, 1, 1, 1, 1, 1, 0, 0, 1, 0, 0, 1, 0, 1, 0, 0, 1, 1, 1, 1, 0, 1, 0, 1, 1, 0, 0, 0, 1, 0, 0, 1, 0, 1, 1, 0, 1, 1, 1, 0, 1, 1, 0, 0, 0, 1, 0, 0, 1, 1, 0, 0, 1, 1, 0, 0, 1, 0, 0, 0, 0, 0, 1, 0]\n"
     ]
    }
   ],
   "source": [
    "predictions = model.predict(val_padded)\n",
    "print([np.argmax(element) for element in predictions])\n",
    "\n",
    "#predictions = [1 if p > 0.5 else 0 for p in predictions]"
   ]
  },
  {
   "cell_type": "code",
   "execution_count": 231,
   "metadata": {},
   "outputs": [
    {
     "name": "stdout",
     "output_type": "stream",
     "text": [
      "Label:  0\n",
      "Resultado:  [0.81427556 0.21116403] \n",
      "\n",
      "[1 1 1 1 0 0 0 0 1 0 1 1 0 0 0 0 1 0 1 0 0 1 0 1 0 0 1 1 0 0 0 1 1 1 1 0 1\n",
      " 1 0 1 1 1 0 1 1 1 1 1 0 0 0 0 0 0 1 1 0 0 0 1 1 0 0 0 1 1 0 1 0 1 0 1 1 0\n",
      " 0 1 0 1 1 0 1 1 0 1 0 0 0 1 0 1 0 0 1 1 0 1 0 1 1 1 1 1 0 0 1 0 0 1 0 1 0\n",
      " 0 0 1 1 1 0 1 0 1 1 1 0 0 0 1 0 0 0 1 0 0 0 1 1 0 1 1 1 1 0 0 0 1 0 1 0 0\n",
      " 1 1 0 1 0 1 0 0 0 0 1 1] \n",
      "\n",
      "[[0.40413007 0.6037802 ]\n",
      " [0.19212398 0.80185044]\n",
      " [0.7853347  0.24062052]\n",
      " [0.19178507 0.8021738 ]\n",
      " [0.8142788  0.21116054]\n",
      " [0.8142973  0.2111434 ]\n",
      " [0.8136343  0.21182048]\n",
      " [0.81427556 0.21116403]\n",
      " [0.1917347  0.802222  ]\n",
      " [0.81428707 0.21115255]\n",
      " [0.7295759  0.29618824]\n",
      " [0.21803439 0.7772325 ]\n",
      " [0.8142562  0.21118376]\n",
      " [0.8142985  0.21114245]\n",
      " [0.19778606 0.7964537 ]\n",
      " [0.8066536  0.21896389]\n",
      " [0.19400662 0.80005485]\n",
      " [0.8142562  0.21118316]\n",
      " [0.19227326 0.8017081 ]\n",
      " [0.3060376  0.69473714]\n",
      " [0.223876   0.7717085 ]\n",
      " [0.19185176 0.8021102 ]\n",
      " [0.75682527 0.2692087 ]\n",
      " [0.80715156 0.21845564]\n",
      " [0.2675447  0.730656  ]\n",
      " [0.813908   0.21153909]\n",
      " [0.21457368 0.78051007]\n",
      " [0.20009932 0.7942518 ]\n",
      " [0.8116121  0.21388775]\n",
      " [0.70629215 0.31901905]\n",
      " [0.7195444  0.30605295]\n",
      " [0.19174793 0.80220926]\n",
      " [0.41942063 0.589621  ]\n",
      " [0.19165    0.8023027 ]\n",
      " [0.51573485 0.5001768 ]\n",
      " [0.27359247 0.72499853]\n",
      " [0.19164467 0.8023077 ]\n",
      " [0.24056312 0.7559743 ]\n",
      " [0.81424963 0.21119028]\n",
      " [0.33100343 0.6715337 ]\n",
      " [0.7499858  0.27601135]\n",
      " [0.19202942 0.8019407 ]\n",
      " [0.81060207 0.214926  ]\n",
      " [0.7193267  0.3062687 ]\n",
      " [0.19167852 0.8022754 ]\n",
      " [0.19272813 0.8012742 ]\n",
      " [0.7843039  0.24165863]\n",
      " [0.19189343 0.8020705 ]\n",
      " [0.81159794 0.2139059 ]\n",
      " [0.814289   0.21115097]\n",
      " [0.795783   0.23003238]\n",
      " [0.1920858  0.8018869 ]\n",
      " [0.8116249  0.21387944]\n",
      " [0.79796886 0.22780669]\n",
      " [0.7323282  0.2934837 ]\n",
      " [0.19442728 0.7996539 ]\n",
      " [0.8040329  0.22163841]\n",
      " [0.8138137  0.2116349 ]\n",
      " [0.22024795 0.7751379 ]\n",
      " [0.19698128 0.79722023]\n",
      " [0.77464724 0.25138432]\n",
      " [0.19565257 0.79848605]\n",
      " [0.8142842  0.21115527]\n",
      " [0.31696633 0.68457484]\n",
      " [0.6492487  0.37416327]\n",
      " [0.19180188 0.8021579 ]\n",
      " [0.7469561  0.2790174 ]\n",
      " [0.39091885 0.6160134 ]\n",
      " [0.813771   0.21167973]\n",
      " [0.8128882  0.21258119]\n",
      " [0.81427634 0.21116227]\n",
      " [0.757653   0.26838222]\n",
      " [0.24794307 0.7490357 ]\n",
      " [0.77491903 0.25111043]\n",
      " [0.81427157 0.21116799]\n",
      " [0.3865956  0.62001467]\n",
      " [0.8142958  0.21114466]\n",
      " [0.8142961  0.21114439]\n",
      " [0.19191587 0.80204916]\n",
      " [0.81277376 0.21269956]\n",
      " [0.19193345 0.80203235]\n",
      " [0.3028987  0.6976601 ]\n",
      " [0.8124635  0.21302041]\n",
      " [0.652862   0.37069735]\n",
      " [0.19702029 0.797183  ]\n",
      " [0.19164509 0.80230737]\n",
      " [0.7720134  0.25401986]\n",
      " [0.19311467 0.80090547]\n",
      " [0.81429064 0.2111494 ]\n",
      " [0.19185582 0.80210626]\n",
      " [0.24517435 0.75163627]\n",
      " [0.8023023  0.22339892]\n",
      " [0.19164136 0.80231094]\n",
      " [0.75220615 0.2738009 ]\n",
      " [0.28166968 0.71745133]\n",
      " [0.19162971 0.8023219 ]\n",
      " [0.8107964  0.2147268 ]\n",
      " [0.1918768  0.80208635]\n",
      " [0.21707076 0.7781456 ]\n",
      " [0.19164297 0.8023094 ]\n",
      " [0.19174525 0.8022118 ]\n",
      " [0.35074073 0.65322876]\n",
      " [0.81428814 0.21115184]\n",
      " [0.8142894  0.21115056]\n",
      " [0.19563493 0.7985028 ]\n",
      " [0.8142976  0.21114317]\n",
      " [0.8140898  0.21135366]\n",
      " [0.19439918 0.79968065]\n",
      " [0.81428874 0.21115094]\n",
      " [0.19952974 0.79479384]\n",
      " [0.81368494 0.21176788]\n",
      " [0.8139142  0.21153343]\n",
      " [0.22771057 0.7680878 ]\n",
      " [0.20200628 0.7924377 ]\n",
      " [0.3053475  0.69537735]\n",
      " [0.23318657 0.76292235]\n",
      " [0.8142871  0.21115255]\n",
      " [0.19163796 0.80231416]\n",
      " [0.8141407  0.21130106]\n",
      " [0.19164553 0.802307  ]\n",
      " [0.1916534  0.8022995 ]\n",
      " [0.78383005 0.24213687]\n",
      " [0.8142922  0.21114773]\n",
      " [0.8140449  0.21139807]\n",
      " [0.2689115  0.7293758 ]\n",
      " [0.8119705  0.21352565]\n",
      " [0.8142318  0.21120813]\n",
      " [0.19418353 0.7998862 ]\n",
      " [0.8142973  0.2111434 ]\n",
      " [0.19836879 0.7958989 ]\n",
      " [0.22431198 0.7712971 ]\n",
      " [0.8132684  0.21219525]\n",
      " [0.19560543 0.79853094]\n",
      " [0.1916498  0.80230296]\n",
      " [0.37215436 0.6333879 ]\n",
      " [0.8133011  0.21216026]\n",
      " [0.20385343 0.7906819 ]\n",
      " [0.19349575 0.8005421 ]\n",
      " [0.79345596 0.23239788]\n",
      " [0.81417435 0.21126619]\n",
      " [0.7842963  0.24166793]\n",
      " [0.19190907 0.8020556 ]\n",
      " [0.8142966  0.211144  ]\n",
      " [0.79428214 0.23155823]\n",
      " [0.19163024 0.8023215 ]\n",
      " [0.29994142 0.70041496]\n",
      " [0.8142787  0.21116075]\n",
      " [0.5733595  0.44619325]\n",
      " [0.46398926 0.5483163 ]\n",
      " [0.19176763 0.80219054]\n",
      " [0.8138145  0.21163356]\n",
      " [0.8114847  0.21402052]\n",
      " [0.29999658 0.70036244]\n",
      " [0.73445135 0.29139024]\n",
      " [0.8142873  0.21115255]\n",
      " [0.814297   0.21114364]\n",
      " [0.8142952  0.21114519]\n",
      " [0.81429774 0.21114305]\n",
      " [0.20764488 0.78708076]\n",
      " [0.81307995 0.21238768]]\n"
     ]
    }
   ],
   "source": [
    "index = 7\n",
    "#print(val_sentences[index])\n",
    "#print(val_padded[index],'\\n')\n",
    "print(\"Label: \",val_labels[index])\n",
    "print(\"Resultado: \",predictions[index],'\\n')\n",
    "print(val_labels,'\\n')\n",
    "print(predictions)"
   ]
  },
  {
   "cell_type": "code",
   "execution_count": 176,
   "metadata": {},
   "outputs": [],
   "source": [
    "df_t = get_data(\"eval.csv\",0)"
   ]
  },
  {
   "cell_type": "code",
   "execution_count": 177,
   "metadata": {},
   "outputs": [
    {
     "data": {
      "text/plain": [
       "(8, 2)"
      ]
     },
     "execution_count": 177,
     "metadata": {},
     "output_type": "execute_result"
    }
   ],
   "source": [
    "df_t.shape"
   ]
  },
  {
   "cell_type": "code",
   "execution_count": 178,
   "metadata": {},
   "outputs": [
    {
     "data": {
      "text/html": [
       "<div>\n",
       "<style scoped>\n",
       "    .dataframe tbody tr th:only-of-type {\n",
       "        vertical-align: middle;\n",
       "    }\n",
       "\n",
       "    .dataframe tbody tr th {\n",
       "        vertical-align: top;\n",
       "    }\n",
       "\n",
       "    .dataframe thead th {\n",
       "        text-align: right;\n",
       "    }\n",
       "</style>\n",
       "<table border=\"1\" class=\"dataframe\">\n",
       "  <thead>\n",
       "    <tr style=\"text-align: right;\">\n",
       "      <th></th>\n",
       "      <th>valor</th>\n",
       "      <th>texto</th>\n",
       "    </tr>\n",
       "  </thead>\n",
       "  <tbody>\n",
       "    <tr>\n",
       "      <th>0</th>\n",
       "      <td>1</td>\n",
       "      <td>Este projeto visa uma nova abordagem para um s...</td>\n",
       "    </tr>\n",
       "    <tr>\n",
       "      <th>1</th>\n",
       "      <td>1</td>\n",
       "      <td>Nesta monografia, é apresentada a proposta de ...</td>\n",
       "    </tr>\n",
       "    <tr>\n",
       "      <th>2</th>\n",
       "      <td>1</td>\n",
       "      <td>O objetivo da monografia foi estudar como as t...</td>\n",
       "    </tr>\n",
       "    <tr>\n",
       "      <th>3</th>\n",
       "      <td>1</td>\n",
       "      <td>As células de carga são instrumentos versáteis...</td>\n",
       "    </tr>\n",
       "    <tr>\n",
       "      <th>4</th>\n",
       "      <td>0</td>\n",
       "      <td>Na atualidade, a produção termelétrica partici...</td>\n",
       "    </tr>\n",
       "  </tbody>\n",
       "</table>\n",
       "</div>"
      ],
      "text/plain": [
       "   valor                                              texto\n",
       "0      1  Este projeto visa uma nova abordagem para um s...\n",
       "1      1  Nesta monografia, é apresentada a proposta de ...\n",
       "2      1  O objetivo da monografia foi estudar como as t...\n",
       "3      1  As células de carga são instrumentos versáteis...\n",
       "4      0  Na atualidade, a produção termelétrica partici..."
      ]
     },
     "execution_count": 178,
     "metadata": {},
     "output_type": "execute_result"
    }
   ],
   "source": [
    "df_t.head()"
   ]
  },
  {
   "cell_type": "code",
   "execution_count": 179,
   "metadata": {},
   "outputs": [],
   "source": [
    "pat(df_t)\n",
    "make_test(df_t)"
   ]
  },
  {
   "cell_type": "code",
   "execution_count": 180,
   "metadata": {},
   "outputs": [
    {
     "data": {
      "text/plain": [
       "0    projeto visa nova abordagem sistema vigilância...\n",
       "1    nesta monografia apresentada proposta equipame...\n",
       "2    objetivo monografia estudar técnicas controle ...\n",
       "3    células carga instrumentos versáteis usados mo...\n",
       "4    atualidade produção termelétrica participa mar...\n",
       "5    neste trabalho apresentado projeto instalação ...\n",
       "6    trabalho intitulado “estimação preço demanda e...\n",
       "7    trabalho apresenta estudo sobre impactos causa...\n",
       "Name: texto, dtype: object"
      ]
     },
     "execution_count": 180,
     "metadata": {},
     "output_type": "execute_result"
    }
   ],
   "source": [
    "df_t.texto"
   ]
  },
  {
   "cell_type": "code",
   "execution_count": 181,
   "metadata": {},
   "outputs": [],
   "source": [
    "test_sentences = df_t.texto.to_numpy()\n",
    "test_labels = df_t.valor.to_numpy()"
   ]
  },
  {
   "cell_type": "code",
   "execution_count": 182,
   "metadata": {},
   "outputs": [],
   "source": [
    "test_sequences = tokenizer.texts_to_sequences(test_sentences)"
   ]
  },
  {
   "cell_type": "code",
   "execution_count": 183,
   "metadata": {},
   "outputs": [],
   "source": [
    "test_padded = pad_sequences(test_sequences, maxlen=max_length, padding = \"post\",truncating = \"post\")"
   ]
  },
  {
   "cell_type": "code",
   "execution_count": 233,
   "metadata": {},
   "outputs": [
    {
     "name": "stdout",
     "output_type": "stream",
     "text": [
      "[[0.1946227  0.79946756]\n",
      " [0.7966277  0.22917894]\n",
      " [0.7381285  0.28774518]\n",
      " [0.1925447  0.8014491 ]\n",
      " [0.73600364 0.28985548]\n",
      " [0.8139216  0.21152365]\n",
      " [0.2916277  0.7081614 ]\n",
      " [0.8142838  0.2111558 ]]\n"
     ]
    }
   ],
   "source": [
    "predictions_t = model.predict(test_padded)\n",
    "print(predictions_t)\n",
    "#predictions_t = [1 if p > 0.5 else 0 for p in predictions_t]"
   ]
  },
  {
   "cell_type": "code",
   "execution_count": 236,
   "metadata": {},
   "outputs": [
    {
     "name": "stdout",
     "output_type": "stream",
     "text": [
      "objetivo monografia estudar técnicas controle linear utilizadas determinar controladores largamente conhecidos avr pss impactam margem estabilidade transitória sistema máquina versus barramento infinito omib one machine versus infinite bus adota modelo eixo gerador síncrono pólos salientes seguida estudam modelos avr pss apresentados norma ieee standard ieee standard adotando modelo pssa single input daquela norma equações diferenciais sistema numericamente integradas sistema então simulado sob perturbação resposta dinâmica analisada averiguadas ocorrências bifurcações hopf sistema função parâmetros controladores através parametrização autovalores análise comportamento local sistema equilíbrio traçam diagramas bifurcação sistema baseando teoria regiões estabilidade sistemas dinâmicos lineares simulações utilizadas desenvolver método força bruta mfb estimar região estabilidade sistema malha aberta controlado avr controlado avr pss saturadores excitação traçam regiões estabilidade variando alguns parâmetros ganhos controladores estimativas comparadas concluir acerca impactos controladores naquelo tamanho região estabilidade conclui enquanto sistema malha aberta possui maior região introdução controlador avr sistema extremamente deletéria região estabilidade sistema seguida pss expande região conseguinte introdução saturadores diminui significativamente tamanho além disso medida aumentam ganhos controcontroladores tamanho região tende diminuir consequentemente altos ganhos saturadores têm efeito detrimental tamanho região estabilidade margem estabilidade transitória sistemas elétricos potência\n",
      "[1 1 1 1 0 0 0 0]\n",
      "[1, 0, 0, 1, 0, 0, 1, 0]\n"
     ]
    }
   ],
   "source": [
    "index = 6\n",
    "print(test_sentences[2])#[index])\n",
    "\n",
    "print(test_labels)#[index])\n",
    "#print(predictions_t)#[index])\n",
    "print([np.argmax(element) for element in predictions_t])\n",
    "def precision_t():\n",
    "    counter = len(test_labels)\n",
    "    list_c = [i for i,j in zip(predictions_t,test_labels) if i == j]\n",
    "    return counter,len(list_c)"
   ]
  },
  {
   "cell_type": "code",
   "execution_count": null,
   "metadata": {},
   "outputs": [],
   "source": []
  },
  {
   "cell_type": "code",
   "execution_count": null,
   "metadata": {},
   "outputs": [],
   "source": []
  },
  {
   "cell_type": "code",
   "execution_count": null,
   "metadata": {},
   "outputs": [],
   "source": []
  }
 ],
 "metadata": {
  "kernelspec": {
   "display_name": "Python 3",
   "language": "python",
   "name": "python3"
  },
  "language_info": {
   "codemirror_mode": {
    "name": "ipython",
    "version": 3
   },
   "file_extension": ".py",
   "mimetype": "text/x-python",
   "name": "python",
   "nbconvert_exporter": "python",
   "pygments_lexer": "ipython3",
   "version": "3.8.5"
  }
 },
 "nbformat": 4,
 "nbformat_minor": 4
}
