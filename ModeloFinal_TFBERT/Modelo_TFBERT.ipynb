{
  "nbformat": 4,
  "nbformat_minor": 0,
  "metadata": {
    "colab": {
      "provenance": [],
      "collapsed_sections": []
    },
    "kernelspec": {
      "name": "python3",
      "display_name": "Python 3"
    },
    "language_info": {
      "name": "python"
    },
    "accelerator": "GPU",
    "widgets": {
      "application/vnd.jupyter.widget-state+json": {
        "8df8eb50d6e84789bbacc98100a503e4": {
          "model_module": "@jupyter-widgets/controls",
          "model_name": "HBoxModel",
          "model_module_version": "1.5.0",
          "state": {
            "_dom_classes": [],
            "_model_module": "@jupyter-widgets/controls",
            "_model_module_version": "1.5.0",
            "_model_name": "HBoxModel",
            "_view_count": null,
            "_view_module": "@jupyter-widgets/controls",
            "_view_module_version": "1.5.0",
            "_view_name": "HBoxView",
            "box_style": "",
            "children": [
              "IPY_MODEL_f77024d5c5254b109923d18aa9980cc6",
              "IPY_MODEL_8f7cd2c14aac478c99d592e59e415c45",
              "IPY_MODEL_14ccec6ada3a473b8a31ed4884cf27ba"
            ],
            "layout": "IPY_MODEL_99264dc7d6e14c598418b145ecc72e52"
          }
        },
        "f77024d5c5254b109923d18aa9980cc6": {
          "model_module": "@jupyter-widgets/controls",
          "model_name": "HTMLModel",
          "model_module_version": "1.5.0",
          "state": {
            "_dom_classes": [],
            "_model_module": "@jupyter-widgets/controls",
            "_model_module_version": "1.5.0",
            "_model_name": "HTMLModel",
            "_view_count": null,
            "_view_module": "@jupyter-widgets/controls",
            "_view_module_version": "1.5.0",
            "_view_name": "HTMLView",
            "description": "",
            "description_tooltip": null,
            "layout": "IPY_MODEL_7956ac6632874b82b8b3e5afb5aa3b26",
            "placeholder": "​",
            "style": "IPY_MODEL_55c3986c4059443997aec5034f7a2392",
            "value": "Downloading: 100%"
          }
        },
        "8f7cd2c14aac478c99d592e59e415c45": {
          "model_module": "@jupyter-widgets/controls",
          "model_name": "FloatProgressModel",
          "model_module_version": "1.5.0",
          "state": {
            "_dom_classes": [],
            "_model_module": "@jupyter-widgets/controls",
            "_model_module_version": "1.5.0",
            "_model_name": "FloatProgressModel",
            "_view_count": null,
            "_view_module": "@jupyter-widgets/controls",
            "_view_module_version": "1.5.0",
            "_view_name": "ProgressView",
            "bar_style": "success",
            "description": "",
            "description_tooltip": null,
            "layout": "IPY_MODEL_ad1d1c1bebc64f13bf23b612b8bf1cbf",
            "max": 43,
            "min": 0,
            "orientation": "horizontal",
            "style": "IPY_MODEL_eb9c6f8353164190bc36a5d67c68ff3f",
            "value": 43
          }
        },
        "14ccec6ada3a473b8a31ed4884cf27ba": {
          "model_module": "@jupyter-widgets/controls",
          "model_name": "HTMLModel",
          "model_module_version": "1.5.0",
          "state": {
            "_dom_classes": [],
            "_model_module": "@jupyter-widgets/controls",
            "_model_module_version": "1.5.0",
            "_model_name": "HTMLModel",
            "_view_count": null,
            "_view_module": "@jupyter-widgets/controls",
            "_view_module_version": "1.5.0",
            "_view_name": "HTMLView",
            "description": "",
            "description_tooltip": null,
            "layout": "IPY_MODEL_fe4ef6036c2b4825b8c2e97f8a8f073f",
            "placeholder": "​",
            "style": "IPY_MODEL_56f5709f564c41bd9f0b8e8dd4ed584b",
            "value": " 43.0/43.0 [00:00&lt;00:00, 200B/s]"
          }
        },
        "99264dc7d6e14c598418b145ecc72e52": {
          "model_module": "@jupyter-widgets/base",
          "model_name": "LayoutModel",
          "model_module_version": "1.2.0",
          "state": {
            "_model_module": "@jupyter-widgets/base",
            "_model_module_version": "1.2.0",
            "_model_name": "LayoutModel",
            "_view_count": null,
            "_view_module": "@jupyter-widgets/base",
            "_view_module_version": "1.2.0",
            "_view_name": "LayoutView",
            "align_content": null,
            "align_items": null,
            "align_self": null,
            "border": null,
            "bottom": null,
            "display": null,
            "flex": null,
            "flex_flow": null,
            "grid_area": null,
            "grid_auto_columns": null,
            "grid_auto_flow": null,
            "grid_auto_rows": null,
            "grid_column": null,
            "grid_gap": null,
            "grid_row": null,
            "grid_template_areas": null,
            "grid_template_columns": null,
            "grid_template_rows": null,
            "height": null,
            "justify_content": null,
            "justify_items": null,
            "left": null,
            "margin": null,
            "max_height": null,
            "max_width": null,
            "min_height": null,
            "min_width": null,
            "object_fit": null,
            "object_position": null,
            "order": null,
            "overflow": null,
            "overflow_x": null,
            "overflow_y": null,
            "padding": null,
            "right": null,
            "top": null,
            "visibility": null,
            "width": null
          }
        },
        "7956ac6632874b82b8b3e5afb5aa3b26": {
          "model_module": "@jupyter-widgets/base",
          "model_name": "LayoutModel",
          "model_module_version": "1.2.0",
          "state": {
            "_model_module": "@jupyter-widgets/base",
            "_model_module_version": "1.2.0",
            "_model_name": "LayoutModel",
            "_view_count": null,
            "_view_module": "@jupyter-widgets/base",
            "_view_module_version": "1.2.0",
            "_view_name": "LayoutView",
            "align_content": null,
            "align_items": null,
            "align_self": null,
            "border": null,
            "bottom": null,
            "display": null,
            "flex": null,
            "flex_flow": null,
            "grid_area": null,
            "grid_auto_columns": null,
            "grid_auto_flow": null,
            "grid_auto_rows": null,
            "grid_column": null,
            "grid_gap": null,
            "grid_row": null,
            "grid_template_areas": null,
            "grid_template_columns": null,
            "grid_template_rows": null,
            "height": null,
            "justify_content": null,
            "justify_items": null,
            "left": null,
            "margin": null,
            "max_height": null,
            "max_width": null,
            "min_height": null,
            "min_width": null,
            "object_fit": null,
            "object_position": null,
            "order": null,
            "overflow": null,
            "overflow_x": null,
            "overflow_y": null,
            "padding": null,
            "right": null,
            "top": null,
            "visibility": null,
            "width": null
          }
        },
        "55c3986c4059443997aec5034f7a2392": {
          "model_module": "@jupyter-widgets/controls",
          "model_name": "DescriptionStyleModel",
          "model_module_version": "1.5.0",
          "state": {
            "_model_module": "@jupyter-widgets/controls",
            "_model_module_version": "1.5.0",
            "_model_name": "DescriptionStyleModel",
            "_view_count": null,
            "_view_module": "@jupyter-widgets/base",
            "_view_module_version": "1.2.0",
            "_view_name": "StyleView",
            "description_width": ""
          }
        },
        "ad1d1c1bebc64f13bf23b612b8bf1cbf": {
          "model_module": "@jupyter-widgets/base",
          "model_name": "LayoutModel",
          "model_module_version": "1.2.0",
          "state": {
            "_model_module": "@jupyter-widgets/base",
            "_model_module_version": "1.2.0",
            "_model_name": "LayoutModel",
            "_view_count": null,
            "_view_module": "@jupyter-widgets/base",
            "_view_module_version": "1.2.0",
            "_view_name": "LayoutView",
            "align_content": null,
            "align_items": null,
            "align_self": null,
            "border": null,
            "bottom": null,
            "display": null,
            "flex": null,
            "flex_flow": null,
            "grid_area": null,
            "grid_auto_columns": null,
            "grid_auto_flow": null,
            "grid_auto_rows": null,
            "grid_column": null,
            "grid_gap": null,
            "grid_row": null,
            "grid_template_areas": null,
            "grid_template_columns": null,
            "grid_template_rows": null,
            "height": null,
            "justify_content": null,
            "justify_items": null,
            "left": null,
            "margin": null,
            "max_height": null,
            "max_width": null,
            "min_height": null,
            "min_width": null,
            "object_fit": null,
            "object_position": null,
            "order": null,
            "overflow": null,
            "overflow_x": null,
            "overflow_y": null,
            "padding": null,
            "right": null,
            "top": null,
            "visibility": null,
            "width": null
          }
        },
        "eb9c6f8353164190bc36a5d67c68ff3f": {
          "model_module": "@jupyter-widgets/controls",
          "model_name": "ProgressStyleModel",
          "model_module_version": "1.5.0",
          "state": {
            "_model_module": "@jupyter-widgets/controls",
            "_model_module_version": "1.5.0",
            "_model_name": "ProgressStyleModel",
            "_view_count": null,
            "_view_module": "@jupyter-widgets/base",
            "_view_module_version": "1.2.0",
            "_view_name": "StyleView",
            "bar_color": null,
            "description_width": ""
          }
        },
        "fe4ef6036c2b4825b8c2e97f8a8f073f": {
          "model_module": "@jupyter-widgets/base",
          "model_name": "LayoutModel",
          "model_module_version": "1.2.0",
          "state": {
            "_model_module": "@jupyter-widgets/base",
            "_model_module_version": "1.2.0",
            "_model_name": "LayoutModel",
            "_view_count": null,
            "_view_module": "@jupyter-widgets/base",
            "_view_module_version": "1.2.0",
            "_view_name": "LayoutView",
            "align_content": null,
            "align_items": null,
            "align_self": null,
            "border": null,
            "bottom": null,
            "display": null,
            "flex": null,
            "flex_flow": null,
            "grid_area": null,
            "grid_auto_columns": null,
            "grid_auto_flow": null,
            "grid_auto_rows": null,
            "grid_column": null,
            "grid_gap": null,
            "grid_row": null,
            "grid_template_areas": null,
            "grid_template_columns": null,
            "grid_template_rows": null,
            "height": null,
            "justify_content": null,
            "justify_items": null,
            "left": null,
            "margin": null,
            "max_height": null,
            "max_width": null,
            "min_height": null,
            "min_width": null,
            "object_fit": null,
            "object_position": null,
            "order": null,
            "overflow": null,
            "overflow_x": null,
            "overflow_y": null,
            "padding": null,
            "right": null,
            "top": null,
            "visibility": null,
            "width": null
          }
        },
        "56f5709f564c41bd9f0b8e8dd4ed584b": {
          "model_module": "@jupyter-widgets/controls",
          "model_name": "DescriptionStyleModel",
          "model_module_version": "1.5.0",
          "state": {
            "_model_module": "@jupyter-widgets/controls",
            "_model_module_version": "1.5.0",
            "_model_name": "DescriptionStyleModel",
            "_view_count": null,
            "_view_module": "@jupyter-widgets/base",
            "_view_module_version": "1.2.0",
            "_view_name": "StyleView",
            "description_width": ""
          }
        },
        "ec36087faa094313b9af34297cecdd94": {
          "model_module": "@jupyter-widgets/controls",
          "model_name": "HBoxModel",
          "model_module_version": "1.5.0",
          "state": {
            "_dom_classes": [],
            "_model_module": "@jupyter-widgets/controls",
            "_model_module_version": "1.5.0",
            "_model_name": "HBoxModel",
            "_view_count": null,
            "_view_module": "@jupyter-widgets/controls",
            "_view_module_version": "1.5.0",
            "_view_name": "HBoxView",
            "box_style": "",
            "children": [
              "IPY_MODEL_bd64c71d3cec490c9131b0d12eb23ab9",
              "IPY_MODEL_6b25708152944521b1be91befd54eed9",
              "IPY_MODEL_ac40cbfc9a8a4d689cfb66f4c4e12e48"
            ],
            "layout": "IPY_MODEL_4e9642bde1e549eb85b3abe3e6be4913"
          }
        },
        "bd64c71d3cec490c9131b0d12eb23ab9": {
          "model_module": "@jupyter-widgets/controls",
          "model_name": "HTMLModel",
          "model_module_version": "1.5.0",
          "state": {
            "_dom_classes": [],
            "_model_module": "@jupyter-widgets/controls",
            "_model_module_version": "1.5.0",
            "_model_name": "HTMLModel",
            "_view_count": null,
            "_view_module": "@jupyter-widgets/controls",
            "_view_module_version": "1.5.0",
            "_view_name": "HTMLView",
            "description": "",
            "description_tooltip": null,
            "layout": "IPY_MODEL_c9bb46037f96421baf6cc80ff8944c0d",
            "placeholder": "​",
            "style": "IPY_MODEL_7adc3fa77d4349008710888a79ce07e6",
            "value": "Downloading: 100%"
          }
        },
        "6b25708152944521b1be91befd54eed9": {
          "model_module": "@jupyter-widgets/controls",
          "model_name": "FloatProgressModel",
          "model_module_version": "1.5.0",
          "state": {
            "_dom_classes": [],
            "_model_module": "@jupyter-widgets/controls",
            "_model_module_version": "1.5.0",
            "_model_name": "FloatProgressModel",
            "_view_count": null,
            "_view_module": "@jupyter-widgets/controls",
            "_view_module_version": "1.5.0",
            "_view_name": "ProgressView",
            "bar_style": "success",
            "description": "",
            "description_tooltip": null,
            "layout": "IPY_MODEL_0d778743d9f5496ea316cf281bd63bae",
            "max": 647,
            "min": 0,
            "orientation": "horizontal",
            "style": "IPY_MODEL_11a6404fb11f4a6bbb7c80e2bd273e18",
            "value": 647
          }
        },
        "ac40cbfc9a8a4d689cfb66f4c4e12e48": {
          "model_module": "@jupyter-widgets/controls",
          "model_name": "HTMLModel",
          "model_module_version": "1.5.0",
          "state": {
            "_dom_classes": [],
            "_model_module": "@jupyter-widgets/controls",
            "_model_module_version": "1.5.0",
            "_model_name": "HTMLModel",
            "_view_count": null,
            "_view_module": "@jupyter-widgets/controls",
            "_view_module_version": "1.5.0",
            "_view_name": "HTMLView",
            "description": "",
            "description_tooltip": null,
            "layout": "IPY_MODEL_32ac6098816b40a4a32d102b9252c33b",
            "placeholder": "​",
            "style": "IPY_MODEL_2473fa3ae9a545acb7c2f5f432c2836e",
            "value": " 647/647 [00:00&lt;00:00, 15.6kB/s]"
          }
        },
        "4e9642bde1e549eb85b3abe3e6be4913": {
          "model_module": "@jupyter-widgets/base",
          "model_name": "LayoutModel",
          "model_module_version": "1.2.0",
          "state": {
            "_model_module": "@jupyter-widgets/base",
            "_model_module_version": "1.2.0",
            "_model_name": "LayoutModel",
            "_view_count": null,
            "_view_module": "@jupyter-widgets/base",
            "_view_module_version": "1.2.0",
            "_view_name": "LayoutView",
            "align_content": null,
            "align_items": null,
            "align_self": null,
            "border": null,
            "bottom": null,
            "display": null,
            "flex": null,
            "flex_flow": null,
            "grid_area": null,
            "grid_auto_columns": null,
            "grid_auto_flow": null,
            "grid_auto_rows": null,
            "grid_column": null,
            "grid_gap": null,
            "grid_row": null,
            "grid_template_areas": null,
            "grid_template_columns": null,
            "grid_template_rows": null,
            "height": null,
            "justify_content": null,
            "justify_items": null,
            "left": null,
            "margin": null,
            "max_height": null,
            "max_width": null,
            "min_height": null,
            "min_width": null,
            "object_fit": null,
            "object_position": null,
            "order": null,
            "overflow": null,
            "overflow_x": null,
            "overflow_y": null,
            "padding": null,
            "right": null,
            "top": null,
            "visibility": null,
            "width": null
          }
        },
        "c9bb46037f96421baf6cc80ff8944c0d": {
          "model_module": "@jupyter-widgets/base",
          "model_name": "LayoutModel",
          "model_module_version": "1.2.0",
          "state": {
            "_model_module": "@jupyter-widgets/base",
            "_model_module_version": "1.2.0",
            "_model_name": "LayoutModel",
            "_view_count": null,
            "_view_module": "@jupyter-widgets/base",
            "_view_module_version": "1.2.0",
            "_view_name": "LayoutView",
            "align_content": null,
            "align_items": null,
            "align_self": null,
            "border": null,
            "bottom": null,
            "display": null,
            "flex": null,
            "flex_flow": null,
            "grid_area": null,
            "grid_auto_columns": null,
            "grid_auto_flow": null,
            "grid_auto_rows": null,
            "grid_column": null,
            "grid_gap": null,
            "grid_row": null,
            "grid_template_areas": null,
            "grid_template_columns": null,
            "grid_template_rows": null,
            "height": null,
            "justify_content": null,
            "justify_items": null,
            "left": null,
            "margin": null,
            "max_height": null,
            "max_width": null,
            "min_height": null,
            "min_width": null,
            "object_fit": null,
            "object_position": null,
            "order": null,
            "overflow": null,
            "overflow_x": null,
            "overflow_y": null,
            "padding": null,
            "right": null,
            "top": null,
            "visibility": null,
            "width": null
          }
        },
        "7adc3fa77d4349008710888a79ce07e6": {
          "model_module": "@jupyter-widgets/controls",
          "model_name": "DescriptionStyleModel",
          "model_module_version": "1.5.0",
          "state": {
            "_model_module": "@jupyter-widgets/controls",
            "_model_module_version": "1.5.0",
            "_model_name": "DescriptionStyleModel",
            "_view_count": null,
            "_view_module": "@jupyter-widgets/base",
            "_view_module_version": "1.2.0",
            "_view_name": "StyleView",
            "description_width": ""
          }
        },
        "0d778743d9f5496ea316cf281bd63bae": {
          "model_module": "@jupyter-widgets/base",
          "model_name": "LayoutModel",
          "model_module_version": "1.2.0",
          "state": {
            "_model_module": "@jupyter-widgets/base",
            "_model_module_version": "1.2.0",
            "_model_name": "LayoutModel",
            "_view_count": null,
            "_view_module": "@jupyter-widgets/base",
            "_view_module_version": "1.2.0",
            "_view_name": "LayoutView",
            "align_content": null,
            "align_items": null,
            "align_self": null,
            "border": null,
            "bottom": null,
            "display": null,
            "flex": null,
            "flex_flow": null,
            "grid_area": null,
            "grid_auto_columns": null,
            "grid_auto_flow": null,
            "grid_auto_rows": null,
            "grid_column": null,
            "grid_gap": null,
            "grid_row": null,
            "grid_template_areas": null,
            "grid_template_columns": null,
            "grid_template_rows": null,
            "height": null,
            "justify_content": null,
            "justify_items": null,
            "left": null,
            "margin": null,
            "max_height": null,
            "max_width": null,
            "min_height": null,
            "min_width": null,
            "object_fit": null,
            "object_position": null,
            "order": null,
            "overflow": null,
            "overflow_x": null,
            "overflow_y": null,
            "padding": null,
            "right": null,
            "top": null,
            "visibility": null,
            "width": null
          }
        },
        "11a6404fb11f4a6bbb7c80e2bd273e18": {
          "model_module": "@jupyter-widgets/controls",
          "model_name": "ProgressStyleModel",
          "model_module_version": "1.5.0",
          "state": {
            "_model_module": "@jupyter-widgets/controls",
            "_model_module_version": "1.5.0",
            "_model_name": "ProgressStyleModel",
            "_view_count": null,
            "_view_module": "@jupyter-widgets/base",
            "_view_module_version": "1.2.0",
            "_view_name": "StyleView",
            "bar_color": null,
            "description_width": ""
          }
        },
        "32ac6098816b40a4a32d102b9252c33b": {
          "model_module": "@jupyter-widgets/base",
          "model_name": "LayoutModel",
          "model_module_version": "1.2.0",
          "state": {
            "_model_module": "@jupyter-widgets/base",
            "_model_module_version": "1.2.0",
            "_model_name": "LayoutModel",
            "_view_count": null,
            "_view_module": "@jupyter-widgets/base",
            "_view_module_version": "1.2.0",
            "_view_name": "LayoutView",
            "align_content": null,
            "align_items": null,
            "align_self": null,
            "border": null,
            "bottom": null,
            "display": null,
            "flex": null,
            "flex_flow": null,
            "grid_area": null,
            "grid_auto_columns": null,
            "grid_auto_flow": null,
            "grid_auto_rows": null,
            "grid_column": null,
            "grid_gap": null,
            "grid_row": null,
            "grid_template_areas": null,
            "grid_template_columns": null,
            "grid_template_rows": null,
            "height": null,
            "justify_content": null,
            "justify_items": null,
            "left": null,
            "margin": null,
            "max_height": null,
            "max_width": null,
            "min_height": null,
            "min_width": null,
            "object_fit": null,
            "object_position": null,
            "order": null,
            "overflow": null,
            "overflow_x": null,
            "overflow_y": null,
            "padding": null,
            "right": null,
            "top": null,
            "visibility": null,
            "width": null
          }
        },
        "2473fa3ae9a545acb7c2f5f432c2836e": {
          "model_module": "@jupyter-widgets/controls",
          "model_name": "DescriptionStyleModel",
          "model_module_version": "1.5.0",
          "state": {
            "_model_module": "@jupyter-widgets/controls",
            "_model_module_version": "1.5.0",
            "_model_name": "DescriptionStyleModel",
            "_view_count": null,
            "_view_module": "@jupyter-widgets/base",
            "_view_module_version": "1.2.0",
            "_view_name": "StyleView",
            "description_width": ""
          }
        },
        "3eaf388fdb5c4f0d9e45d1eb7f10fdaa": {
          "model_module": "@jupyter-widgets/controls",
          "model_name": "HBoxModel",
          "model_module_version": "1.5.0",
          "state": {
            "_dom_classes": [],
            "_model_module": "@jupyter-widgets/controls",
            "_model_module_version": "1.5.0",
            "_model_name": "HBoxModel",
            "_view_count": null,
            "_view_module": "@jupyter-widgets/controls",
            "_view_module_version": "1.5.0",
            "_view_name": "HBoxView",
            "box_style": "",
            "children": [
              "IPY_MODEL_dff5f5627cc648a394c1410518363574",
              "IPY_MODEL_da0702cb7b4f4d2ca9b5b4f20f037f07",
              "IPY_MODEL_f1cf58c2776649fda338b1d9b49ef0b7"
            ],
            "layout": "IPY_MODEL_8e89af18905646dea37613327a873c58"
          }
        },
        "dff5f5627cc648a394c1410518363574": {
          "model_module": "@jupyter-widgets/controls",
          "model_name": "HTMLModel",
          "model_module_version": "1.5.0",
          "state": {
            "_dom_classes": [],
            "_model_module": "@jupyter-widgets/controls",
            "_model_module_version": "1.5.0",
            "_model_name": "HTMLModel",
            "_view_count": null,
            "_view_module": "@jupyter-widgets/controls",
            "_view_module_version": "1.5.0",
            "_view_name": "HTMLView",
            "description": "",
            "description_tooltip": null,
            "layout": "IPY_MODEL_08842c27b7904b3f961282f6cb246271",
            "placeholder": "​",
            "style": "IPY_MODEL_b49233b3b7ec4c9f8a2168d440cf929c",
            "value": "Downloading: 100%"
          }
        },
        "da0702cb7b4f4d2ca9b5b4f20f037f07": {
          "model_module": "@jupyter-widgets/controls",
          "model_name": "FloatProgressModel",
          "model_module_version": "1.5.0",
          "state": {
            "_dom_classes": [],
            "_model_module": "@jupyter-widgets/controls",
            "_model_module_version": "1.5.0",
            "_model_name": "FloatProgressModel",
            "_view_count": null,
            "_view_module": "@jupyter-widgets/controls",
            "_view_module_version": "1.5.0",
            "_view_name": "ProgressView",
            "bar_style": "success",
            "description": "",
            "description_tooltip": null,
            "layout": "IPY_MODEL_9c1a8015fd3a468886081b4cc6d57ca6",
            "max": 209528,
            "min": 0,
            "orientation": "horizontal",
            "style": "IPY_MODEL_3168b9486c434f38a00685233286fc31",
            "value": 209528
          }
        },
        "f1cf58c2776649fda338b1d9b49ef0b7": {
          "model_module": "@jupyter-widgets/controls",
          "model_name": "HTMLModel",
          "model_module_version": "1.5.0",
          "state": {
            "_dom_classes": [],
            "_model_module": "@jupyter-widgets/controls",
            "_model_module_version": "1.5.0",
            "_model_name": "HTMLModel",
            "_view_count": null,
            "_view_module": "@jupyter-widgets/controls",
            "_view_module_version": "1.5.0",
            "_view_name": "HTMLView",
            "description": "",
            "description_tooltip": null,
            "layout": "IPY_MODEL_278d0bcb3a674e2dbb400ec03cebe24a",
            "placeholder": "​",
            "style": "IPY_MODEL_392f909b684e4bab84f37e7f43a83437",
            "value": " 205k/205k [00:00&lt;00:00, 1.53MB/s]"
          }
        },
        "8e89af18905646dea37613327a873c58": {
          "model_module": "@jupyter-widgets/base",
          "model_name": "LayoutModel",
          "model_module_version": "1.2.0",
          "state": {
            "_model_module": "@jupyter-widgets/base",
            "_model_module_version": "1.2.0",
            "_model_name": "LayoutModel",
            "_view_count": null,
            "_view_module": "@jupyter-widgets/base",
            "_view_module_version": "1.2.0",
            "_view_name": "LayoutView",
            "align_content": null,
            "align_items": null,
            "align_self": null,
            "border": null,
            "bottom": null,
            "display": null,
            "flex": null,
            "flex_flow": null,
            "grid_area": null,
            "grid_auto_columns": null,
            "grid_auto_flow": null,
            "grid_auto_rows": null,
            "grid_column": null,
            "grid_gap": null,
            "grid_row": null,
            "grid_template_areas": null,
            "grid_template_columns": null,
            "grid_template_rows": null,
            "height": null,
            "justify_content": null,
            "justify_items": null,
            "left": null,
            "margin": null,
            "max_height": null,
            "max_width": null,
            "min_height": null,
            "min_width": null,
            "object_fit": null,
            "object_position": null,
            "order": null,
            "overflow": null,
            "overflow_x": null,
            "overflow_y": null,
            "padding": null,
            "right": null,
            "top": null,
            "visibility": null,
            "width": null
          }
        },
        "08842c27b7904b3f961282f6cb246271": {
          "model_module": "@jupyter-widgets/base",
          "model_name": "LayoutModel",
          "model_module_version": "1.2.0",
          "state": {
            "_model_module": "@jupyter-widgets/base",
            "_model_module_version": "1.2.0",
            "_model_name": "LayoutModel",
            "_view_count": null,
            "_view_module": "@jupyter-widgets/base",
            "_view_module_version": "1.2.0",
            "_view_name": "LayoutView",
            "align_content": null,
            "align_items": null,
            "align_self": null,
            "border": null,
            "bottom": null,
            "display": null,
            "flex": null,
            "flex_flow": null,
            "grid_area": null,
            "grid_auto_columns": null,
            "grid_auto_flow": null,
            "grid_auto_rows": null,
            "grid_column": null,
            "grid_gap": null,
            "grid_row": null,
            "grid_template_areas": null,
            "grid_template_columns": null,
            "grid_template_rows": null,
            "height": null,
            "justify_content": null,
            "justify_items": null,
            "left": null,
            "margin": null,
            "max_height": null,
            "max_width": null,
            "min_height": null,
            "min_width": null,
            "object_fit": null,
            "object_position": null,
            "order": null,
            "overflow": null,
            "overflow_x": null,
            "overflow_y": null,
            "padding": null,
            "right": null,
            "top": null,
            "visibility": null,
            "width": null
          }
        },
        "b49233b3b7ec4c9f8a2168d440cf929c": {
          "model_module": "@jupyter-widgets/controls",
          "model_name": "DescriptionStyleModel",
          "model_module_version": "1.5.0",
          "state": {
            "_model_module": "@jupyter-widgets/controls",
            "_model_module_version": "1.5.0",
            "_model_name": "DescriptionStyleModel",
            "_view_count": null,
            "_view_module": "@jupyter-widgets/base",
            "_view_module_version": "1.2.0",
            "_view_name": "StyleView",
            "description_width": ""
          }
        },
        "9c1a8015fd3a468886081b4cc6d57ca6": {
          "model_module": "@jupyter-widgets/base",
          "model_name": "LayoutModel",
          "model_module_version": "1.2.0",
          "state": {
            "_model_module": "@jupyter-widgets/base",
            "_model_module_version": "1.2.0",
            "_model_name": "LayoutModel",
            "_view_count": null,
            "_view_module": "@jupyter-widgets/base",
            "_view_module_version": "1.2.0",
            "_view_name": "LayoutView",
            "align_content": null,
            "align_items": null,
            "align_self": null,
            "border": null,
            "bottom": null,
            "display": null,
            "flex": null,
            "flex_flow": null,
            "grid_area": null,
            "grid_auto_columns": null,
            "grid_auto_flow": null,
            "grid_auto_rows": null,
            "grid_column": null,
            "grid_gap": null,
            "grid_row": null,
            "grid_template_areas": null,
            "grid_template_columns": null,
            "grid_template_rows": null,
            "height": null,
            "justify_content": null,
            "justify_items": null,
            "left": null,
            "margin": null,
            "max_height": null,
            "max_width": null,
            "min_height": null,
            "min_width": null,
            "object_fit": null,
            "object_position": null,
            "order": null,
            "overflow": null,
            "overflow_x": null,
            "overflow_y": null,
            "padding": null,
            "right": null,
            "top": null,
            "visibility": null,
            "width": null
          }
        },
        "3168b9486c434f38a00685233286fc31": {
          "model_module": "@jupyter-widgets/controls",
          "model_name": "ProgressStyleModel",
          "model_module_version": "1.5.0",
          "state": {
            "_model_module": "@jupyter-widgets/controls",
            "_model_module_version": "1.5.0",
            "_model_name": "ProgressStyleModel",
            "_view_count": null,
            "_view_module": "@jupyter-widgets/base",
            "_view_module_version": "1.2.0",
            "_view_name": "StyleView",
            "bar_color": null,
            "description_width": ""
          }
        },
        "278d0bcb3a674e2dbb400ec03cebe24a": {
          "model_module": "@jupyter-widgets/base",
          "model_name": "LayoutModel",
          "model_module_version": "1.2.0",
          "state": {
            "_model_module": "@jupyter-widgets/base",
            "_model_module_version": "1.2.0",
            "_model_name": "LayoutModel",
            "_view_count": null,
            "_view_module": "@jupyter-widgets/base",
            "_view_module_version": "1.2.0",
            "_view_name": "LayoutView",
            "align_content": null,
            "align_items": null,
            "align_self": null,
            "border": null,
            "bottom": null,
            "display": null,
            "flex": null,
            "flex_flow": null,
            "grid_area": null,
            "grid_auto_columns": null,
            "grid_auto_flow": null,
            "grid_auto_rows": null,
            "grid_column": null,
            "grid_gap": null,
            "grid_row": null,
            "grid_template_areas": null,
            "grid_template_columns": null,
            "grid_template_rows": null,
            "height": null,
            "justify_content": null,
            "justify_items": null,
            "left": null,
            "margin": null,
            "max_height": null,
            "max_width": null,
            "min_height": null,
            "min_width": null,
            "object_fit": null,
            "object_position": null,
            "order": null,
            "overflow": null,
            "overflow_x": null,
            "overflow_y": null,
            "padding": null,
            "right": null,
            "top": null,
            "visibility": null,
            "width": null
          }
        },
        "392f909b684e4bab84f37e7f43a83437": {
          "model_module": "@jupyter-widgets/controls",
          "model_name": "DescriptionStyleModel",
          "model_module_version": "1.5.0",
          "state": {
            "_model_module": "@jupyter-widgets/controls",
            "_model_module_version": "1.5.0",
            "_model_name": "DescriptionStyleModel",
            "_view_count": null,
            "_view_module": "@jupyter-widgets/base",
            "_view_module_version": "1.2.0",
            "_view_name": "StyleView",
            "description_width": ""
          }
        },
        "8296f2dccde6468e8bd557b357961823": {
          "model_module": "@jupyter-widgets/controls",
          "model_name": "HBoxModel",
          "model_module_version": "1.5.0",
          "state": {
            "_dom_classes": [],
            "_model_module": "@jupyter-widgets/controls",
            "_model_module_version": "1.5.0",
            "_model_name": "HBoxModel",
            "_view_count": null,
            "_view_module": "@jupyter-widgets/controls",
            "_view_module_version": "1.5.0",
            "_view_name": "HBoxView",
            "box_style": "",
            "children": [
              "IPY_MODEL_9e424cf26b634c62b041ae98135d60de",
              "IPY_MODEL_90309e77f9654c2295e94e623cb87c9e",
              "IPY_MODEL_d3d650ae5e64420e8f90d22decb82cb8"
            ],
            "layout": "IPY_MODEL_5da57e57a03e449da1a04f6e98e150c3"
          }
        },
        "9e424cf26b634c62b041ae98135d60de": {
          "model_module": "@jupyter-widgets/controls",
          "model_name": "HTMLModel",
          "model_module_version": "1.5.0",
          "state": {
            "_dom_classes": [],
            "_model_module": "@jupyter-widgets/controls",
            "_model_module_version": "1.5.0",
            "_model_name": "HTMLModel",
            "_view_count": null,
            "_view_module": "@jupyter-widgets/controls",
            "_view_module_version": "1.5.0",
            "_view_name": "HTMLView",
            "description": "",
            "description_tooltip": null,
            "layout": "IPY_MODEL_9bd21f10b4374352a880e54d8606b5dd",
            "placeholder": "​",
            "style": "IPY_MODEL_4149ca8ad3dd43af9624057f1742d500",
            "value": "Downloading: 100%"
          }
        },
        "90309e77f9654c2295e94e623cb87c9e": {
          "model_module": "@jupyter-widgets/controls",
          "model_name": "FloatProgressModel",
          "model_module_version": "1.5.0",
          "state": {
            "_dom_classes": [],
            "_model_module": "@jupyter-widgets/controls",
            "_model_module_version": "1.5.0",
            "_model_name": "FloatProgressModel",
            "_view_count": null,
            "_view_module": "@jupyter-widgets/controls",
            "_view_module_version": "1.5.0",
            "_view_name": "ProgressView",
            "bar_style": "success",
            "description": "",
            "description_tooltip": null,
            "layout": "IPY_MODEL_c007c04d0d6c42da9116513aaebe7206",
            "max": 2,
            "min": 0,
            "orientation": "horizontal",
            "style": "IPY_MODEL_c3390ad5912742f9afa06d733e2f5322",
            "value": 2
          }
        },
        "d3d650ae5e64420e8f90d22decb82cb8": {
          "model_module": "@jupyter-widgets/controls",
          "model_name": "HTMLModel",
          "model_module_version": "1.5.0",
          "state": {
            "_dom_classes": [],
            "_model_module": "@jupyter-widgets/controls",
            "_model_module_version": "1.5.0",
            "_model_name": "HTMLModel",
            "_view_count": null,
            "_view_module": "@jupyter-widgets/controls",
            "_view_module_version": "1.5.0",
            "_view_name": "HTMLView",
            "description": "",
            "description_tooltip": null,
            "layout": "IPY_MODEL_314d473a5b424599a547c14e3a1a64a0",
            "placeholder": "​",
            "style": "IPY_MODEL_706caf753a064f4aa285bf905dba4887",
            "value": " 2.00/2.00 [00:00&lt;00:00, 52.8B/s]"
          }
        },
        "5da57e57a03e449da1a04f6e98e150c3": {
          "model_module": "@jupyter-widgets/base",
          "model_name": "LayoutModel",
          "model_module_version": "1.2.0",
          "state": {
            "_model_module": "@jupyter-widgets/base",
            "_model_module_version": "1.2.0",
            "_model_name": "LayoutModel",
            "_view_count": null,
            "_view_module": "@jupyter-widgets/base",
            "_view_module_version": "1.2.0",
            "_view_name": "LayoutView",
            "align_content": null,
            "align_items": null,
            "align_self": null,
            "border": null,
            "bottom": null,
            "display": null,
            "flex": null,
            "flex_flow": null,
            "grid_area": null,
            "grid_auto_columns": null,
            "grid_auto_flow": null,
            "grid_auto_rows": null,
            "grid_column": null,
            "grid_gap": null,
            "grid_row": null,
            "grid_template_areas": null,
            "grid_template_columns": null,
            "grid_template_rows": null,
            "height": null,
            "justify_content": null,
            "justify_items": null,
            "left": null,
            "margin": null,
            "max_height": null,
            "max_width": null,
            "min_height": null,
            "min_width": null,
            "object_fit": null,
            "object_position": null,
            "order": null,
            "overflow": null,
            "overflow_x": null,
            "overflow_y": null,
            "padding": null,
            "right": null,
            "top": null,
            "visibility": null,
            "width": null
          }
        },
        "9bd21f10b4374352a880e54d8606b5dd": {
          "model_module": "@jupyter-widgets/base",
          "model_name": "LayoutModel",
          "model_module_version": "1.2.0",
          "state": {
            "_model_module": "@jupyter-widgets/base",
            "_model_module_version": "1.2.0",
            "_model_name": "LayoutModel",
            "_view_count": null,
            "_view_module": "@jupyter-widgets/base",
            "_view_module_version": "1.2.0",
            "_view_name": "LayoutView",
            "align_content": null,
            "align_items": null,
            "align_self": null,
            "border": null,
            "bottom": null,
            "display": null,
            "flex": null,
            "flex_flow": null,
            "grid_area": null,
            "grid_auto_columns": null,
            "grid_auto_flow": null,
            "grid_auto_rows": null,
            "grid_column": null,
            "grid_gap": null,
            "grid_row": null,
            "grid_template_areas": null,
            "grid_template_columns": null,
            "grid_template_rows": null,
            "height": null,
            "justify_content": null,
            "justify_items": null,
            "left": null,
            "margin": null,
            "max_height": null,
            "max_width": null,
            "min_height": null,
            "min_width": null,
            "object_fit": null,
            "object_position": null,
            "order": null,
            "overflow": null,
            "overflow_x": null,
            "overflow_y": null,
            "padding": null,
            "right": null,
            "top": null,
            "visibility": null,
            "width": null
          }
        },
        "4149ca8ad3dd43af9624057f1742d500": {
          "model_module": "@jupyter-widgets/controls",
          "model_name": "DescriptionStyleModel",
          "model_module_version": "1.5.0",
          "state": {
            "_model_module": "@jupyter-widgets/controls",
            "_model_module_version": "1.5.0",
            "_model_name": "DescriptionStyleModel",
            "_view_count": null,
            "_view_module": "@jupyter-widgets/base",
            "_view_module_version": "1.2.0",
            "_view_name": "StyleView",
            "description_width": ""
          }
        },
        "c007c04d0d6c42da9116513aaebe7206": {
          "model_module": "@jupyter-widgets/base",
          "model_name": "LayoutModel",
          "model_module_version": "1.2.0",
          "state": {
            "_model_module": "@jupyter-widgets/base",
            "_model_module_version": "1.2.0",
            "_model_name": "LayoutModel",
            "_view_count": null,
            "_view_module": "@jupyter-widgets/base",
            "_view_module_version": "1.2.0",
            "_view_name": "LayoutView",
            "align_content": null,
            "align_items": null,
            "align_self": null,
            "border": null,
            "bottom": null,
            "display": null,
            "flex": null,
            "flex_flow": null,
            "grid_area": null,
            "grid_auto_columns": null,
            "grid_auto_flow": null,
            "grid_auto_rows": null,
            "grid_column": null,
            "grid_gap": null,
            "grid_row": null,
            "grid_template_areas": null,
            "grid_template_columns": null,
            "grid_template_rows": null,
            "height": null,
            "justify_content": null,
            "justify_items": null,
            "left": null,
            "margin": null,
            "max_height": null,
            "max_width": null,
            "min_height": null,
            "min_width": null,
            "object_fit": null,
            "object_position": null,
            "order": null,
            "overflow": null,
            "overflow_x": null,
            "overflow_y": null,
            "padding": null,
            "right": null,
            "top": null,
            "visibility": null,
            "width": null
          }
        },
        "c3390ad5912742f9afa06d733e2f5322": {
          "model_module": "@jupyter-widgets/controls",
          "model_name": "ProgressStyleModel",
          "model_module_version": "1.5.0",
          "state": {
            "_model_module": "@jupyter-widgets/controls",
            "_model_module_version": "1.5.0",
            "_model_name": "ProgressStyleModel",
            "_view_count": null,
            "_view_module": "@jupyter-widgets/base",
            "_view_module_version": "1.2.0",
            "_view_name": "StyleView",
            "bar_color": null,
            "description_width": ""
          }
        },
        "314d473a5b424599a547c14e3a1a64a0": {
          "model_module": "@jupyter-widgets/base",
          "model_name": "LayoutModel",
          "model_module_version": "1.2.0",
          "state": {
            "_model_module": "@jupyter-widgets/base",
            "_model_module_version": "1.2.0",
            "_model_name": "LayoutModel",
            "_view_count": null,
            "_view_module": "@jupyter-widgets/base",
            "_view_module_version": "1.2.0",
            "_view_name": "LayoutView",
            "align_content": null,
            "align_items": null,
            "align_self": null,
            "border": null,
            "bottom": null,
            "display": null,
            "flex": null,
            "flex_flow": null,
            "grid_area": null,
            "grid_auto_columns": null,
            "grid_auto_flow": null,
            "grid_auto_rows": null,
            "grid_column": null,
            "grid_gap": null,
            "grid_row": null,
            "grid_template_areas": null,
            "grid_template_columns": null,
            "grid_template_rows": null,
            "height": null,
            "justify_content": null,
            "justify_items": null,
            "left": null,
            "margin": null,
            "max_height": null,
            "max_width": null,
            "min_height": null,
            "min_width": null,
            "object_fit": null,
            "object_position": null,
            "order": null,
            "overflow": null,
            "overflow_x": null,
            "overflow_y": null,
            "padding": null,
            "right": null,
            "top": null,
            "visibility": null,
            "width": null
          }
        },
        "706caf753a064f4aa285bf905dba4887": {
          "model_module": "@jupyter-widgets/controls",
          "model_name": "DescriptionStyleModel",
          "model_module_version": "1.5.0",
          "state": {
            "_model_module": "@jupyter-widgets/controls",
            "_model_module_version": "1.5.0",
            "_model_name": "DescriptionStyleModel",
            "_view_count": null,
            "_view_module": "@jupyter-widgets/base",
            "_view_module_version": "1.2.0",
            "_view_name": "StyleView",
            "description_width": ""
          }
        },
        "ecec49b3aad446d08ff5a5b08f9e9891": {
          "model_module": "@jupyter-widgets/controls",
          "model_name": "HBoxModel",
          "model_module_version": "1.5.0",
          "state": {
            "_dom_classes": [],
            "_model_module": "@jupyter-widgets/controls",
            "_model_module_version": "1.5.0",
            "_model_name": "HBoxModel",
            "_view_count": null,
            "_view_module": "@jupyter-widgets/controls",
            "_view_module_version": "1.5.0",
            "_view_name": "HBoxView",
            "box_style": "",
            "children": [
              "IPY_MODEL_e2e2df2863e741fb9eb3e930bf63466b",
              "IPY_MODEL_d15462db7a544724b908d9a90c2cbdf8",
              "IPY_MODEL_adc4b43b9f3f47e1b5845fdb9bd3b16e"
            ],
            "layout": "IPY_MODEL_358bd093dc6e4210a6cb122b43d4c903"
          }
        },
        "e2e2df2863e741fb9eb3e930bf63466b": {
          "model_module": "@jupyter-widgets/controls",
          "model_name": "HTMLModel",
          "model_module_version": "1.5.0",
          "state": {
            "_dom_classes": [],
            "_model_module": "@jupyter-widgets/controls",
            "_model_module_version": "1.5.0",
            "_model_name": "HTMLModel",
            "_view_count": null,
            "_view_module": "@jupyter-widgets/controls",
            "_view_module_version": "1.5.0",
            "_view_name": "HTMLView",
            "description": "",
            "description_tooltip": null,
            "layout": "IPY_MODEL_38e3e948209f4b25b9abec109eff6598",
            "placeholder": "​",
            "style": "IPY_MODEL_397bd31b1d654a80903d5347cf50dc2c",
            "value": "Downloading: 100%"
          }
        },
        "d15462db7a544724b908d9a90c2cbdf8": {
          "model_module": "@jupyter-widgets/controls",
          "model_name": "FloatProgressModel",
          "model_module_version": "1.5.0",
          "state": {
            "_dom_classes": [],
            "_model_module": "@jupyter-widgets/controls",
            "_model_module_version": "1.5.0",
            "_model_name": "FloatProgressModel",
            "_view_count": null,
            "_view_module": "@jupyter-widgets/controls",
            "_view_module_version": "1.5.0",
            "_view_name": "ProgressView",
            "bar_style": "success",
            "description": "",
            "description_tooltip": null,
            "layout": "IPY_MODEL_0d7e2ade48c64a929dc40686ef1d6d79",
            "max": 112,
            "min": 0,
            "orientation": "horizontal",
            "style": "IPY_MODEL_74faa43b5c82458a8d908c1849d694e9",
            "value": 112
          }
        },
        "adc4b43b9f3f47e1b5845fdb9bd3b16e": {
          "model_module": "@jupyter-widgets/controls",
          "model_name": "HTMLModel",
          "model_module_version": "1.5.0",
          "state": {
            "_dom_classes": [],
            "_model_module": "@jupyter-widgets/controls",
            "_model_module_version": "1.5.0",
            "_model_name": "HTMLModel",
            "_view_count": null,
            "_view_module": "@jupyter-widgets/controls",
            "_view_module_version": "1.5.0",
            "_view_name": "HTMLView",
            "description": "",
            "description_tooltip": null,
            "layout": "IPY_MODEL_76ebb261ab3d439abfe97f2be797f781",
            "placeholder": "​",
            "style": "IPY_MODEL_5966d62a55b448fc92686390beeaad24",
            "value": " 112/112 [00:00&lt;00:00, 2.87kB/s]"
          }
        },
        "358bd093dc6e4210a6cb122b43d4c903": {
          "model_module": "@jupyter-widgets/base",
          "model_name": "LayoutModel",
          "model_module_version": "1.2.0",
          "state": {
            "_model_module": "@jupyter-widgets/base",
            "_model_module_version": "1.2.0",
            "_model_name": "LayoutModel",
            "_view_count": null,
            "_view_module": "@jupyter-widgets/base",
            "_view_module_version": "1.2.0",
            "_view_name": "LayoutView",
            "align_content": null,
            "align_items": null,
            "align_self": null,
            "border": null,
            "bottom": null,
            "display": null,
            "flex": null,
            "flex_flow": null,
            "grid_area": null,
            "grid_auto_columns": null,
            "grid_auto_flow": null,
            "grid_auto_rows": null,
            "grid_column": null,
            "grid_gap": null,
            "grid_row": null,
            "grid_template_areas": null,
            "grid_template_columns": null,
            "grid_template_rows": null,
            "height": null,
            "justify_content": null,
            "justify_items": null,
            "left": null,
            "margin": null,
            "max_height": null,
            "max_width": null,
            "min_height": null,
            "min_width": null,
            "object_fit": null,
            "object_position": null,
            "order": null,
            "overflow": null,
            "overflow_x": null,
            "overflow_y": null,
            "padding": null,
            "right": null,
            "top": null,
            "visibility": null,
            "width": null
          }
        },
        "38e3e948209f4b25b9abec109eff6598": {
          "model_module": "@jupyter-widgets/base",
          "model_name": "LayoutModel",
          "model_module_version": "1.2.0",
          "state": {
            "_model_module": "@jupyter-widgets/base",
            "_model_module_version": "1.2.0",
            "_model_name": "LayoutModel",
            "_view_count": null,
            "_view_module": "@jupyter-widgets/base",
            "_view_module_version": "1.2.0",
            "_view_name": "LayoutView",
            "align_content": null,
            "align_items": null,
            "align_self": null,
            "border": null,
            "bottom": null,
            "display": null,
            "flex": null,
            "flex_flow": null,
            "grid_area": null,
            "grid_auto_columns": null,
            "grid_auto_flow": null,
            "grid_auto_rows": null,
            "grid_column": null,
            "grid_gap": null,
            "grid_row": null,
            "grid_template_areas": null,
            "grid_template_columns": null,
            "grid_template_rows": null,
            "height": null,
            "justify_content": null,
            "justify_items": null,
            "left": null,
            "margin": null,
            "max_height": null,
            "max_width": null,
            "min_height": null,
            "min_width": null,
            "object_fit": null,
            "object_position": null,
            "order": null,
            "overflow": null,
            "overflow_x": null,
            "overflow_y": null,
            "padding": null,
            "right": null,
            "top": null,
            "visibility": null,
            "width": null
          }
        },
        "397bd31b1d654a80903d5347cf50dc2c": {
          "model_module": "@jupyter-widgets/controls",
          "model_name": "DescriptionStyleModel",
          "model_module_version": "1.5.0",
          "state": {
            "_model_module": "@jupyter-widgets/controls",
            "_model_module_version": "1.5.0",
            "_model_name": "DescriptionStyleModel",
            "_view_count": null,
            "_view_module": "@jupyter-widgets/base",
            "_view_module_version": "1.2.0",
            "_view_name": "StyleView",
            "description_width": ""
          }
        },
        "0d7e2ade48c64a929dc40686ef1d6d79": {
          "model_module": "@jupyter-widgets/base",
          "model_name": "LayoutModel",
          "model_module_version": "1.2.0",
          "state": {
            "_model_module": "@jupyter-widgets/base",
            "_model_module_version": "1.2.0",
            "_model_name": "LayoutModel",
            "_view_count": null,
            "_view_module": "@jupyter-widgets/base",
            "_view_module_version": "1.2.0",
            "_view_name": "LayoutView",
            "align_content": null,
            "align_items": null,
            "align_self": null,
            "border": null,
            "bottom": null,
            "display": null,
            "flex": null,
            "flex_flow": null,
            "grid_area": null,
            "grid_auto_columns": null,
            "grid_auto_flow": null,
            "grid_auto_rows": null,
            "grid_column": null,
            "grid_gap": null,
            "grid_row": null,
            "grid_template_areas": null,
            "grid_template_columns": null,
            "grid_template_rows": null,
            "height": null,
            "justify_content": null,
            "justify_items": null,
            "left": null,
            "margin": null,
            "max_height": null,
            "max_width": null,
            "min_height": null,
            "min_width": null,
            "object_fit": null,
            "object_position": null,
            "order": null,
            "overflow": null,
            "overflow_x": null,
            "overflow_y": null,
            "padding": null,
            "right": null,
            "top": null,
            "visibility": null,
            "width": null
          }
        },
        "74faa43b5c82458a8d908c1849d694e9": {
          "model_module": "@jupyter-widgets/controls",
          "model_name": "ProgressStyleModel",
          "model_module_version": "1.5.0",
          "state": {
            "_model_module": "@jupyter-widgets/controls",
            "_model_module_version": "1.5.0",
            "_model_name": "ProgressStyleModel",
            "_view_count": null,
            "_view_module": "@jupyter-widgets/base",
            "_view_module_version": "1.2.0",
            "_view_name": "StyleView",
            "bar_color": null,
            "description_width": ""
          }
        },
        "76ebb261ab3d439abfe97f2be797f781": {
          "model_module": "@jupyter-widgets/base",
          "model_name": "LayoutModel",
          "model_module_version": "1.2.0",
          "state": {
            "_model_module": "@jupyter-widgets/base",
            "_model_module_version": "1.2.0",
            "_model_name": "LayoutModel",
            "_view_count": null,
            "_view_module": "@jupyter-widgets/base",
            "_view_module_version": "1.2.0",
            "_view_name": "LayoutView",
            "align_content": null,
            "align_items": null,
            "align_self": null,
            "border": null,
            "bottom": null,
            "display": null,
            "flex": null,
            "flex_flow": null,
            "grid_area": null,
            "grid_auto_columns": null,
            "grid_auto_flow": null,
            "grid_auto_rows": null,
            "grid_column": null,
            "grid_gap": null,
            "grid_row": null,
            "grid_template_areas": null,
            "grid_template_columns": null,
            "grid_template_rows": null,
            "height": null,
            "justify_content": null,
            "justify_items": null,
            "left": null,
            "margin": null,
            "max_height": null,
            "max_width": null,
            "min_height": null,
            "min_width": null,
            "object_fit": null,
            "object_position": null,
            "order": null,
            "overflow": null,
            "overflow_x": null,
            "overflow_y": null,
            "padding": null,
            "right": null,
            "top": null,
            "visibility": null,
            "width": null
          }
        },
        "5966d62a55b448fc92686390beeaad24": {
          "model_module": "@jupyter-widgets/controls",
          "model_name": "DescriptionStyleModel",
          "model_module_version": "1.5.0",
          "state": {
            "_model_module": "@jupyter-widgets/controls",
            "_model_module_version": "1.5.0",
            "_model_name": "DescriptionStyleModel",
            "_view_count": null,
            "_view_module": "@jupyter-widgets/base",
            "_view_module_version": "1.2.0",
            "_view_name": "StyleView",
            "description_width": ""
          }
        },
        "9b040ceed8084263bf86a674623d0414": {
          "model_module": "@jupyter-widgets/controls",
          "model_name": "HBoxModel",
          "model_module_version": "1.5.0",
          "state": {
            "_dom_classes": [],
            "_model_module": "@jupyter-widgets/controls",
            "_model_module_version": "1.5.0",
            "_model_name": "HBoxModel",
            "_view_count": null,
            "_view_module": "@jupyter-widgets/controls",
            "_view_module_version": "1.5.0",
            "_view_name": "HBoxView",
            "box_style": "",
            "children": [
              "IPY_MODEL_9561378260da472e90eeb5a83219bdce",
              "IPY_MODEL_8f8689e67f204a458cba3971e8b98351",
              "IPY_MODEL_a12bf7faef9e406cafe0d7b185bcd0c4"
            ],
            "layout": "IPY_MODEL_0825a69fbfd34fad916b29a00e644b33"
          }
        },
        "9561378260da472e90eeb5a83219bdce": {
          "model_module": "@jupyter-widgets/controls",
          "model_name": "HTMLModel",
          "model_module_version": "1.5.0",
          "state": {
            "_dom_classes": [],
            "_model_module": "@jupyter-widgets/controls",
            "_model_module_version": "1.5.0",
            "_model_name": "HTMLModel",
            "_view_count": null,
            "_view_module": "@jupyter-widgets/controls",
            "_view_module_version": "1.5.0",
            "_view_name": "HTMLView",
            "description": "",
            "description_tooltip": null,
            "layout": "IPY_MODEL_ea3d9497535640358bb727626d6de037",
            "placeholder": "​",
            "style": "IPY_MODEL_c8f86674a8274a188dd2c4e689f3cd00",
            "value": "Downloading: 100%"
          }
        },
        "8f8689e67f204a458cba3971e8b98351": {
          "model_module": "@jupyter-widgets/controls",
          "model_name": "FloatProgressModel",
          "model_module_version": "1.5.0",
          "state": {
            "_dom_classes": [],
            "_model_module": "@jupyter-widgets/controls",
            "_model_module_version": "1.5.0",
            "_model_name": "FloatProgressModel",
            "_view_count": null,
            "_view_module": "@jupyter-widgets/controls",
            "_view_module_version": "1.5.0",
            "_view_name": "ProgressView",
            "bar_style": "success",
            "description": "",
            "description_tooltip": null,
            "layout": "IPY_MODEL_b8d7e5fb243a4dca9530643da6b6f8d4",
            "max": 438235074,
            "min": 0,
            "orientation": "horizontal",
            "style": "IPY_MODEL_67412c99b67147cfb1d1daaa9be2d033",
            "value": 438235074
          }
        },
        "a12bf7faef9e406cafe0d7b185bcd0c4": {
          "model_module": "@jupyter-widgets/controls",
          "model_name": "HTMLModel",
          "model_module_version": "1.5.0",
          "state": {
            "_dom_classes": [],
            "_model_module": "@jupyter-widgets/controls",
            "_model_module_version": "1.5.0",
            "_model_name": "HTMLModel",
            "_view_count": null,
            "_view_module": "@jupyter-widgets/controls",
            "_view_module_version": "1.5.0",
            "_view_name": "HTMLView",
            "description": "",
            "description_tooltip": null,
            "layout": "IPY_MODEL_2072352919d44be8876f4c97d8d74304",
            "placeholder": "​",
            "style": "IPY_MODEL_797537aa56d1425f82269cff350d8c46",
            "value": " 418M/418M [00:48&lt;00:00, 12.9MB/s]"
          }
        },
        "0825a69fbfd34fad916b29a00e644b33": {
          "model_module": "@jupyter-widgets/base",
          "model_name": "LayoutModel",
          "model_module_version": "1.2.0",
          "state": {
            "_model_module": "@jupyter-widgets/base",
            "_model_module_version": "1.2.0",
            "_model_name": "LayoutModel",
            "_view_count": null,
            "_view_module": "@jupyter-widgets/base",
            "_view_module_version": "1.2.0",
            "_view_name": "LayoutView",
            "align_content": null,
            "align_items": null,
            "align_self": null,
            "border": null,
            "bottom": null,
            "display": null,
            "flex": null,
            "flex_flow": null,
            "grid_area": null,
            "grid_auto_columns": null,
            "grid_auto_flow": null,
            "grid_auto_rows": null,
            "grid_column": null,
            "grid_gap": null,
            "grid_row": null,
            "grid_template_areas": null,
            "grid_template_columns": null,
            "grid_template_rows": null,
            "height": null,
            "justify_content": null,
            "justify_items": null,
            "left": null,
            "margin": null,
            "max_height": null,
            "max_width": null,
            "min_height": null,
            "min_width": null,
            "object_fit": null,
            "object_position": null,
            "order": null,
            "overflow": null,
            "overflow_x": null,
            "overflow_y": null,
            "padding": null,
            "right": null,
            "top": null,
            "visibility": null,
            "width": null
          }
        },
        "ea3d9497535640358bb727626d6de037": {
          "model_module": "@jupyter-widgets/base",
          "model_name": "LayoutModel",
          "model_module_version": "1.2.0",
          "state": {
            "_model_module": "@jupyter-widgets/base",
            "_model_module_version": "1.2.0",
            "_model_name": "LayoutModel",
            "_view_count": null,
            "_view_module": "@jupyter-widgets/base",
            "_view_module_version": "1.2.0",
            "_view_name": "LayoutView",
            "align_content": null,
            "align_items": null,
            "align_self": null,
            "border": null,
            "bottom": null,
            "display": null,
            "flex": null,
            "flex_flow": null,
            "grid_area": null,
            "grid_auto_columns": null,
            "grid_auto_flow": null,
            "grid_auto_rows": null,
            "grid_column": null,
            "grid_gap": null,
            "grid_row": null,
            "grid_template_areas": null,
            "grid_template_columns": null,
            "grid_template_rows": null,
            "height": null,
            "justify_content": null,
            "justify_items": null,
            "left": null,
            "margin": null,
            "max_height": null,
            "max_width": null,
            "min_height": null,
            "min_width": null,
            "object_fit": null,
            "object_position": null,
            "order": null,
            "overflow": null,
            "overflow_x": null,
            "overflow_y": null,
            "padding": null,
            "right": null,
            "top": null,
            "visibility": null,
            "width": null
          }
        },
        "c8f86674a8274a188dd2c4e689f3cd00": {
          "model_module": "@jupyter-widgets/controls",
          "model_name": "DescriptionStyleModel",
          "model_module_version": "1.5.0",
          "state": {
            "_model_module": "@jupyter-widgets/controls",
            "_model_module_version": "1.5.0",
            "_model_name": "DescriptionStyleModel",
            "_view_count": null,
            "_view_module": "@jupyter-widgets/base",
            "_view_module_version": "1.2.0",
            "_view_name": "StyleView",
            "description_width": ""
          }
        },
        "b8d7e5fb243a4dca9530643da6b6f8d4": {
          "model_module": "@jupyter-widgets/base",
          "model_name": "LayoutModel",
          "model_module_version": "1.2.0",
          "state": {
            "_model_module": "@jupyter-widgets/base",
            "_model_module_version": "1.2.0",
            "_model_name": "LayoutModel",
            "_view_count": null,
            "_view_module": "@jupyter-widgets/base",
            "_view_module_version": "1.2.0",
            "_view_name": "LayoutView",
            "align_content": null,
            "align_items": null,
            "align_self": null,
            "border": null,
            "bottom": null,
            "display": null,
            "flex": null,
            "flex_flow": null,
            "grid_area": null,
            "grid_auto_columns": null,
            "grid_auto_flow": null,
            "grid_auto_rows": null,
            "grid_column": null,
            "grid_gap": null,
            "grid_row": null,
            "grid_template_areas": null,
            "grid_template_columns": null,
            "grid_template_rows": null,
            "height": null,
            "justify_content": null,
            "justify_items": null,
            "left": null,
            "margin": null,
            "max_height": null,
            "max_width": null,
            "min_height": null,
            "min_width": null,
            "object_fit": null,
            "object_position": null,
            "order": null,
            "overflow": null,
            "overflow_x": null,
            "overflow_y": null,
            "padding": null,
            "right": null,
            "top": null,
            "visibility": null,
            "width": null
          }
        },
        "67412c99b67147cfb1d1daaa9be2d033": {
          "model_module": "@jupyter-widgets/controls",
          "model_name": "ProgressStyleModel",
          "model_module_version": "1.5.0",
          "state": {
            "_model_module": "@jupyter-widgets/controls",
            "_model_module_version": "1.5.0",
            "_model_name": "ProgressStyleModel",
            "_view_count": null,
            "_view_module": "@jupyter-widgets/base",
            "_view_module_version": "1.2.0",
            "_view_name": "StyleView",
            "bar_color": null,
            "description_width": ""
          }
        },
        "2072352919d44be8876f4c97d8d74304": {
          "model_module": "@jupyter-widgets/base",
          "model_name": "LayoutModel",
          "model_module_version": "1.2.0",
          "state": {
            "_model_module": "@jupyter-widgets/base",
            "_model_module_version": "1.2.0",
            "_model_name": "LayoutModel",
            "_view_count": null,
            "_view_module": "@jupyter-widgets/base",
            "_view_module_version": "1.2.0",
            "_view_name": "LayoutView",
            "align_content": null,
            "align_items": null,
            "align_self": null,
            "border": null,
            "bottom": null,
            "display": null,
            "flex": null,
            "flex_flow": null,
            "grid_area": null,
            "grid_auto_columns": null,
            "grid_auto_flow": null,
            "grid_auto_rows": null,
            "grid_column": null,
            "grid_gap": null,
            "grid_row": null,
            "grid_template_areas": null,
            "grid_template_columns": null,
            "grid_template_rows": null,
            "height": null,
            "justify_content": null,
            "justify_items": null,
            "left": null,
            "margin": null,
            "max_height": null,
            "max_width": null,
            "min_height": null,
            "min_width": null,
            "object_fit": null,
            "object_position": null,
            "order": null,
            "overflow": null,
            "overflow_x": null,
            "overflow_y": null,
            "padding": null,
            "right": null,
            "top": null,
            "visibility": null,
            "width": null
          }
        },
        "797537aa56d1425f82269cff350d8c46": {
          "model_module": "@jupyter-widgets/controls",
          "model_name": "DescriptionStyleModel",
          "model_module_version": "1.5.0",
          "state": {
            "_model_module": "@jupyter-widgets/controls",
            "_model_module_version": "1.5.0",
            "_model_name": "DescriptionStyleModel",
            "_view_count": null,
            "_view_module": "@jupyter-widgets/base",
            "_view_module_version": "1.2.0",
            "_view_name": "StyleView",
            "description_width": ""
          }
        }
      }
    }
  },
  "cells": [
    {
      "cell_type": "markdown",
      "source": [
        "# Modelos de Classificação\n",
        "### Proposta: Construir um modelo que seja capaz de verificar se o resumo está coerente com tema abordado, basicamente o classificando com a disciplina correspondente."
      ],
      "metadata": {
        "id": "Lcq7UDnmiHac"
      }
    },
    {
      "cell_type": "markdown",
      "source": [
        "# Bibliotecas necessárias"
      ],
      "metadata": {
        "id": "JRs4uqgT72Qk"
      }
    },
    {
      "cell_type": "code",
      "metadata": {
        "id": "St7i-s1k4LCW",
        "colab": {
          "base_uri": "https://localhost:8080/"
        },
        "outputId": "8808c206-5adb-4b2a-c17e-025717f4833b"
      },
      "source": [
        "import tensorflow as tf\n",
        "from tensorflow import keras\n",
        "import numpy as np\n",
        "import matplotlib.pyplot as plt\n",
        "import time\n",
        "import pandas as pd\n",
        "import re\n",
        "import string\n",
        "!pip install nltk\n",
        "import nltk\n",
        "nltk.download('stopwords')\n",
        "from nltk.corpus import stopwords\n",
        "from tensorflow.keras import layers\n",
        "import time"
      ],
      "execution_count": null,
      "outputs": [
        {
          "output_type": "stream",
          "name": "stdout",
          "text": [
            "Requirement already satisfied: nltk in /usr/local/lib/python3.7/dist-packages (3.2.5)\n",
            "Requirement already satisfied: six in /usr/local/lib/python3.7/dist-packages (from nltk) (1.15.0)\n",
            "[nltk_data] Downloading package stopwords to /root/nltk_data...\n",
            "[nltk_data]   Package stopwords is already up-to-date!\n"
          ]
        }
      ]
    },
    {
      "cell_type": "markdown",
      "source": [
        "### Função de Carregamento e Embaralhamento do dataset"
      ],
      "metadata": {
        "id": "kugFkyaqcLQk"
      }
    },
    {
      "cell_type": "code",
      "metadata": {
        "id": "VW0tZ-ji4Ddl"
      },
      "source": [
        "def get_data(nome_arquivo,shuffle):\n",
        "    ds = pd.read_csv(nome_arquivo,encoding=\"utf-8\")\n",
        "    if shuffle:\n",
        "        ds = ds.sample(frac=1)\n",
        "    ds['texto'] = ds['texto'].apply(str)\n",
        "    return ds"
      ],
      "execution_count": null,
      "outputs": []
    },
    {
      "cell_type": "markdown",
      "source": [
        "### Funções de preparação do Dataset\n",
        "- Limpeza dos textos\n",
        "- Remoção de urls, hífen, símbolos\n",
        "- Remoção de Stop Words"
      ],
      "metadata": {
        "id": "2s1Kou0ra9_S"
      }
    },
    {
      "cell_type": "code",
      "metadata": {
        "id": "vTdYdIzU4HQB"
      },
      "source": [
        "stop = set(stopwords.words(\"portuguese\"))\n",
        "\n",
        "def remove_stopwords(text):\n",
        "    filtered_words = [word.lower() for word in text.split() if word.lower() not in stop]\n",
        "    return \" \".join(filtered_words)\n",
        "\n",
        "def remove_URL(text):\n",
        "    url = re.compile(r\"https?://\\S+|www\\.\\S+\")\n",
        "    return url.sub(r\"\",text)\n",
        "\n",
        "def remove_punct(text):\n",
        "    translator = str.maketrans(\"\",\"\",'!\"\"#$%&\\'()*+,./:;<=>?@[\\\\]^_`{|}~º')\n",
        "    translator = str.maketrans(\"\",\"\",'!\"\"#$%&\\'()*+,./:;<=>?@[\\\\]^_`{|}~º')\n",
        "    return text.translate(translator)\n",
        "\n",
        "def remove_numbers(text):\n",
        "    result = ''.join([i for i in text if not i.isdigit()])\n",
        "    return result\n",
        "\n",
        "def remove_hifen(text):\n",
        "    translator = str.maketrans('-',' ')\n",
        "    return text.translate(translator)"
      ],
      "execution_count": null,
      "outputs": []
    },
    {
      "cell_type": "code",
      "metadata": {
        "id": "gpf42XCq4JGJ"
      },
      "source": [
        "pattern = re.compile(r\"https?//(\\S+|www)\\.\\S+\")\n",
        "def pat(df_t):\n",
        "    for t in df_t.texto:\n",
        "        matches = pattern.findall(t)\n",
        "        for match in  matches:\n",
        "            print(t)\n",
        "            print(match)\n",
        "            print(pattern.sub(r\"\",t))        \n",
        "        if len(matches)> 0:\n",
        "            break"
      ],
      "execution_count": null,
      "outputs": []
    },
    {
      "cell_type": "code",
      "metadata": {
        "id": "V4kycuwr4K95"
      },
      "source": [
        "def make_test(df_t):\n",
        "    df_t[\"texto\"] = df_t.texto.map(remove_URL)\n",
        "    #df_t[\"texto\"] = df_t.texto.map(remove_punct)\n",
        "    df_t[\"texto\"] = df_t.texto.map(remove_hifen)\n",
        "    #df_t[\"texto\"] = df_t.texto.map(remove_numbers)\n",
        "    df_t[\"texto\"] = df_t.texto.map(remove_stopwords)"
      ],
      "execution_count": null,
      "outputs": []
    },
    {
      "cell_type": "markdown",
      "source": [
        "### Função para preparação da Sentença de Teste\n",
        "- Aplica todas as funções acima em uma\n",
        "  unica sentença"
      ],
      "metadata": {
        "id": "DbzrXHcWbowd"
      }
    },
    {
      "cell_type": "code",
      "metadata": {
        "id": "quKozKW-2vTJ"
      },
      "source": [
        "def prepare(teste):\n",
        "    teste = remove_URL(teste)\n",
        "    #teste = remove_punct(teste)\n",
        "    teste = remove_hifen(teste)\n",
        "    teste = remove_stopwords(teste)    \n",
        "    return teste"
      ],
      "execution_count": null,
      "outputs": []
    },
    {
      "cell_type": "markdown",
      "source": [
        "# Carregamento do Dataset\n",
        "- Carregamento\n",
        "- Embaralhamento\n",
        "- Conversão texto para String \n",
        "- Limpeza e formatação do texto\n",
        "\n",
        "### O Dataset utilizado pode ser encontrado em:\n",
        " - [train.csv](https://github.com/mateusns12/Modelos-de-Classificacao/blob/master/Modelo-Eletrica-Eletronica/train.csv)\n",
        " - [eval.csv](https://github.com/mateusns12/Modelos-de-Classificacao/blob/master/Modelo-Eletrica-Eletronica/eval.csv)"
      ],
      "metadata": {
        "id": "YgHzmBr9aGka"
      }
    },
    {
      "cell_type": "code",
      "source": [
        "train_csv = 'https://raw.githubusercontent.com/mateusns12/Modelos-de-Classificacao/master/Modelo-Eletrica-Eletronica/train.csv'\n",
        "eval_csv = 'https://raw.githubusercontent.com/mateusns12/Modelos-de-Classificacao/master/Modelo-Eletrica-Eletronica/eval.csv'"
      ],
      "metadata": {
        "id": "z84uw62732Qb"
      },
      "execution_count": null,
      "outputs": []
    },
    {
      "cell_type": "code",
      "metadata": {
        "id": "ZBm8fUHG4T3R"
      },
      "source": [
        "df = get_data(train_csv,1)"
      ],
      "execution_count": null,
      "outputs": []
    },
    {
      "cell_type": "code",
      "metadata": {
        "id": "P4aYjvb2B9yd"
      },
      "source": [
        "pat(df)\n",
        "make_test(df)"
      ],
      "execution_count": null,
      "outputs": []
    },
    {
      "cell_type": "markdown",
      "source": [
        "## Visualização da distribuição de frequencia de palavras por sentença\n",
        "- Útil para definir o número máximo de palavras do processo de padding do tokenizador."
      ],
      "metadata": {
        "id": "L6zdza67a7hY"
      }
    },
    {
      "cell_type": "code",
      "metadata": {
        "colab": {
          "base_uri": "https://localhost:8080/",
          "height": 404
        },
        "id": "qBLezA7_5hMQ",
        "outputId": "accdcea6-58d4-4b0c-aba5-c6e5b8473e18"
      },
      "source": [
        "import seaborn as sns\n",
        "seqlen = df['texto'].apply(lambda x: len(x.split()))\n",
        "sns.set_style('darkgrid')\n",
        "plt.figure(figsize=(16,10))\n",
        "sns.displot(seqlen)"
      ],
      "execution_count": null,
      "outputs": [
        {
          "output_type": "execute_result",
          "data": {
            "text/plain": [
              "<seaborn.axisgrid.FacetGrid at 0x7f94a439a190>"
            ]
          },
          "metadata": {},
          "execution_count": 16
        },
        {
          "output_type": "display_data",
          "data": {
            "text/plain": [
              "<Figure size 1152x720 with 0 Axes>"
            ]
          },
          "metadata": {}
        },
        {
          "output_type": "display_data",
          "data": {
            "text/plain": [
              "<Figure size 360x360 with 1 Axes>"
            ],
            "image/png": "[encoded data removed]"
          },
          "metadata": {}
        }
      ]
    },
    {
      "cell_type": "code",
      "metadata": {
        "id": "YUPJZe_b7dzN"
      },
      "source": [
        "SEQ_LEN = 100"
      ],
      "execution_count": null,
      "outputs": []
    },
    {
      "cell_type": "markdown",
      "source": [
        "# Tokenizador BERT\n",
        "O tokenizador BERT já incorpora tarefas como padding, inclusão de tokens especiais, e transformação do dataset em um array Numpy."
      ],
      "metadata": {
        "id": "wKvzR1h5Yjde"
      }
    },
    {
      "cell_type": "code",
      "metadata": {
        "id": "RIrlSnXj7hv1",
        "colab": {
          "base_uri": "https://localhost:8080/"
        },
        "outputId": "114a4683-0289-41ea-cb7c-b7fb7acad121"
      },
      "source": [
        "!pip install transformers\n",
        "from transformers import AutoTokenizer"
      ],
      "execution_count": null,
      "outputs": [
        {
          "output_type": "stream",
          "name": "stdout",
          "text": [
            "Collecting transformers\n",
            "  Downloading transformers-4.18.0-py3-none-any.whl (4.0 MB)\n",
            "\u001b[K     |████████████████████████████████| 4.0 MB 5.7 MB/s \n",
            "\u001b[?25hRequirement already satisfied: requests in /usr/local/lib/python3.7/dist-packages (from transformers) (2.23.0)\n",
            "Collecting huggingface-hub<1.0,>=0.1.0\n",
            "  Downloading huggingface_hub-0.5.1-py3-none-any.whl (77 kB)\n",
            "\u001b[K     |████████████████████████████████| 77 kB 5.4 MB/s \n",
            "\u001b[?25hRequirement already satisfied: regex!=2019.12.17 in /usr/local/lib/python3.7/dist-packages (from transformers) (2019.12.20)\n",
            "Collecting sacremoses\n",
            "  Downloading sacremoses-0.0.49-py3-none-any.whl (895 kB)\n",
            "\u001b[K     |████████████████████████████████| 895 kB 33.1 MB/s \n",
            "\u001b[?25hRequirement already satisfied: filelock in /usr/local/lib/python3.7/dist-packages (from transformers) (3.6.0)\n",
            "Collecting pyyaml>=5.1\n",
            "  Downloading PyYAML-6.0-cp37-cp37m-manylinux_2_5_x86_64.manylinux1_x86_64.manylinux_2_12_x86_64.manylinux2010_x86_64.whl (596 kB)\n",
            "\u001b[K     |████████████████████████████████| 596 kB 42.8 MB/s \n",
            "\u001b[?25hCollecting tokenizers!=0.11.3,<0.13,>=0.11.1\n",
            "  Downloading tokenizers-0.11.6-cp37-cp37m-manylinux_2_12_x86_64.manylinux2010_x86_64.whl (6.5 MB)\n",
            "\u001b[K     |████████████████████████████████| 6.5 MB 32.4 MB/s \n",
            "\u001b[?25hRequirement already satisfied: packaging>=20.0 in /usr/local/lib/python3.7/dist-packages (from transformers) (21.3)\n",
            "Requirement already satisfied: numpy>=1.17 in /usr/local/lib/python3.7/dist-packages (from transformers) (1.21.5)\n",
            "Requirement already satisfied: tqdm>=4.27 in /usr/local/lib/python3.7/dist-packages (from transformers) (4.63.0)\n",
            "Requirement already satisfied: importlib-metadata in /usr/local/lib/python3.7/dist-packages (from transformers) (4.11.3)\n",
            "Requirement already satisfied: typing-extensions>=3.7.4.3 in /usr/local/lib/python3.7/dist-packages (from huggingface-hub<1.0,>=0.1.0->transformers) (3.10.0.2)\n",
            "Requirement already satisfied: pyparsing!=3.0.5,>=2.0.2 in /usr/local/lib/python3.7/dist-packages (from packaging>=20.0->transformers) (3.0.7)\n",
            "Requirement already satisfied: zipp>=0.5 in /usr/local/lib/python3.7/dist-packages (from importlib-metadata->transformers) (3.7.0)\n",
            "Requirement already satisfied: idna<3,>=2.5 in /usr/local/lib/python3.7/dist-packages (from requests->transformers) (2.10)\n",
            "Requirement already satisfied: urllib3!=1.25.0,!=1.25.1,<1.26,>=1.21.1 in /usr/local/lib/python3.7/dist-packages (from requests->transformers) (1.24.3)\n",
            "Requirement already satisfied: certifi>=2017.4.17 in /usr/local/lib/python3.7/dist-packages (from requests->transformers) (2021.10.8)\n",
            "Requirement already satisfied: chardet<4,>=3.0.2 in /usr/local/lib/python3.7/dist-packages (from requests->transformers) (3.0.4)\n",
            "Requirement already satisfied: joblib in /usr/local/lib/python3.7/dist-packages (from sacremoses->transformers) (1.1.0)\n",
            "Requirement already satisfied: six in /usr/local/lib/python3.7/dist-packages (from sacremoses->transformers) (1.15.0)\n",
            "Requirement already satisfied: click in /usr/local/lib/python3.7/dist-packages (from sacremoses->transformers) (7.1.2)\n",
            "Installing collected packages: pyyaml, tokenizers, sacremoses, huggingface-hub, transformers\n",
            "  Attempting uninstall: pyyaml\n",
            "    Found existing installation: PyYAML 3.13\n",
            "    Uninstalling PyYAML-3.13:\n",
            "      Successfully uninstalled PyYAML-3.13\n",
            "Successfully installed huggingface-hub-0.5.1 pyyaml-6.0 sacremoses-0.0.49 tokenizers-0.11.6 transformers-4.18.0\n"
          ]
        }
      ]
    },
    {
      "cell_type": "code",
      "metadata": {
        "id": "SSGDft-c7qil",
        "colab": {
          "base_uri": "https://localhost:8080/",
          "height": 177,
          "referenced_widgets": [
            "8df8eb50d6e84789bbacc98100a503e4",
            "f77024d5c5254b109923d18aa9980cc6",
            "8f7cd2c14aac478c99d592e59e415c45",
            "14ccec6ada3a473b8a31ed4884cf27ba",
            "99264dc7d6e14c598418b145ecc72e52",
            "7956ac6632874b82b8b3e5afb5aa3b26",
            "55c3986c4059443997aec5034f7a2392",
            "ad1d1c1bebc64f13bf23b612b8bf1cbf",
            "eb9c6f8353164190bc36a5d67c68ff3f",
            "fe4ef6036c2b4825b8c2e97f8a8f073f",
            "56f5709f564c41bd9f0b8e8dd4ed584b",
            "ec36087faa094313b9af34297cecdd94",
            "bd64c71d3cec490c9131b0d12eb23ab9",
            "6b25708152944521b1be91befd54eed9",
            "ac40cbfc9a8a4d689cfb66f4c4e12e48",
            "4e9642bde1e549eb85b3abe3e6be4913",
            "c9bb46037f96421baf6cc80ff8944c0d",
            "7adc3fa77d4349008710888a79ce07e6",
            "0d778743d9f5496ea316cf281bd63bae",
            "11a6404fb11f4a6bbb7c80e2bd273e18",
            "32ac6098816b40a4a32d102b9252c33b",
            "2473fa3ae9a545acb7c2f5f432c2836e",
            "3eaf388fdb5c4f0d9e45d1eb7f10fdaa",
            "dff5f5627cc648a394c1410518363574",
            "da0702cb7b4f4d2ca9b5b4f20f037f07",
            "f1cf58c2776649fda338b1d9b49ef0b7",
            "8e89af18905646dea37613327a873c58",
            "08842c27b7904b3f961282f6cb246271",
            "b49233b3b7ec4c9f8a2168d440cf929c",
            "9c1a8015fd3a468886081b4cc6d57ca6",
            "3168b9486c434f38a00685233286fc31",
            "278d0bcb3a674e2dbb400ec03cebe24a",
            "392f909b684e4bab84f37e7f43a83437",
            "8296f2dccde6468e8bd557b357961823",
            "9e424cf26b634c62b041ae98135d60de",
            "90309e77f9654c2295e94e623cb87c9e",
            "d3d650ae5e64420e8f90d22decb82cb8",
            "5da57e57a03e449da1a04f6e98e150c3",
            "9bd21f10b4374352a880e54d8606b5dd",
            "4149ca8ad3dd43af9624057f1742d500",
            "c007c04d0d6c42da9116513aaebe7206",
            "c3390ad5912742f9afa06d733e2f5322",
            "314d473a5b424599a547c14e3a1a64a0",
            "706caf753a064f4aa285bf905dba4887",
            "ecec49b3aad446d08ff5a5b08f9e9891",
            "e2e2df2863e741fb9eb3e930bf63466b",
            "d15462db7a544724b908d9a90c2cbdf8",
            "adc4b43b9f3f47e1b5845fdb9bd3b16e",
            "358bd093dc6e4210a6cb122b43d4c903",
            "38e3e948209f4b25b9abec109eff6598",
            "397bd31b1d654a80903d5347cf50dc2c",
            "0d7e2ade48c64a929dc40686ef1d6d79",
            "74faa43b5c82458a8d908c1849d694e9",
            "76ebb261ab3d439abfe97f2be797f781",
            "5966d62a55b448fc92686390beeaad24"
          ]
        },
        "outputId": "b8699c72-e49d-408c-db40-3c31a3f84904"
      },
      "source": [
        "tokenizer = AutoTokenizer.from_pretrained('neuralmind/bert-base-portuguese-cased')"
      ],
      "execution_count": null,
      "outputs": [
        {
          "output_type": "display_data",
          "data": {
            "text/plain": [
              "Downloading:   0%|          | 0.00/43.0 [00:00<?, ?B/s]"
            ],
            "application/vnd.jupyter.widget-view+json": {
              "version_major": 2,
              "version_minor": 0,
              "model_id": "8df8eb50d6e84789bbacc98100a503e4"
            }
          },
          "metadata": {}
        },
        {
          "output_type": "display_data",
          "data": {
            "text/plain": [
              "Downloading:   0%|          | 0.00/647 [00:00<?, ?B/s]"
            ],
            "application/vnd.jupyter.widget-view+json": {
              "version_major": 2,
              "version_minor": 0,
              "model_id": "ec36087faa094313b9af34297cecdd94"
            }
          },
          "metadata": {}
        },
        {
          "output_type": "display_data",
          "data": {
            "text/plain": [
              "Downloading:   0%|          | 0.00/205k [00:00<?, ?B/s]"
            ],
            "application/vnd.jupyter.widget-view+json": {
              "version_major": 2,
              "version_minor": 0,
              "model_id": "3eaf388fdb5c4f0d9e45d1eb7f10fdaa"
            }
          },
          "metadata": {}
        },
        {
          "output_type": "display_data",
          "data": {
            "text/plain": [
              "Downloading:   0%|          | 0.00/2.00 [00:00<?, ?B/s]"
            ],
            "application/vnd.jupyter.widget-view+json": {
              "version_major": 2,
              "version_minor": 0,
              "model_id": "8296f2dccde6468e8bd557b357961823"
            }
          },
          "metadata": {}
        },
        {
          "output_type": "display_data",
          "data": {
            "text/plain": [
              "Downloading:   0%|          | 0.00/112 [00:00<?, ?B/s]"
            ],
            "application/vnd.jupyter.widget-view+json": {
              "version_major": 2,
              "version_minor": 0,
              "model_id": "ecec49b3aad446d08ff5a5b08f9e9891"
            }
          },
          "metadata": {}
        }
      ]
    },
    {
      "cell_type": "code",
      "metadata": {
        "id": "d6-VgRJU9H7a"
      },
      "source": [
        "Xids = np.zeros((len(df),SEQ_LEN))\n",
        "Xmask = np.zeros((len(df),SEQ_LEN))"
      ],
      "execution_count": null,
      "outputs": []
    },
    {
      "cell_type": "code",
      "metadata": {
        "colab": {
          "base_uri": "https://localhost:8080/"
        },
        "id": "jRvv3H279_Ta",
        "outputId": "39f68d1f-1f6d-488f-d90b-f87118b2fb0a"
      },
      "source": [
        "Xids.shape"
      ],
      "execution_count": null,
      "outputs": [
        {
          "output_type": "execute_result",
          "data": {
            "text/plain": [
              "(820, 100)"
            ]
          },
          "metadata": {},
          "execution_count": 21
        }
      ]
    },
    {
      "cell_type": "code",
      "metadata": {
        "id": "IQkZYqOn-CGh"
      },
      "source": [
        "for i, sequence in enumerate(df['texto']):\n",
        "    tokens = tokenizer.encode_plus(sequence, max_length=SEQ_LEN, truncation= True, padding=\"max_length\", \n",
        "                               add_special_tokens= True, return_token_type_ids= False, return_attention_mask= True, return_tensors= 'tf')\n",
        "    Xids[i,:], Xmask[i,:] = tokens['input_ids'], tokens['attention_mask']"
      ],
      "execution_count": null,
      "outputs": []
    },
    {
      "cell_type": "code",
      "metadata": {
        "colab": {
          "base_uri": "https://localhost:8080/"
        },
        "id": "0Te6JcyQ_ivQ",
        "outputId": "39c96e0e-b78e-4d23-9ac0-6bc935c0abc0"
      },
      "source": [
        "Xids"
      ],
      "execution_count": null,
      "outputs": [
        {
          "output_type": "execute_result",
          "data": {
            "text/plain": [
              "array([[  101.,  3102.,  1223., ...,   774.,  2811.,   102.],\n",
              "       [  101.,  2608.,  6854., ...,   117.,  3580.,   102.],\n",
              "       [  101.,  1223.,  6770., ...,  8950., 17754.,   102.],\n",
              "       ...,\n",
              "       [  101.,  2981.,  1223., ...,     0.,     0.,     0.],\n",
              "       [  101.,  1065.,  6636., ...,     0.,     0.,     0.],\n",
              "       [  101.,  4574., 17837., ...,   695., 10264.,   102.]])"
            ]
          },
          "metadata": {},
          "execution_count": 23
        }
      ]
    },
    {
      "cell_type": "code",
      "metadata": {
        "colab": {
          "base_uri": "https://localhost:8080/"
        },
        "id": "IBFCNpnh_sN4",
        "outputId": "d772e627-f316-4f2c-b69a-4592b46125bb"
      },
      "source": [
        "Xmask"
      ],
      "execution_count": null,
      "outputs": [
        {
          "output_type": "execute_result",
          "data": {
            "text/plain": [
              "array([[1., 1., 1., ..., 1., 1., 1.],\n",
              "       [1., 1., 1., ..., 1., 1., 1.],\n",
              "       [1., 1., 1., ..., 1., 1., 1.],\n",
              "       ...,\n",
              "       [1., 1., 1., ..., 0., 0., 0.],\n",
              "       [1., 1., 1., ..., 0., 0., 0.],\n",
              "       [1., 1., 1., ..., 1., 1., 1.]])"
            ]
          },
          "metadata": {},
          "execution_count": 24
        }
      ]
    },
    {
      "cell_type": "code",
      "metadata": {
        "id": "-BJyY9wbBJvm",
        "colab": {
          "base_uri": "https://localhost:8080/"
        },
        "outputId": "62638a75-c342-4264-d0dc-5b64c5e0552e"
      },
      "source": [
        "arr = df['valor'].values\n",
        "arr.size"
      ],
      "execution_count": null,
      "outputs": [
        {
          "output_type": "execute_result",
          "data": {
            "text/plain": [
              "820"
            ]
          },
          "metadata": {},
          "execution_count": 25
        }
      ]
    },
    {
      "cell_type": "code",
      "metadata": {
        "colab": {
          "base_uri": "https://localhost:8080/"
        },
        "id": "_A6SDVV9CxMU",
        "outputId": "0ff9350b-0fa8-48c9-b246-ba0c440f2dfa"
      },
      "source": [
        "labels = np.zeros((arr.size, arr.max()+1))\n",
        "labels.shape"
      ],
      "execution_count": null,
      "outputs": [
        {
          "output_type": "execute_result",
          "data": {
            "text/plain": [
              "(820, 2)"
            ]
          },
          "metadata": {},
          "execution_count": 26
        }
      ]
    },
    {
      "cell_type": "code",
      "metadata": {
        "id": "qOKDFuojDK3T",
        "colab": {
          "base_uri": "https://localhost:8080/"
        },
        "outputId": "8e895027-5a46-4f3d-af7d-17f2e83831ed"
      },
      "source": [
        "labels[np.arange(arr.size),arr] = 1\n",
        "labels"
      ],
      "execution_count": null,
      "outputs": [
        {
          "output_type": "execute_result",
          "data": {
            "text/plain": [
              "array([[1., 0.],\n",
              "       [1., 0.],\n",
              "       [1., 0.],\n",
              "       ...,\n",
              "       [0., 1.],\n",
              "       [1., 0.],\n",
              "       [1., 0.]])"
            ]
          },
          "metadata": {},
          "execution_count": 27
        }
      ]
    },
    {
      "cell_type": "markdown",
      "source": [
        "# Dataset Modelo BERT\n",
        "- Assim como o dataset Tensorflow, o datset BERT contém um array de Tokens e Labels, e uma terceira coluna de máscaras.\n",
        "- No modelo BERT, tokens são chamados de IDs.\n",
        "- As máscaras permitem com que o embedding seja multidirecional, ou seja o significado\n",
        "é dado pelo contexto"
      ],
      "metadata": {
        "id": "yX1u7N1KWrCY"
      }
    },
    {
      "cell_type": "markdown",
      "source": [
        "### Montagem do dataset BERT, que será aplicado na camada de Embedding do modelo"
      ],
      "metadata": {
        "id": "JCOhWKOdb76q"
      }
    },
    {
      "cell_type": "code",
      "metadata": {
        "id": "m3eqIZNsIJul"
      },
      "source": [
        "dataset = tf.data.Dataset.from_tensor_slices((Xids,Xmask,labels))"
      ],
      "execution_count": null,
      "outputs": []
    },
    {
      "cell_type": "markdown",
      "source": [
        "## Definindo Labels de treinamento\n",
        "- Assim como no dataset original, haviam nomes para as colunas como 'texto' e 'valor'\n",
        " o modelo BERT exige labels para IDs e máscaras. \n",
        "- Estes são 'input_ids' e 'attention_mask'\n",
        "\n",
        "### A função abaixo remapeia o dataset, adicionando estes labels como chaves"
      ],
      "metadata": {
        "id": "UvbrxqN6cJRk"
      }
    },
    {
      "cell_type": "code",
      "metadata": {
        "id": "U2oRBl9gIzXM"
      },
      "source": [
        "def map_function(input_ids,mask,labels):\n",
        "  return {'input_ids':input_ids, 'attention_mask':mask}, labels"
      ],
      "execution_count": null,
      "outputs": []
    },
    {
      "cell_type": "code",
      "metadata": {
        "id": "LK80Gd43JcKr"
      },
      "source": [
        "dataset = dataset.map(map_function)"
      ],
      "execution_count": null,
      "outputs": []
    },
    {
      "cell_type": "markdown",
      "source": [
        "### Exemplo\n",
        "- Valores de IDs (tokens) e Máscara para a sentença 1:"
      ],
      "metadata": {
        "id": "BhP_kJ4ZQd3s"
      }
    },
    {
      "cell_type": "code",
      "metadata": {
        "colab": {
          "base_uri": "https://localhost:8080/"
        },
        "id": "cCyhvJBMJW4N",
        "outputId": "eb7a7d82-3d39-44ca-b05f-5d22767a66bd"
      },
      "source": [
        "for i in dataset.take(1):\n",
        "  print(i)"
      ],
      "execution_count": null,
      "outputs": [
        {
          "output_type": "stream",
          "name": "stdout",
          "text": [
            "({'input_ids': <tf.Tensor: shape=(100,), dtype=float64, numpy=\n",
            "array([  101.,  3102.,  1223.,  3957.,  9817.,  1089.,  9314.,   498.,\n",
            "        3308., 12816., 10574.,  3184.,  9577., 18288.,  5506.,  3118.,\n",
            "         695.,  1009.,   315.,   119.,  2590.,   117.,  5516.,   243.,\n",
            "        3265.,  4476.,  5362.,  4438.,  3184.,   117.,  4431.,  9314.,\n",
            "         498.,  1177.,  2383.,  5973.,   656.,  9287.,   498., 14491.,\n",
            "         254.,   383., 22338.,  6337.,  3227.,   119.,  2801.,   117.,\n",
            "        5931.,  1756.,  1181.,  9577.,   182.,   695.,  1009.,   315.,\n",
            "       10485.,  5506.,  2630.,  1223.,   117.,  4956.,  1284.,  3077.,\n",
            "        4455., 10440.,  1815.,   119.,  7012.,  5422.,   117.,  3308.,\n",
            "        3077.,  4455.,  9158.,   695., 14758.,   925.,  2032.,   117.,\n",
            "        4947.,  3024.,   119.,  4689.,  9158.,  3184.,  5506.,  3118.,\n",
            "        5489.,  4979.,  3876.,  1223.,   119.,  1338.,   117.,  2064.,\n",
            "        2453.,   774.,  2811.,   102.])>, 'attention_mask': <tf.Tensor: shape=(100,), dtype=float64, numpy=\n",
            "array([1., 1., 1., 1., 1., 1., 1., 1., 1., 1., 1., 1., 1., 1., 1., 1., 1.,\n",
            "       1., 1., 1., 1., 1., 1., 1., 1., 1., 1., 1., 1., 1., 1., 1., 1., 1.,\n",
            "       1., 1., 1., 1., 1., 1., 1., 1., 1., 1., 1., 1., 1., 1., 1., 1., 1.,\n",
            "       1., 1., 1., 1., 1., 1., 1., 1., 1., 1., 1., 1., 1., 1., 1., 1., 1.,\n",
            "       1., 1., 1., 1., 1., 1., 1., 1., 1., 1., 1., 1., 1., 1., 1., 1., 1.,\n",
            "       1., 1., 1., 1., 1., 1., 1., 1., 1., 1., 1., 1., 1., 1., 1.])>}, <tf.Tensor: shape=(2,), dtype=float64, numpy=array([1., 0.])>)\n"
          ]
        }
      ]
    },
    {
      "cell_type": "markdown",
      "source": [
        "# Novo embaralhamento do modelo, distribuído em batches de 2 sentenças\n",
        "- Os batches maiores permitem treinamentos mais rápidos, pois mais palavras são treinadas.\n",
        "- No modelo Tensorflow, batches são de palavras.\n",
        "- Deve haver um equilibrio, pois o modelo pode se \"perder\""
      ],
      "metadata": {
        "id": "lr7QbOMleRzX"
      }
    },
    {
      "cell_type": "code",
      "metadata": {
        "id": "w7PDvpYKJ5eM"
      },
      "source": [
        "dataset = dataset.shuffle(10000).batch(2)"
      ],
      "execution_count": null,
      "outputs": []
    },
    {
      "cell_type": "code",
      "metadata": {
        "colab": {
          "base_uri": "https://localhost:8080/"
        },
        "id": "F5AJNTz5LxJx",
        "outputId": "d93e5908-7297-467c-9deb-22e97c106778"
      },
      "source": [
        "DS_LEN = len(list(dataset))\n",
        "DS_LEN"
      ],
      "execution_count": null,
      "outputs": [
        {
          "output_type": "execute_result",
          "data": {
            "text/plain": [
              "410"
            ]
          },
          "metadata": {},
          "execution_count": 33
        }
      ]
    },
    {
      "cell_type": "markdown",
      "source": [
        "## Sequências de Treinamento e Validação\n",
        "- 90% dos dados para treinamento\n",
        "- 10% para validação"
      ],
      "metadata": {
        "id": "qVwL360PXPJm"
      }
    },
    {
      "cell_type": "code",
      "metadata": {
        "id": "5T3kveJML89R"
      },
      "source": [
        "split = .9\n",
        "train = dataset.take(round(DS_LEN*split))\n",
        "val = dataset.skip(round(DS_LEN*split))"
      ],
      "execution_count": null,
      "outputs": []
    },
    {
      "cell_type": "code",
      "metadata": {
        "colab": {
          "base_uri": "https://localhost:8080/",
          "height": 156,
          "referenced_widgets": [
            "9b040ceed8084263bf86a674623d0414",
            "9561378260da472e90eeb5a83219bdce",
            "8f8689e67f204a458cba3971e8b98351",
            "a12bf7faef9e406cafe0d7b185bcd0c4",
            "0825a69fbfd34fad916b29a00e644b33",
            "ea3d9497535640358bb727626d6de037",
            "c8f86674a8274a188dd2c4e689f3cd00",
            "b8d7e5fb243a4dca9530643da6b6f8d4",
            "67412c99b67147cfb1d1daaa9be2d033",
            "2072352919d44be8876f4c97d8d74304",
            "797537aa56d1425f82269cff350d8c46"
          ]
        },
        "id": "QN4JkrehMf-C",
        "outputId": "0fc896ff-66e2-4fe4-c643-ba3e7e722ba6"
      },
      "source": [
        "from transformers import TFAutoModel\n",
        "bert = TFAutoModel.from_pretrained('neuralmind/bert-base-portuguese-cased', from_pt= True)"
      ],
      "execution_count": null,
      "outputs": [
        {
          "output_type": "display_data",
          "data": {
            "text/plain": [
              "Downloading:   0%|          | 0.00/418M [00:00<?, ?B/s]"
            ],
            "application/vnd.jupyter.widget-view+json": {
              "version_major": 2,
              "version_minor": 0,
              "model_id": "9b040ceed8084263bf86a674623d0414"
            }
          },
          "metadata": {}
        },
        {
          "output_type": "stream",
          "name": "stderr",
          "text": [
            "Some weights of the PyTorch model were not used when initializing the TF 2.0 model TFBertModel: ['cls.predictions.decoder.weight', 'cls.predictions.transform.dense.weight', 'cls.predictions.transform.dense.bias', 'cls.seq_relationship.weight', 'cls.predictions.transform.LayerNorm.bias', 'cls.predictions.bias', 'cls.predictions.transform.LayerNorm.weight', 'cls.seq_relationship.bias']\n",
            "- This IS expected if you are initializing TFBertModel from a PyTorch model trained on another task or with another architecture (e.g. initializing a TFBertForSequenceClassification model from a BertForPreTraining model).\n",
            "- This IS NOT expected if you are initializing TFBertModel from a PyTorch model that you expect to be exactly identical (e.g. initializing a TFBertForSequenceClassification model from a BertForSequenceClassification model).\n",
            "All the weights of TFBertModel were initialized from the PyTorch model.\n",
            "If your task is similar to the task the model of the checkpoint was trained on, you can already use TFBertModel for predictions without further training.\n"
          ]
        }
      ]
    },
    {
      "cell_type": "markdown",
      "source": [
        "# Montagem do modelo TF.BERT\n",
        "- Os arrays de IDs e máscaras são transformados em layers, sendo uma camada de IDs e outra camada de atenção.\n",
        "- A camada de embedding receberá o modelo BERT pré treinado em Português, juntamente com os layers de IDs e Máscaras."
      ],
      "metadata": {
        "id": "UhBx6bXNfjVy"
      }
    },
    {
      "cell_type": "code",
      "source": [
        "input_ids = tf.keras.layers.Input(shape=(SEQ_LEN,),name='input_ids', dtype='int32')\n",
        "mask = tf.keras.layers.Input(shape=(SEQ_LEN,),name='attention_mask', dtype='int32')\n",
        "\n",
        "embeddings = bert(input_ids, attention_mask = mask)[0]"
      ],
      "metadata": {
        "id": "3ouZrlBdBM__"
      },
      "execution_count": null,
      "outputs": []
    },
    {
      "cell_type": "markdown",
      "source": [
        "## Hidden Layers e Output Layer\n",
        " \n",
        "- Assim como nos Modelos Tensorflow, foi usado GlobalMaxPool1D, pela sua rapidez, mas pode ser usada qualquer outra operação matemática. \n",
        "- LSTMs são lentas no treinamento, mas obtêm alta precisão em poucas épocas. \n",
        "- Como os batches são sentenças inteiras, realiza-se uma normalização. Reduz a quantidade de épocas necessárias.\n",
        "- Os próximos layers serão os layers densos, responsáveis pela forma e complexidade do modelo.\n",
        "- O layer final irá retornar os valores previstos No exemplo, são apenas 2 valores."
      ],
      "metadata": {
        "id": "_8417-ClBQ03"
      }
    },
    {
      "cell_type": "code",
      "metadata": {
        "id": "AdyKKzi5NdRw"
      },
      "source": [
        "\n",
        "X = tf.keras.layers.GlobalMaxPool1D()(embeddings)\n",
        "X = tf.keras.layers.BatchNormalization()(X)\n",
        "X = tf.keras.layers.Dense(64, activation='relu')(X)\n",
        "X = tf.keras.layers.Dropout(0.1)(X)\n",
        "X = tf.keras.layers.Dense(32, activation='relu')(X)\n",
        "Y = tf.keras.layers.Dense(2, activation='softmax', name='outputs')(X)\n",
        "\n",
        "model = tf.keras.Model(inputs=[input_ids,mask],outputs=Y)"
      ],
      "execution_count": null,
      "outputs": []
    },
    {
      "cell_type": "markdown",
      "source": [
        "## Importante \n",
        "- O BERT contém layers que podem ser retreinados. Isso não é interessante pois são diversos parametros que podem atrasar o treinamento. Para isso usa-se o seguinte:"
      ],
      "metadata": {
        "id": "6u7OZQIxD8g4"
      }
    },
    {
      "cell_type": "code",
      "metadata": {
        "id": "iITBQnAs08aE"
      },
      "source": [
        "model.layers[2].trainable = False"
      ],
      "execution_count": null,
      "outputs": []
    },
    {
      "cell_type": "markdown",
      "source": [
        "## Finalização do modelo\n",
        "- Realizada com a função \"sumary()\".\n",
        "- Exibe todas as características dos layers, e quantidadade de parâmetros do treinamento.\n",
        "- Nota-se que o BERT contém milhões de parâmetros, enquanto o dataset contém cerca de 52 mil. Apenas estes serão treinados."
      ],
      "metadata": {
        "id": "MeTFnnbtE0S5"
      }
    },
    {
      "cell_type": "code",
      "metadata": {
        "colab": {
          "base_uri": "https://localhost:8080/"
        },
        "id": "IY9L67cA1MUK",
        "outputId": "15d40a17-112d-46e5-ac97-7dc2dcde440d"
      },
      "source": [
        "model.summary()"
      ],
      "execution_count": null,
      "outputs": [
        {
          "output_type": "stream",
          "name": "stdout",
          "text": [
            "Model: \"model\"\n",
            "__________________________________________________________________________________________________\n",
            " Layer (type)                   Output Shape         Param #     Connected to                     \n",
            "==================================================================================================\n",
            " input_ids (InputLayer)         [(None, 100)]        0           []                               \n",
            "                                                                                                  \n",
            " attention_mask (InputLayer)    [(None, 100)]        0           []                               \n",
            "                                                                                                  \n",
            " tf_bert_model (TFBertModel)    TFBaseModelOutputWi  108923136   ['input_ids[0][0]',              \n",
            "                                thPoolingAndCrossAt               'attention_mask[0][0]']         \n",
            "                                tentions(last_hidde                                               \n",
            "                                n_state=(None, 100,                                               \n",
            "                                 768),                                                            \n",
            "                                 pooler_output=(Non                                               \n",
            "                                e, 768),                                                          \n",
            "                                 past_key_values=No                                               \n",
            "                                ne, hidden_states=N                                               \n",
            "                                one, attentions=Non                                               \n",
            "                                e, cross_attentions                                               \n",
            "                                =None)                                                            \n",
            "                                                                                                  \n",
            " global_max_pooling1d (GlobalMa  (None, 768)         0           ['tf_bert_model[0][0]']          \n",
            " xPooling1D)                                                                                      \n",
            "                                                                                                  \n",
            " batch_normalization (BatchNorm  (None, 768)         3072        ['global_max_pooling1d[0][0]']   \n",
            " alization)                                                                                       \n",
            "                                                                                                  \n",
            " dense (Dense)                  (None, 64)           49216       ['batch_normalization[0][0]']    \n",
            "                                                                                                  \n",
            " dropout_37 (Dropout)           (None, 64)           0           ['dense[0][0]']                  \n",
            "                                                                                                  \n",
            " dense_1 (Dense)                (None, 32)           2080        ['dropout_37[0][0]']             \n",
            "                                                                                                  \n",
            " outputs (Dense)                (None, 2)            66          ['dense_1[0][0]']                \n",
            "                                                                                                  \n",
            "==================================================================================================\n",
            "Total params: 108,977,570\n",
            "Trainable params: 52,898\n",
            "Non-trainable params: 108,924,672\n",
            "__________________________________________________________________________________________________\n"
          ]
        }
      ]
    },
    {
      "cell_type": "markdown",
      "source": [
        "# Definição da Função Loss, métrica e compilação\n",
        "- A função loss é definida de acordo com o output layer, pois determina a quantidade de neurônios finais.\n",
        "- A métrica é a propriedade que será rastreada durante o treinamento. Utilizando 'acc', será observada a precisão.\n",
        "- O Otimizador influencia na velocidade e performance do modelo."
      ],
      "metadata": {
        "id": "ZZGq5BO3FxEp"
      }
    },
    {
      "cell_type": "code",
      "source": [
        "optimizer = tf.keras.optimizers.Adam(0.001,decay=1e-6)\n",
        "loss = tf.keras.losses.CategoricalCrossentropy()  # categorical = one-hot\n",
        "acc = tf.keras.metrics.CategoricalAccuracy('accuracy')\n",
        "\n",
        "model.compile(optimizer=optimizer, loss=loss, metrics=[acc])"
      ],
      "metadata": {
        "id": "Ag9ZzZTcF-Qq"
      },
      "execution_count": null,
      "outputs": []
    },
    {
      "cell_type": "markdown",
      "source": [
        "# Treinamento e Validação\n",
        "- Modelo sendo treinado com 40 épocas,"
      ],
      "metadata": {
        "id": "kPr4lrhGRZcP"
      }
    },
    {
      "cell_type": "code",
      "metadata": {
        "id": "AvYziQr41QAr",
        "colab": {
          "base_uri": "https://localhost:8080/"
        },
        "outputId": "aa08af85-d246-45d3-9eb1-ecb0ebe73c44"
      },
      "source": [
        "import time\n",
        "start = time.perf_counter()\n",
        "\n",
        "history = model.fit(train, validation_data=val, epochs=40, verbose = 2)\n",
        "\n",
        "finish = time.perf_counter()\n",
        "print(f'\\nFinished in {round(finish-start, 2)} second(s)')"
      ],
      "execution_count": null,
      "outputs": [
        {
          "output_type": "stream",
          "name": "stdout",
          "text": [
            "Epoch 1/40\n",
            "369/369 - 73s - loss: 0.7426 - accuracy: 0.5894 - val_loss: 0.4813 - val_accuracy: 0.8049 - 73s/epoch - 199ms/step\n",
            "Epoch 2/40\n",
            "369/369 - 40s - loss: 0.6478 - accuracy: 0.6179 - val_loss: 0.4981 - val_accuracy: 0.7439 - 40s/epoch - 108ms/step\n",
            "Epoch 3/40\n",
            "369/369 - 33s - loss: 0.5942 - accuracy: 0.6856 - val_loss: 0.4610 - val_accuracy: 0.7195 - 33s/epoch - 90ms/step\n",
            "Epoch 4/40\n",
            "369/369 - 33s - loss: 0.5951 - accuracy: 0.7046 - val_loss: 0.3340 - val_accuracy: 0.8415 - 33s/epoch - 88ms/step\n",
            "Epoch 5/40\n",
            "369/369 - 33s - loss: 0.5872 - accuracy: 0.6883 - val_loss: 0.3679 - val_accuracy: 0.8537 - 33s/epoch - 90ms/step\n",
            "Epoch 6/40\n",
            "369/369 - 32s - loss: 0.5808 - accuracy: 0.6843 - val_loss: 0.3154 - val_accuracy: 0.8537 - 32s/epoch - 87ms/step\n",
            "Epoch 7/40\n",
            "369/369 - 32s - loss: 0.5602 - accuracy: 0.7087 - val_loss: 0.3417 - val_accuracy: 0.8780 - 32s/epoch - 86ms/step\n",
            "Epoch 8/40\n",
            "369/369 - 32s - loss: 0.5708 - accuracy: 0.7019 - val_loss: 0.2825 - val_accuracy: 0.9146 - 32s/epoch - 86ms/step\n",
            "Epoch 9/40\n",
            "369/369 - 32s - loss: 0.5781 - accuracy: 0.6843 - val_loss: 0.4043 - val_accuracy: 0.8537 - 32s/epoch - 88ms/step\n",
            "Epoch 10/40\n",
            "369/369 - 32s - loss: 0.5326 - accuracy: 0.7114 - val_loss: 0.2385 - val_accuracy: 0.9146 - 32s/epoch - 86ms/step\n",
            "Epoch 11/40\n",
            "369/369 - 33s - loss: 0.5414 - accuracy: 0.7141 - val_loss: 0.2433 - val_accuracy: 0.9268 - 33s/epoch - 89ms/step\n",
            "Epoch 12/40\n",
            "369/369 - 32s - loss: 0.5361 - accuracy: 0.7371 - val_loss: 0.2675 - val_accuracy: 0.9146 - 32s/epoch - 86ms/step\n",
            "Epoch 13/40\n",
            "369/369 - 33s - loss: 0.5007 - accuracy: 0.7547 - val_loss: 0.2801 - val_accuracy: 0.8780 - 33s/epoch - 90ms/step\n",
            "Epoch 14/40\n",
            "369/369 - 32s - loss: 0.5465 - accuracy: 0.7168 - val_loss: 0.2393 - val_accuracy: 0.8902 - 32s/epoch - 87ms/step\n",
            "Epoch 15/40\n",
            "369/369 - 31s - loss: 0.5135 - accuracy: 0.7317 - val_loss: 0.2248 - val_accuracy: 0.9024 - 31s/epoch - 85ms/step\n",
            "Epoch 16/40\n",
            "369/369 - 32s - loss: 0.5172 - accuracy: 0.7195 - val_loss: 0.2213 - val_accuracy: 0.9268 - 32s/epoch - 87ms/step\n",
            "Epoch 17/40\n",
            "369/369 - 31s - loss: 0.5199 - accuracy: 0.7290 - val_loss: 0.1866 - val_accuracy: 0.9268 - 31s/epoch - 85ms/step\n",
            "Epoch 18/40\n",
            "369/369 - 32s - loss: 0.4878 - accuracy: 0.7398 - val_loss: 0.2203 - val_accuracy: 0.9146 - 32s/epoch - 87ms/step\n",
            "Epoch 19/40\n",
            "369/369 - 32s - loss: 0.4912 - accuracy: 0.7629 - val_loss: 0.1419 - val_accuracy: 0.9634 - 32s/epoch - 86ms/step\n",
            "Epoch 20/40\n",
            "369/369 - 32s - loss: 0.5020 - accuracy: 0.7520 - val_loss: 0.1874 - val_accuracy: 0.9390 - 32s/epoch - 86ms/step\n",
            "Epoch 21/40\n",
            "369/369 - 31s - loss: 0.5033 - accuracy: 0.7453 - val_loss: 0.1493 - val_accuracy: 0.9512 - 31s/epoch - 85ms/step\n",
            "Epoch 22/40\n",
            "369/369 - 32s - loss: 0.5070 - accuracy: 0.7358 - val_loss: 0.1458 - val_accuracy: 0.9878 - 32s/epoch - 86ms/step\n",
            "Epoch 23/40\n",
            "369/369 - 31s - loss: 0.4807 - accuracy: 0.7602 - val_loss: 0.1429 - val_accuracy: 0.9268 - 31s/epoch - 85ms/step\n",
            "Epoch 24/40\n",
            "369/369 - 31s - loss: 0.5033 - accuracy: 0.7588 - val_loss: 0.1397 - val_accuracy: 0.9512 - 31s/epoch - 85ms/step\n",
            "Epoch 25/40\n",
            "369/369 - 32s - loss: 0.4724 - accuracy: 0.7710 - val_loss: 0.1255 - val_accuracy: 0.9634 - 32s/epoch - 87ms/step\n",
            "Epoch 26/40\n",
            "369/369 - 32s - loss: 0.5087 - accuracy: 0.7480 - val_loss: 0.1790 - val_accuracy: 0.9390 - 32s/epoch - 86ms/step\n",
            "Epoch 27/40\n",
            "369/369 - 32s - loss: 0.4723 - accuracy: 0.7737 - val_loss: 0.1463 - val_accuracy: 0.9390 - 32s/epoch - 88ms/step\n",
            "Epoch 28/40\n",
            "369/369 - 32s - loss: 0.4564 - accuracy: 0.7751 - val_loss: 0.1151 - val_accuracy: 0.9634 - 32s/epoch - 87ms/step\n",
            "Epoch 29/40\n",
            "369/369 - 32s - loss: 0.4452 - accuracy: 0.7791 - val_loss: 0.1650 - val_accuracy: 0.9390 - 32s/epoch - 86ms/step\n",
            "Epoch 30/40\n",
            "369/369 - 32s - loss: 0.4553 - accuracy: 0.7832 - val_loss: 0.0863 - val_accuracy: 0.9878 - 32s/epoch - 87ms/step\n",
            "Epoch 31/40\n",
            "369/369 - 32s - loss: 0.4729 - accuracy: 0.7737 - val_loss: 0.0915 - val_accuracy: 0.9634 - 32s/epoch - 86ms/step\n",
            "Epoch 32/40\n",
            "369/369 - 32s - loss: 0.4780 - accuracy: 0.7751 - val_loss: 0.1386 - val_accuracy: 0.9634 - 32s/epoch - 87ms/step\n",
            "Epoch 33/40\n",
            "369/369 - 32s - loss: 0.4770 - accuracy: 0.7561 - val_loss: 0.0905 - val_accuracy: 0.9756 - 32s/epoch - 88ms/step\n",
            "Epoch 34/40\n",
            "369/369 - 32s - loss: 0.4495 - accuracy: 0.7832 - val_loss: 0.0630 - val_accuracy: 0.9878 - 32s/epoch - 86ms/step\n",
            "Epoch 35/40\n",
            "369/369 - 31s - loss: 0.4315 - accuracy: 0.7886 - val_loss: 0.1950 - val_accuracy: 0.9268 - 31s/epoch - 85ms/step\n",
            "Epoch 36/40\n",
            "369/369 - 32s - loss: 0.4362 - accuracy: 0.7913 - val_loss: 0.0749 - val_accuracy: 0.9756 - 32s/epoch - 87ms/step\n",
            "Epoch 37/40\n",
            "369/369 - 32s - loss: 0.4252 - accuracy: 0.7967 - val_loss: 0.1570 - val_accuracy: 0.9024 - 32s/epoch - 87ms/step\n",
            "Epoch 38/40\n",
            "369/369 - 31s - loss: 0.4325 - accuracy: 0.8062 - val_loss: 0.0850 - val_accuracy: 0.9756 - 31s/epoch - 85ms/step\n",
            "Epoch 39/40\n",
            "369/369 - 32s - loss: 0.4513 - accuracy: 0.7818 - val_loss: 0.0761 - val_accuracy: 0.9756 - 32s/epoch - 86ms/step\n",
            "Epoch 40/40\n",
            "369/369 - 31s - loss: 0.4193 - accuracy: 0.8035 - val_loss: 0.1366 - val_accuracy: 0.9512 - 31s/epoch - 85ms/step\n",
            "\n",
            "Finished in 1500.42 second(s)\n"
          ]
        }
      ]
    },
    {
      "cell_type": "code",
      "metadata": {
        "colab": {
          "base_uri": "https://localhost:8080/",
          "height": 312
        },
        "id": "ehJpas9r_XcB",
        "outputId": "827310de-c9d8-4eac-b135-0d58b476a608"
      },
      "source": [
        "plt.plot(history.history['accuracy'])\n",
        "plt.plot(history.history['val_accuracy'])\n",
        "plt.title('model accuracy')\n",
        "plt.ylabel('accuracy')\n",
        "plt.xlabel('epoch')\n",
        "plt.legend(['train', 'val'], loc='upper left')\n",
        "plt.show()\n",
        "plt.savefig('model_accuracy.png')"
      ],
      "execution_count": null,
      "outputs": [
        {
          "output_type": "display_data",
          "data": {
            "text/plain": [
              "<Figure size 432x288 with 1 Axes>"
            ],
            "image/png": "[encoded data removed]"
          },
          "metadata": {}
        },
        {
          "output_type": "display_data",
          "data": {
            "text/plain": [
              "<Figure size 432x288 with 0 Axes>"
            ]
          },
          "metadata": {}
        }
      ]
    },
    {
      "cell_type": "code",
      "metadata": {
        "colab": {
          "base_uri": "https://localhost:8080/",
          "height": 312
        },
        "id": "OQQ_MgBiKjHD",
        "outputId": "d13bc4ff-69d9-4343-fdba-4fb433f13624"
      },
      "source": [
        "plt.plot(history.history['loss'])\n",
        "plt.plot(history.history['val_loss'])\n",
        "plt.title('model loss')\n",
        "plt.ylabel('loss')\n",
        "plt.xlabel('epoch')\n",
        "plt.legend(['train', 'val'], loc='upper left')\n",
        "plt.show()\n",
        "plt.savefig('model_loss.png')"
      ],
      "execution_count": null,
      "outputs": [
        {
          "output_type": "display_data",
          "data": {
            "text/plain": [
              "<Figure size 432x288 with 1 Axes>"
            ],
            "image/png": "[encoded data removed]"
          },
          "metadata": {}
        },
        {
          "output_type": "display_data",
          "data": {
            "text/plain": [
              "<Figure size 432x288 with 0 Axes>"
            ]
          },
          "metadata": {}
        }
      ]
    },
    {
      "cell_type": "markdown",
      "source": [
        "# Carregamento e preparação do Dataset de Testes\n",
        "- O dataset de testes passa pelo mesmo processo de limpeza e tokenização."
      ],
      "metadata": {
        "id": "vCK1U6PU5MjM"
      }
    },
    {
      "cell_type": "code",
      "metadata": {
        "id": "Do836vbQ4QKg"
      },
      "source": [
        "dt = get_data(eval_csv,1)\n",
        "pat(dt)\n",
        "make_test(dt)"
      ],
      "execution_count": null,
      "outputs": []
    },
    {
      "cell_type": "code",
      "metadata": {
        "id": "9AQKuL6TIvdn"
      },
      "source": [
        "Tids = np.zeros((len(dt),SEQ_LEN))\n",
        "Tmask = np.zeros((len(dt),SEQ_LEN))"
      ],
      "execution_count": null,
      "outputs": []
    },
    {
      "cell_type": "code",
      "metadata": {
        "id": "4eBv0en3ILqH"
      },
      "source": [
        "for i, sequence in enumerate(dt['texto']):\n",
        "    tokensT = tokenizer.encode_plus(sequence, max_length=SEQ_LEN, truncation= True, padding=\"max_length\", \n",
        "                               add_special_tokens= True, return_token_type_ids= False, return_attention_mask= True, return_tensors= 'tf')\n",
        "    Tids[i,:], Tmask[i,:] = tokensT['input_ids'], tokensT['attention_mask']"
      ],
      "execution_count": null,
      "outputs": []
    },
    {
      "cell_type": "code",
      "metadata": {
        "id": "PkJAKFBegKHr"
      },
      "source": [
        "arrT = dt['valor'].values\n",
        "labelsT = np.zeros((arrT.size, arrT.max()+1))\n",
        "labelsT[np.arange(arrT.size),arrT] = 1"
      ],
      "execution_count": null,
      "outputs": []
    },
    {
      "cell_type": "code",
      "metadata": {
        "id": "jcqufjFUey-h"
      },
      "source": [
        "datasetT = tf.data.Dataset.from_tensor_slices((Tids,Tmask,labelsT))"
      ],
      "execution_count": null,
      "outputs": []
    },
    {
      "cell_type": "code",
      "metadata": {
        "id": "MAmxCOGalfE1"
      },
      "source": [
        "datasetT = datasetT.map(map_function)"
      ],
      "execution_count": null,
      "outputs": []
    },
    {
      "cell_type": "code",
      "metadata": {
        "id": "v7i_4fySmL17"
      },
      "source": [
        "datasetT = datasetT.batch(2)"
      ],
      "execution_count": null,
      "outputs": []
    },
    {
      "cell_type": "code",
      "source": [
        "def remap_function(input_ids,mask):\n",
        "  return {'input_ids':input_ids,'attention_mask':mask}"
      ],
      "metadata": {
        "id": "XlM4bxQGbXHw"
      },
      "execution_count": null,
      "outputs": []
    },
    {
      "cell_type": "code",
      "source": [
        "def precision(test_labels,predictions):\n",
        "    counter = len(test_labels)\n",
        "    list_c = [i for i,j in zip(predictions,test_labels) if i == j]\n",
        "    return len(list_c)/counter*100"
      ],
      "metadata": {
        "id": "Mk53FLvMbbqg"
      },
      "execution_count": null,
      "outputs": []
    },
    {
      "cell_type": "code",
      "source": [
        "test_sentences = dt.texto.to_numpy()\n",
        "test_labels = dt.valor.to_numpy()"
      ],
      "metadata": {
        "id": "9yJdwyw0blar"
      },
      "execution_count": null,
      "outputs": []
    },
    {
      "cell_type": "code",
      "metadata": {
        "colab": {
          "base_uri": "https://localhost:8080/"
        },
        "id": "EagxpkByIM2u",
        "outputId": "51d50121-83bc-4a55-ba01-a99456f0fc4b"
      },
      "source": [
        "predictions_t = model.predict(datasetT)\n",
        "#predictions_t = [np.argmax(element) for element in predictions_t]\n",
        "print(predictions_t)\n",
        "#print(precision(test_labels,predictions_t))"
      ],
      "execution_count": null,
      "outputs": [
        {
          "output_type": "stream",
          "name": "stdout",
          "text": [
            "[[1.09012023e-01 8.90987933e-01]\n",
            " [9.87526953e-01 1.24730971e-02]\n",
            " [9.98964906e-01 1.03510369e-03]\n",
            " [9.66479957e-01 3.35201211e-02]\n",
            " [6.47579059e-02 9.35242057e-01]\n",
            " [1.18047006e-04 9.99881983e-01]\n",
            " [8.56648088e-01 1.43351942e-01]\n",
            " [9.99997854e-01 2.19118283e-06]]\n"
          ]
        }
      ]
    },
    {
      "cell_type": "markdown",
      "source": [
        "# Testes com sentenças avulsas\n",
        "- É possivel testar o modelo diretamente em um resumo, basta que o texto passe pelo mesmo processo de limpeza, formatação e tokenização. A função abaixo automatiza esse processo."
      ],
      "metadata": {
        "id": "qGVWxKtM75xv"
      }
    },
    {
      "cell_type": "code",
      "metadata": {
        "id": "jP3OjSYU7QT5"
      },
      "source": [
        "def previsao(teste,modelT):\n",
        "  teste = prepare(teste)\n",
        "  tokensT = tokenizer.encode_plus(teste, max_length=SEQ_LEN, truncation= True, \n",
        "                                  padding=\"max_length\", add_special_tokens= True, \n",
        "                                  return_token_type_ids= False, \n",
        "                                  return_attention_mask= True, return_tensors= 'tf')\n",
        "  TTID, TTM = tokensT['input_ids'], tokensT['attention_mask']\n",
        "  TT_seq = tf.data.Dataset.from_tensor_slices((TTID,TTM))\n",
        "  TT_seq = TT_seq.map(remap_function)\n",
        "  TT_seq = TT_seq.batch(2)  \n",
        "  predictionsT= modelT.predict(TT_seq)  \n",
        "  result = np.argmax(predictionsT)\n",
        "  return result\n"
      ],
      "execution_count": null,
      "outputs": []
    },
    {
      "cell_type": "code",
      "metadata": {
        "id": "NaciPltV0XHO"
      },
      "source": [
        "teste_1 = \"O objetivo deste trabalho é propor um algoritmo para realizar a identificação de padrões na vocalização suína, visando determinar o nível do bem-estar do animal. Tal análise foi proposta uma vez que o bem-estar animal é um assunto cada vez mais abordado no mundo todo, principalmente quando os animais são criados para o abate. Dessa forma, a criação de um método em que haja o mínimo de contato com os animais se faz importante, evitando que tal contato altere o comportamento do animal e, conseqüentemente, o resultado da análise de seu bem-estar. Por essas características, foi proposto um método de análise dos sons emitidos pelos suínos com base na utilização de uma Rede Neural Artificial do tipo Radial Basis Function, a qual possui como elementos de treinamento e operação um conjunto de características extraídas através da Transformada Discreta Wavelet de sinais sonoros pré-gravados. As características obtidas dos sinais foram as energias das bandas críticas relativas à Escala Bark e a diferença entre as energias das bandas adjacentes, além dimensão fractal do sinal. Através desse método foram analisados dois tipos de sinais sonoros: a vocalização de leitões saudáveis e de leitões acometidos por uma doença chamada Artrite Traumática; e a vocalização de suínos adultos em situações de conforto e desconforto. Os resultados demonstram que a análise proposta atingiu bons patamares de acerto na determinação do bem-estar do animal\"\n",
        "#eletronica1"
      ],
      "execution_count": null,
      "outputs": []
    },
    {
      "cell_type": "code",
      "metadata": {
        "colab": {
          "base_uri": "https://localhost:8080/"
        },
        "id": "D2DIclnB_amk",
        "outputId": "da60011d-3dc5-47e1-8860-541a972027f3"
      },
      "source": [
        "previsao(teste_1,model)"
      ],
      "execution_count": null,
      "outputs": [
        {
          "output_type": "execute_result",
          "data": {
            "text/plain": [
              "1"
            ]
          },
          "metadata": {},
          "execution_count": 74
        }
      ]
    },
    {
      "cell_type": "code",
      "metadata": {
        "id": "-VfsZ_GH0zCV"
      },
      "source": [
        "teste_2 = \"Produzindo inicialmente motores elétricos, a WEG ampliou suas atividades a partir da década de 80, com a produção de componentes eletroeletrônicos, produtos para automação industrial, transformadores de força e distribuição, tintas líquidas e em pó e vernizes eletroisolantes. A empresa se consolidou não só como fabricante de motores, mas como fornecedora de sistemas elétricos industriais completos.\"\n",
        "#eletrica0"
      ],
      "execution_count": null,
      "outputs": []
    },
    {
      "cell_type": "code",
      "metadata": {
        "colab": {
          "base_uri": "https://localhost:8080/"
        },
        "id": "1ZjqBbUi8FUX",
        "outputId": "ef4877dd-8339-4816-e3ca-ec5d191eb06b"
      },
      "source": [
        "previsao(teste_2,model)"
      ],
      "execution_count": null,
      "outputs": [
        {
          "output_type": "execute_result",
          "data": {
            "text/plain": [
              "0"
            ]
          },
          "metadata": {},
          "execution_count": 66
        }
      ]
    },
    {
      "cell_type": "code",
      "metadata": {
        "id": "nMEwzdqB88UH"
      },
      "source": [
        "teste_3 = \"Numa definição mais abrangente, podemos dizer que a eletrônica é o ramo da ciência que estuda o uso de circuitos formados por componentes elétricos e eletrônicos, com o objetivo principal de representar, armazenar, transmitir ou processar informações além do controle de processos e servomecanismos. Sob esta ótica, também se pode afirmar que os circuitos internos dos computadores (que armazenam e processam informações), os sistemas de telecomunicações (que transmitem informações), os diversos tipos de sensores e transdutores (que representam grandezas físicas - informações - sob forma de sinais elétricos) estão, todos, dentro da área de interesse da eletrônica.\"\n",
        "#eletronica1"
      ],
      "execution_count": null,
      "outputs": []
    },
    {
      "cell_type": "code",
      "metadata": {
        "colab": {
          "base_uri": "https://localhost:8080/"
        },
        "id": "lKZ6hBTe8_WX",
        "outputId": "f3844f13-669d-44b5-d50f-10e38b094b4a"
      },
      "source": [
        "previsao(teste_3,model)"
      ],
      "execution_count": null,
      "outputs": [
        {
          "output_type": "execute_result",
          "data": {
            "text/plain": [
              "1"
            ]
          },
          "metadata": {},
          "execution_count": 65
        }
      ]
    },
    {
      "cell_type": "code",
      "metadata": {
        "id": "IACPRkpkBYRi"
      },
      "source": [
        "teste_4 = \"projeto visa nova abordagem sistema vigilância móvel autônomo. pulseira biométrica coleta dados sobre batimento cardíaco usuário envia, via bluetooth, módulo processamento, smartphone sistema operacional android, faz análise destes batimentos cardíacos define usuário passando alguma situação risco morte, extremo estresse. smartphone escreve, periodicamente, informações tempo imediato sobre usuário, localização geográfica batimentos cardíacos, banco dados nuvem que, vez, contém informações pessoais usuário, tipo sanguíneo, telefone contato emergencial, alergias, outros. premissa dados nuvem acessíveis todo momento servidor externo servirem base socorro médico emergencial, seja, sistema visa prover auxílio imediato maneira proativa autônoma, modo preservar vidas, sendo baixo custo alcançável grande parte população. realizados diversos testes simulações demonstrando adequabilidade sistema proposto situações problema apresentadas\"\n",
        "#eletronica1"
      ],
      "execution_count": null,
      "outputs": []
    },
    {
      "cell_type": "code",
      "metadata": {
        "colab": {
          "base_uri": "https://localhost:8080/"
        },
        "id": "BgZR-VI2Bd4B",
        "outputId": "d3aa6332-1b98-4b49-c9ee-c537e8cc708f"
      },
      "source": [
        "previsao(teste_4,model)"
      ],
      "execution_count": null,
      "outputs": [
        {
          "output_type": "execute_result",
          "data": {
            "text/plain": [
              "1"
            ]
          },
          "metadata": {},
          "execution_count": 64
        }
      ]
    },
    {
      "cell_type": "markdown",
      "source": [
        "# Salvando um modelo BERT/Tensorflow\n",
        "- Para o modelo ser utilizado na aplicação de fato (ex AutorIA), ele deve ser salvo, assim como o tokenizador.\n",
        "- De forma diferente do Tensorflow, o tokenizador bert é salvo como um modelo. \n",
        "- Para isso usa-se as funções abaixo:"
      ],
      "metadata": {
        "id": "oPczldJd_WlS"
      }
    },
    {
      "cell_type": "code",
      "metadata": {
        "id": "h4L8XVeZnODY"
      },
      "source": [
        "def save_trained(model,bert,tokenizer):\n",
        "  # model.save('./saved_models')\n",
        "  # model.save_spec('./saved_models')\n",
        "  # model.save_weights('./saved_models')\n",
        "  bert.save_pretrained('./saved_BertModel')\n",
        "  bert.save_weights('./saved_BertModel')\n",
        "  tokenizer.save_pretrained('./saved_tokenizer')"
      ],
      "execution_count": null,
      "outputs": []
    },
    {
      "cell_type": "code",
      "metadata": {
        "id": "HJkpKtu7wb1c"
      },
      "source": [
        "def load_trained(new_model,tokenizer2):\n",
        "  from transformers import BertTokenizer\n",
        "  new_model = TFAutoModel.from_pretrained('./saved_BertModel/')\n",
        "  tokenizer2 = BertTokenizer.from_pretrained('./saved_tokenizer/')"
      ],
      "execution_count": null,
      "outputs": []
    },
    {
      "cell_type": "markdown",
      "source": [
        "## Salvar máscaras e IDs de um dataset, para treinamentos  futuros.\n",
        "- Modelos BERT são pesados. \n",
        "- Arquivos .npy são mais eficientes do que arquivos csv\n",
        "- Podem ser carregados direto no modelo."
      ],
      "metadata": {
        "id": "QWW00uavVFXx"
      }
    },
    {
      "cell_type": "code",
      "source": [
        "with open('xids.npy','wb') as f:\n",
        "  np.save(f,Xids)\n",
        "with open('xmask.npy','wb') as f:\n",
        "  np.save(f,Xmask)\n",
        "with open('labels.npy','wb') as f:\n",
        "  np.save(f,labels)"
      ],
      "metadata": {
        "id": "cz8i4A6Q9gQe"
      },
      "execution_count": null,
      "outputs": []
    },
    {
      "cell_type": "code",
      "source": [
        "del Xids, Xmask, labels"
      ],
      "metadata": {
        "id": "6F04_Fgx9cRe"
      },
      "execution_count": null,
      "outputs": []
    },
    {
      "cell_type": "code",
      "metadata": {
        "id": "PtBzDoSEEXBK"
      },
      "source": [
        "with open('xids.npy','rb') as fp:\n",
        "  Xids = np.load(fp)\n",
        "with open('xmask.npy','rb') as fp:\n",
        "  Xmask = np.load(fp)\n",
        "with open('labels.npy','rb') as fp:\n",
        "  labels = np.load(fp)"
      ],
      "execution_count": null,
      "outputs": []
    },
    {
      "cell_type": "markdown",
      "source": [
        "# Referências e Citação\n",
        "\n",
        "### BERTimbal, por NeuralmindAI."
      ],
      "metadata": {
        "id": "M1R2_Uyo8juQ"
      }
    },
    {
      "cell_type": "code",
      "metadata": {
        "id": "3mjjYXxPD9xn",
        "colab": {
          "base_uri": "https://localhost:8080/",
          "height": 87
        },
        "outputId": "e19018d3-f22c-401a-cadf-f272d9f1436b"
      },
      "source": [
        "\"\"\"\n",
        "@inproceedings{souza2020bertimbau,\n",
        "    author    = {Souza, F{\\'a}bio and Nogueira, Rodrigo and Lotufo, Roberto},\n",
        "    title     = {{BERT}imbau: pretrained {BERT} models for {B}razilian {P}ortuguese},\n",
        "    booktitle = {9th Brazilian Conference on Intelligent Systems, {BRACIS}, Rio Grande do Sul, Brazil, October 20-23 (to appear)},\n",
        "    year      = {2020}\n",
        "}\n",
        "\n",
        "@article{souza2019portuguese,\n",
        "    title={Portuguese Named Entity Recognition using BERT-CRF},\n",
        "    author={Souza, F{\\'a}bio and Nogueira, Rodrigo and Lotufo, Roberto},\n",
        "    journal={arXiv preprint arXiv:1909.10649},\n",
        "    url={http://arxiv.org/abs/1909.10649},\n",
        "    year={2019}\n",
        "}\n",
        "\"\"\""
      ],
      "execution_count": null,
      "outputs": [
        {
          "output_type": "execute_result",
          "data": {
            "text/plain": [
              "\"\\n@inproceedings{souza2020bertimbau,\\n    author    = {Souza, F{'a}bio and Nogueira, Rodrigo and Lotufo, Roberto},\\n    title     = {{BERT}imbau: pretrained {BERT} models for {B}razilian {P}ortuguese},\\n    booktitle = {9th Brazilian Conference on Intelligent Systems, {BRACIS}, Rio Grande do Sul, Brazil, October 20-23 (to appear)},\\n    year      = {2020}\\n}\\n\\n@article{souza2019portuguese,\\n    title={Portuguese Named Entity Recognition using BERT-CRF},\\n    author={Souza, F{'a}bio and Nogueira, Rodrigo and Lotufo, Roberto},\\n    journal={arXiv preprint arXiv:1909.10649},\\n    url={http://arxiv.org/abs/1909.10649},\\n    year={2019}\\n}\\n\""
            ],
            "application/vnd.google.colaboratory.intrinsic+json": {
              "type": "string"
            }
          },
          "metadata": {},
          "execution_count": 72
        }
      ]
    }
  ]
}